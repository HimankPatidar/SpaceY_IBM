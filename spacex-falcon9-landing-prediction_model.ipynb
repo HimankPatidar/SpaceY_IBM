{
 "cells": [
  {
   "cell_type": "markdown",
   "id": "b2768c2a",
   "metadata": {
    "papermill": {
     "duration": 0.022626,
     "end_time": "2025-02-02T16:10:37.461493",
     "exception": false,
     "start_time": "2025-02-02T16:10:37.438867",
     "status": "completed"
    },
    "tags": []
   },
   "source": [
    "# **SpaceX  Falcon 9 first stage Landing Prediction**\n"
   ]
  },
  {
   "cell_type": "markdown",
   "id": "dfb38eea",
   "metadata": {
    "papermill": {
     "duration": 0.021475,
     "end_time": "2025-02-02T16:10:37.504467",
     "exception": false,
     "start_time": "2025-02-02T16:10:37.482992",
     "status": "completed"
    },
    "tags": []
   },
   "source": [
    "SpaceX advertises Falcon 9 rocket launches on its website with a cost of 62 million dollars; other providers cost upward of 165 million dollars each, much of the savings is because SpaceX can reuse the first stage. Therefore if we can determine if the first stage will land, we can determine the cost of a launch. This information can be used if an alternate company wants to bid against SpaceX for a rocket launch. In this lab, you will collect and make sure the data is in the correct format from an API. The following is an example of a successful and launch.\n",
    "\n"
   ]
  },
  {
   "cell_type": "markdown",
   "id": "2fc5a208",
   "metadata": {
    "papermill": {
     "duration": 0.021463,
     "end_time": "2025-02-02T16:10:37.547257",
     "exception": false,
     "start_time": "2025-02-02T16:10:37.525794",
     "status": "completed"
    },
    "tags": []
   },
   "source": [
    "![](https://cf-courses-data.s3.us.cloud-object-storage.appdomain.cloud/IBMDeveloperSkillsNetwork-DS0701EN-SkillsNetwork/lab_v2/images/landing_1.gif)\n"
   ]
  },
  {
   "cell_type": "markdown",
   "id": "aa74c9d9",
   "metadata": {
    "papermill": {
     "duration": 0.021791,
     "end_time": "2025-02-02T16:10:37.590744",
     "exception": false,
     "start_time": "2025-02-02T16:10:37.568953",
     "status": "completed"
    },
    "tags": []
   },
   "source": [
    "![](https://cf-courses-data.s3.us.cloud-object-storage.appdomain.cloud/IBMDeveloperSkillsNetwork-DS0701EN-SkillsNetwork/lab_v2/images/crash.gif)\n"
   ]
  },
  {
   "cell_type": "markdown",
   "id": "ef9c41b9",
   "metadata": {
    "papermill": {
     "duration": 0.021071,
     "end_time": "2025-02-02T16:10:37.633448",
     "exception": false,
     "start_time": "2025-02-02T16:10:37.612377",
     "status": "completed"
    },
    "tags": []
   },
   "source": [
    "### Import Libraries"
   ]
  },
  {
   "cell_type": "code",
   "execution_count": 1,
   "id": "aa0aed07",
   "metadata": {
    "_cell_guid": "b1076dfc-b9ad-4769-8c92-a6c4dae69d19",
    "_uuid": "8f2839f25d086af736a60e9eeb907d3b93b6e0e5",
    "execution": {
     "iopub.execute_input": "2025-02-02T16:10:37.679541Z",
     "iopub.status.busy": "2025-02-02T16:10:37.679132Z",
     "iopub.status.idle": "2025-02-02T16:10:40.525367Z",
     "shell.execute_reply": "2025-02-02T16:10:40.524013Z"
    },
    "papermill": {
     "duration": 2.872305,
     "end_time": "2025-02-02T16:10:40.527529",
     "exception": false,
     "start_time": "2025-02-02T16:10:37.655224",
     "status": "completed"
    },
    "tags": []
   },
   "outputs": [],
   "source": [
    "import numpy as np\n",
    "import pandas as pd\n",
    "import matplotlib.pyplot as plt\n",
    "import seaborn as sns\n",
    "\n",
    "import requests\n"
   ]
  },
  {
   "cell_type": "markdown",
   "id": "5422fa7b",
   "metadata": {
    "papermill": {
     "duration": 0.020499,
     "end_time": "2025-02-02T16:10:40.568697",
     "exception": false,
     "start_time": "2025-02-02T16:10:40.548198",
     "status": "completed"
    },
    "tags": []
   },
   "source": [
    "### Data Collection"
   ]
  },
  {
   "cell_type": "markdown",
   "id": "73831676",
   "metadata": {
    "papermill": {
     "duration": 0.020308,
     "end_time": "2025-02-02T16:10:40.609716",
     "exception": false,
     "start_time": "2025-02-02T16:10:40.589408",
     "status": "completed"
    },
    "tags": []
   },
   "source": [
    "From the <code>rocket</code> column we would like to learn the booster name.\n"
   ]
  },
  {
   "cell_type": "code",
   "execution_count": 2,
   "id": "268591bc",
   "metadata": {
    "execution": {
     "iopub.execute_input": "2025-02-02T16:10:40.652837Z",
     "iopub.status.busy": "2025-02-02T16:10:40.652131Z",
     "iopub.status.idle": "2025-02-02T16:10:40.658136Z",
     "shell.execute_reply": "2025-02-02T16:10:40.656906Z"
    },
    "papermill": {
     "duration": 0.030003,
     "end_time": "2025-02-02T16:10:40.660441",
     "exception": false,
     "start_time": "2025-02-02T16:10:40.630438",
     "status": "completed"
    },
    "tags": []
   },
   "outputs": [],
   "source": [
    "def getBoosterVersion(data):\n",
    "    for x in data['rocket']:\n",
    "        if x:\n",
    "            response = requests.get(\"https://api.spacexdata.com/v4/rockets/\"+str(x)).json()\n",
    "            BoosterVersion.append(response['name'])"
   ]
  },
  {
   "cell_type": "markdown",
   "id": "a99a5230",
   "metadata": {
    "papermill": {
     "duration": 0.020047,
     "end_time": "2025-02-02T16:10:40.701525",
     "exception": false,
     "start_time": "2025-02-02T16:10:40.681478",
     "status": "completed"
    },
    "tags": []
   },
   "source": [
    "From the <code>launchpad</code> we would like to know the name of the launch site being used, the logitude, and the latitude.\n"
   ]
  },
  {
   "cell_type": "code",
   "execution_count": 3,
   "id": "561d7c04",
   "metadata": {
    "execution": {
     "iopub.execute_input": "2025-02-02T16:10:40.743233Z",
     "iopub.status.busy": "2025-02-02T16:10:40.742883Z",
     "iopub.status.idle": "2025-02-02T16:10:40.748184Z",
     "shell.execute_reply": "2025-02-02T16:10:40.747054Z"
    },
    "papermill": {
     "duration": 0.028718,
     "end_time": "2025-02-02T16:10:40.750350",
     "exception": false,
     "start_time": "2025-02-02T16:10:40.721632",
     "status": "completed"
    },
    "tags": []
   },
   "outputs": [],
   "source": [
    "def getLaunchSite(data):\n",
    "    for x in data['launchpad']:\n",
    "        if x:\n",
    "            response = requests.get(\"https://api.spacexdata.com/v4/launchpads/\"+str(x)).json()\n",
    "            Longitude.append(response['longitude'])\n",
    "            Latitude.append(response['latitude'])\n",
    "            LaunchSite.append(response['name'])"
   ]
  },
  {
   "cell_type": "markdown",
   "id": "45a134a1",
   "metadata": {
    "papermill": {
     "duration": 0.020728,
     "end_time": "2025-02-02T16:10:40.792648",
     "exception": false,
     "start_time": "2025-02-02T16:10:40.771920",
     "status": "completed"
    },
    "tags": []
   },
   "source": [
    "From the <code>payload</code> we would like to learn the mass of the payload and the orbit that it is going to.\n"
   ]
  },
  {
   "cell_type": "code",
   "execution_count": 4,
   "id": "7333dc2d",
   "metadata": {
    "execution": {
     "iopub.execute_input": "2025-02-02T16:10:40.836230Z",
     "iopub.status.busy": "2025-02-02T16:10:40.835867Z",
     "iopub.status.idle": "2025-02-02T16:10:40.840778Z",
     "shell.execute_reply": "2025-02-02T16:10:40.839749Z"
    },
    "papermill": {
     "duration": 0.028739,
     "end_time": "2025-02-02T16:10:40.842519",
     "exception": false,
     "start_time": "2025-02-02T16:10:40.813780",
     "status": "completed"
    },
    "tags": []
   },
   "outputs": [],
   "source": [
    "def getPayloadData(data):\n",
    "    for load in data['payloads']:\n",
    "        if load:\n",
    "            response = requests.get(\"https://api.spacexdata.com/v4/payloads/\"+load).json()\n",
    "            PayloadMass.append(response['mass_kg'])\n",
    "            Orbit.append(response['orbit'])"
   ]
  },
  {
   "cell_type": "markdown",
   "id": "4aae3612",
   "metadata": {
    "papermill": {
     "duration": 0.020652,
     "end_time": "2025-02-02T16:10:40.884473",
     "exception": false,
     "start_time": "2025-02-02T16:10:40.863821",
     "status": "completed"
    },
    "tags": []
   },
   "source": [
    "From <code>cores</code> we would like to learn the outcome of the landing, the type of the landing, number of flights with that core, whether gridfins were used, wheter the core is reused, wheter legs were used, the landing pad used, the block of the core which is a number used to seperate version of cores, the number of times this specific core has been reused, and the serial of the core.\n"
   ]
  },
  {
   "cell_type": "code",
   "execution_count": 5,
   "id": "142f1c9d",
   "metadata": {
    "execution": {
     "iopub.execute_input": "2025-02-02T16:10:40.928050Z",
     "iopub.status.busy": "2025-02-02T16:10:40.927638Z",
     "iopub.status.idle": "2025-02-02T16:10:40.934518Z",
     "shell.execute_reply": "2025-02-02T16:10:40.933033Z"
    },
    "papermill": {
     "duration": 0.030844,
     "end_time": "2025-02-02T16:10:40.936426",
     "exception": false,
     "start_time": "2025-02-02T16:10:40.905582",
     "status": "completed"
    },
    "tags": []
   },
   "outputs": [],
   "source": [
    "def getCoreData(data):\n",
    "    for core in data['cores'] :\n",
    "        if core['core'] != None:\n",
    "            response = requests.get(\"https://api.spacexdata.com/v4/cores/\"+core['core']).json()\n",
    "            Block.append(response['block'])\n",
    "            ReusedCount.append(response['reuse_count'])\n",
    "            Serial.append(response['serial'])\n",
    "        else:\n",
    "            Block.append(None)\n",
    "            ReusedCount.append(None)\n",
    "            Serial.append(None)\n",
    "        Outcome.append(str(core['landing_success']) +' '+str(core['landing_type']))\n",
    "        Flights.append(core['flight'])\n",
    "        GridFins.append(core['gridfins'])\n",
    "        Reused.append(core['reused'])\n",
    "        Legs.append(core['legs'])\n",
    "        LandingPad.append(core['landpad'])\n",
    "        "
   ]
  },
  {
   "cell_type": "code",
   "execution_count": 6,
   "id": "b8cd10f0",
   "metadata": {
    "execution": {
     "iopub.execute_input": "2025-02-02T16:10:40.980363Z",
     "iopub.status.busy": "2025-02-02T16:10:40.979919Z",
     "iopub.status.idle": "2025-02-02T16:10:40.984708Z",
     "shell.execute_reply": "2025-02-02T16:10:40.983521Z"
    },
    "papermill": {
     "duration": 0.028595,
     "end_time": "2025-02-02T16:10:40.986360",
     "exception": false,
     "start_time": "2025-02-02T16:10:40.957765",
     "status": "completed"
    },
    "tags": []
   },
   "outputs": [],
   "source": [
    "spacex_url = \"https://api.spacexdata.com/v4/launches/past\""
   ]
  },
  {
   "cell_type": "code",
   "execution_count": 7,
   "id": "f159d978",
   "metadata": {
    "execution": {
     "iopub.execute_input": "2025-02-02T16:10:41.030188Z",
     "iopub.status.busy": "2025-02-02T16:10:41.029759Z",
     "iopub.status.idle": "2025-02-02T16:10:41.622955Z",
     "shell.execute_reply": "2025-02-02T16:10:41.621830Z"
    },
    "papermill": {
     "duration": 0.617566,
     "end_time": "2025-02-02T16:10:41.625157",
     "exception": false,
     "start_time": "2025-02-02T16:10:41.007591",
     "status": "completed"
    },
    "tags": []
   },
   "outputs": [],
   "source": [
    "response = requests.get(spacex_url)"
   ]
  },
  {
   "cell_type": "code",
   "execution_count": 8,
   "id": "ca772d79",
   "metadata": {
    "execution": {
     "iopub.execute_input": "2025-02-02T16:10:41.670006Z",
     "iopub.status.busy": "2025-02-02T16:10:41.669598Z",
     "iopub.status.idle": "2025-02-02T16:10:41.675207Z",
     "shell.execute_reply": "2025-02-02T16:10:41.673993Z"
    },
    "papermill": {
     "duration": 0.030614,
     "end_time": "2025-02-02T16:10:41.677147",
     "exception": false,
     "start_time": "2025-02-02T16:10:41.646533",
     "status": "completed"
    },
    "tags": []
   },
   "outputs": [
    {
     "name": "stdout",
     "output_type": "stream",
     "text": [
      "<Response [200]>\n"
     ]
    }
   ],
   "source": [
    "print(response)"
   ]
  },
  {
   "cell_type": "code",
   "execution_count": 9,
   "id": "192676a3",
   "metadata": {
    "execution": {
     "iopub.execute_input": "2025-02-02T16:10:41.723460Z",
     "iopub.status.busy": "2025-02-02T16:10:41.723031Z",
     "iopub.status.idle": "2025-02-02T16:10:41.727601Z",
     "shell.execute_reply": "2025-02-02T16:10:41.726497Z"
    },
    "papermill": {
     "duration": 0.030718,
     "end_time": "2025-02-02T16:10:41.729329",
     "exception": false,
     "start_time": "2025-02-02T16:10:41.698611",
     "status": "completed"
    },
    "tags": []
   },
   "outputs": [],
   "source": [
    "static_json_url = \"https://cf-courses-data.s3.us.cloud-object-storage.appdomain.cloud/IBM-DS0321EN-SkillsNetwork/datasets/API_call_spacex_api.json\"\n"
   ]
  },
  {
   "cell_type": "code",
   "execution_count": 10,
   "id": "d42c989d",
   "metadata": {
    "execution": {
     "iopub.execute_input": "2025-02-02T16:10:41.863478Z",
     "iopub.status.busy": "2025-02-02T16:10:41.863080Z",
     "iopub.status.idle": "2025-02-02T16:10:41.870250Z",
     "shell.execute_reply": "2025-02-02T16:10:41.868859Z"
    },
    "papermill": {
     "duration": 0.032573,
     "end_time": "2025-02-02T16:10:41.872108",
     "exception": false,
     "start_time": "2025-02-02T16:10:41.839535",
     "status": "completed"
    },
    "tags": []
   },
   "outputs": [
    {
     "data": {
      "text/plain": [
       "200"
      ]
     },
     "execution_count": 10,
     "metadata": {},
     "output_type": "execute_result"
    }
   ],
   "source": [
    "response.status_code"
   ]
  },
  {
   "cell_type": "code",
   "execution_count": 11,
   "id": "375f7592",
   "metadata": {
    "execution": {
     "iopub.execute_input": "2025-02-02T16:10:41.916899Z",
     "iopub.status.busy": "2025-02-02T16:10:41.916513Z",
     "iopub.status.idle": "2025-02-02T16:10:41.938541Z",
     "shell.execute_reply": "2025-02-02T16:10:41.937444Z"
    },
    "papermill": {
     "duration": 0.046744,
     "end_time": "2025-02-02T16:10:41.940624",
     "exception": false,
     "start_time": "2025-02-02T16:10:41.893880",
     "status": "completed"
    },
    "tags": []
   },
   "outputs": [],
   "source": [
    "data = pd.json_normalize(response.json())"
   ]
  },
  {
   "cell_type": "code",
   "execution_count": 12,
   "id": "9b1ba683",
   "metadata": {
    "execution": {
     "iopub.execute_input": "2025-02-02T16:10:41.984617Z",
     "iopub.status.busy": "2025-02-02T16:10:41.984201Z",
     "iopub.status.idle": "2025-02-02T16:10:42.041877Z",
     "shell.execute_reply": "2025-02-02T16:10:42.040343Z"
    },
    "papermill": {
     "duration": 0.081942,
     "end_time": "2025-02-02T16:10:42.043746",
     "exception": false,
     "start_time": "2025-02-02T16:10:41.961804",
     "status": "completed"
    },
    "tags": []
   },
   "outputs": [
    {
     "name": "stderr",
     "output_type": "stream",
     "text": [
      "/usr/local/lib/python3.10/dist-packages/pandas/io/formats/format.py:1458: RuntimeWarning: invalid value encountered in greater\n",
      "  has_large_values = (abs_vals > 1e6).any()\n",
      "/usr/local/lib/python3.10/dist-packages/pandas/io/formats/format.py:1459: RuntimeWarning: invalid value encountered in less\n",
      "  has_small_values = ((abs_vals < 10 ** (-self.digits)) & (abs_vals > 0)).any()\n",
      "/usr/local/lib/python3.10/dist-packages/pandas/io/formats/format.py:1459: RuntimeWarning: invalid value encountered in greater\n",
      "  has_small_values = ((abs_vals < 10 ** (-self.digits)) & (abs_vals > 0)).any()\n",
      "/usr/local/lib/python3.10/dist-packages/pandas/io/formats/format.py:1458: RuntimeWarning: invalid value encountered in greater\n",
      "  has_large_values = (abs_vals > 1e6).any()\n",
      "/usr/local/lib/python3.10/dist-packages/pandas/io/formats/format.py:1459: RuntimeWarning: invalid value encountered in less\n",
      "  has_small_values = ((abs_vals < 10 ** (-self.digits)) & (abs_vals > 0)).any()\n",
      "/usr/local/lib/python3.10/dist-packages/pandas/io/formats/format.py:1459: RuntimeWarning: invalid value encountered in greater\n",
      "  has_small_values = ((abs_vals < 10 ** (-self.digits)) & (abs_vals > 0)).any()\n"
     ]
    },
    {
     "data": {
      "text/html": [
       "<div>\n",
       "<style scoped>\n",
       "    .dataframe tbody tr th:only-of-type {\n",
       "        vertical-align: middle;\n",
       "    }\n",
       "\n",
       "    .dataframe tbody tr th {\n",
       "        vertical-align: top;\n",
       "    }\n",
       "\n",
       "    .dataframe thead th {\n",
       "        text-align: right;\n",
       "    }\n",
       "</style>\n",
       "<table border=\"1\" class=\"dataframe\">\n",
       "  <thead>\n",
       "    <tr style=\"text-align: right;\">\n",
       "      <th></th>\n",
       "      <th>static_fire_date_utc</th>\n",
       "      <th>static_fire_date_unix</th>\n",
       "      <th>net</th>\n",
       "      <th>window</th>\n",
       "      <th>rocket</th>\n",
       "      <th>success</th>\n",
       "      <th>failures</th>\n",
       "      <th>details</th>\n",
       "      <th>crew</th>\n",
       "      <th>ships</th>\n",
       "      <th>...</th>\n",
       "      <th>links.reddit.media</th>\n",
       "      <th>links.reddit.recovery</th>\n",
       "      <th>links.flickr.small</th>\n",
       "      <th>links.flickr.original</th>\n",
       "      <th>links.presskit</th>\n",
       "      <th>links.webcast</th>\n",
       "      <th>links.youtube_id</th>\n",
       "      <th>links.article</th>\n",
       "      <th>links.wikipedia</th>\n",
       "      <th>fairings</th>\n",
       "    </tr>\n",
       "  </thead>\n",
       "  <tbody>\n",
       "    <tr>\n",
       "      <th>0</th>\n",
       "      <td>2006-03-17T00:00:00.000Z</td>\n",
       "      <td>1.142554e+09</td>\n",
       "      <td>False</td>\n",
       "      <td>0.0</td>\n",
       "      <td>5e9d0d95eda69955f709d1eb</td>\n",
       "      <td>False</td>\n",
       "      <td>[{'time': 33, 'altitude': None, 'reason': 'mer...</td>\n",
       "      <td>Engine failure at 33 seconds and loss of vehicle</td>\n",
       "      <td>[]</td>\n",
       "      <td>[]</td>\n",
       "      <td>...</td>\n",
       "      <td>None</td>\n",
       "      <td>None</td>\n",
       "      <td>[]</td>\n",
       "      <td>[]</td>\n",
       "      <td>None</td>\n",
       "      <td>https://www.youtube.com/watch?v=0a_00nJ_Y88</td>\n",
       "      <td>0a_00nJ_Y88</td>\n",
       "      <td>https://www.space.com/2196-spacex-inaugural-fa...</td>\n",
       "      <td>https://en.wikipedia.org/wiki/DemoSat</td>\n",
       "      <td>NaN</td>\n",
       "    </tr>\n",
       "    <tr>\n",
       "      <th>1</th>\n",
       "      <td>None</td>\n",
       "      <td>NaN</td>\n",
       "      <td>False</td>\n",
       "      <td>0.0</td>\n",
       "      <td>5e9d0d95eda69955f709d1eb</td>\n",
       "      <td>False</td>\n",
       "      <td>[{'time': 301, 'altitude': 289, 'reason': 'har...</td>\n",
       "      <td>Successful first stage burn and transition to ...</td>\n",
       "      <td>[]</td>\n",
       "      <td>[]</td>\n",
       "      <td>...</td>\n",
       "      <td>None</td>\n",
       "      <td>None</td>\n",
       "      <td>[]</td>\n",
       "      <td>[]</td>\n",
       "      <td>None</td>\n",
       "      <td>https://www.youtube.com/watch?v=Lk4zQ2wP-Nc</td>\n",
       "      <td>Lk4zQ2wP-Nc</td>\n",
       "      <td>https://www.space.com/3590-spacex-falcon-1-roc...</td>\n",
       "      <td>https://en.wikipedia.org/wiki/DemoSat</td>\n",
       "      <td>NaN</td>\n",
       "    </tr>\n",
       "    <tr>\n",
       "      <th>2</th>\n",
       "      <td>None</td>\n",
       "      <td>NaN</td>\n",
       "      <td>False</td>\n",
       "      <td>0.0</td>\n",
       "      <td>5e9d0d95eda69955f709d1eb</td>\n",
       "      <td>False</td>\n",
       "      <td>[{'time': 140, 'altitude': 35, 'reason': 'resi...</td>\n",
       "      <td>Residual stage 1 thrust led to collision betwe...</td>\n",
       "      <td>[]</td>\n",
       "      <td>[]</td>\n",
       "      <td>...</td>\n",
       "      <td>None</td>\n",
       "      <td>None</td>\n",
       "      <td>[]</td>\n",
       "      <td>[]</td>\n",
       "      <td>None</td>\n",
       "      <td>https://www.youtube.com/watch?v=v0w9p3U8860</td>\n",
       "      <td>v0w9p3U8860</td>\n",
       "      <td>http://www.spacex.com/news/2013/02/11/falcon-1...</td>\n",
       "      <td>https://en.wikipedia.org/wiki/Trailblazer_(sat...</td>\n",
       "      <td>NaN</td>\n",
       "    </tr>\n",
       "    <tr>\n",
       "      <th>3</th>\n",
       "      <td>2008-09-20T00:00:00.000Z</td>\n",
       "      <td>1.221869e+09</td>\n",
       "      <td>False</td>\n",
       "      <td>0.0</td>\n",
       "      <td>5e9d0d95eda69955f709d1eb</td>\n",
       "      <td>True</td>\n",
       "      <td>[]</td>\n",
       "      <td>Ratsat was carried to orbit on the first succe...</td>\n",
       "      <td>[]</td>\n",
       "      <td>[]</td>\n",
       "      <td>...</td>\n",
       "      <td>None</td>\n",
       "      <td>None</td>\n",
       "      <td>[]</td>\n",
       "      <td>[]</td>\n",
       "      <td>None</td>\n",
       "      <td>https://www.youtube.com/watch?v=dLQ2tZEH6G0</td>\n",
       "      <td>dLQ2tZEH6G0</td>\n",
       "      <td>https://en.wikipedia.org/wiki/Ratsat</td>\n",
       "      <td>https://en.wikipedia.org/wiki/Ratsat</td>\n",
       "      <td>NaN</td>\n",
       "    </tr>\n",
       "    <tr>\n",
       "      <th>4</th>\n",
       "      <td>None</td>\n",
       "      <td>NaN</td>\n",
       "      <td>False</td>\n",
       "      <td>0.0</td>\n",
       "      <td>5e9d0d95eda69955f709d1eb</td>\n",
       "      <td>True</td>\n",
       "      <td>[]</td>\n",
       "      <td>None</td>\n",
       "      <td>[]</td>\n",
       "      <td>[]</td>\n",
       "      <td>...</td>\n",
       "      <td>None</td>\n",
       "      <td>None</td>\n",
       "      <td>[]</td>\n",
       "      <td>[]</td>\n",
       "      <td>http://www.spacex.com/press/2012/12/19/spacexs...</td>\n",
       "      <td>https://www.youtube.com/watch?v=yTaIDooc8Og</td>\n",
       "      <td>yTaIDooc8Og</td>\n",
       "      <td>http://www.spacex.com/news/2013/02/12/falcon-1...</td>\n",
       "      <td>https://en.wikipedia.org/wiki/RazakSAT</td>\n",
       "      <td>NaN</td>\n",
       "    </tr>\n",
       "  </tbody>\n",
       "</table>\n",
       "<p>5 rows × 43 columns</p>\n",
       "</div>"
      ],
      "text/plain": [
       "       static_fire_date_utc  static_fire_date_unix    net  window  \\\n",
       "0  2006-03-17T00:00:00.000Z           1.142554e+09  False     0.0   \n",
       "1                      None                    NaN  False     0.0   \n",
       "2                      None                    NaN  False     0.0   \n",
       "3  2008-09-20T00:00:00.000Z           1.221869e+09  False     0.0   \n",
       "4                      None                    NaN  False     0.0   \n",
       "\n",
       "                     rocket success  \\\n",
       "0  5e9d0d95eda69955f709d1eb   False   \n",
       "1  5e9d0d95eda69955f709d1eb   False   \n",
       "2  5e9d0d95eda69955f709d1eb   False   \n",
       "3  5e9d0d95eda69955f709d1eb    True   \n",
       "4  5e9d0d95eda69955f709d1eb    True   \n",
       "\n",
       "                                            failures  \\\n",
       "0  [{'time': 33, 'altitude': None, 'reason': 'mer...   \n",
       "1  [{'time': 301, 'altitude': 289, 'reason': 'har...   \n",
       "2  [{'time': 140, 'altitude': 35, 'reason': 'resi...   \n",
       "3                                                 []   \n",
       "4                                                 []   \n",
       "\n",
       "                                             details crew ships  ...  \\\n",
       "0   Engine failure at 33 seconds and loss of vehicle   []    []  ...   \n",
       "1  Successful first stage burn and transition to ...   []    []  ...   \n",
       "2  Residual stage 1 thrust led to collision betwe...   []    []  ...   \n",
       "3  Ratsat was carried to orbit on the first succe...   []    []  ...   \n",
       "4                                               None   []    []  ...   \n",
       "\n",
       "  links.reddit.media links.reddit.recovery links.flickr.small  \\\n",
       "0               None                  None                 []   \n",
       "1               None                  None                 []   \n",
       "2               None                  None                 []   \n",
       "3               None                  None                 []   \n",
       "4               None                  None                 []   \n",
       "\n",
       "   links.flickr.original                                     links.presskit  \\\n",
       "0                     []                                               None   \n",
       "1                     []                                               None   \n",
       "2                     []                                               None   \n",
       "3                     []                                               None   \n",
       "4                     []  http://www.spacex.com/press/2012/12/19/spacexs...   \n",
       "\n",
       "                                 links.webcast  links.youtube_id  \\\n",
       "0  https://www.youtube.com/watch?v=0a_00nJ_Y88       0a_00nJ_Y88   \n",
       "1  https://www.youtube.com/watch?v=Lk4zQ2wP-Nc       Lk4zQ2wP-Nc   \n",
       "2  https://www.youtube.com/watch?v=v0w9p3U8860       v0w9p3U8860   \n",
       "3  https://www.youtube.com/watch?v=dLQ2tZEH6G0       dLQ2tZEH6G0   \n",
       "4  https://www.youtube.com/watch?v=yTaIDooc8Og       yTaIDooc8Og   \n",
       "\n",
       "                                       links.article  \\\n",
       "0  https://www.space.com/2196-spacex-inaugural-fa...   \n",
       "1  https://www.space.com/3590-spacex-falcon-1-roc...   \n",
       "2  http://www.spacex.com/news/2013/02/11/falcon-1...   \n",
       "3               https://en.wikipedia.org/wiki/Ratsat   \n",
       "4  http://www.spacex.com/news/2013/02/12/falcon-1...   \n",
       "\n",
       "                                     links.wikipedia  fairings  \n",
       "0              https://en.wikipedia.org/wiki/DemoSat       NaN  \n",
       "1              https://en.wikipedia.org/wiki/DemoSat       NaN  \n",
       "2  https://en.wikipedia.org/wiki/Trailblazer_(sat...       NaN  \n",
       "3               https://en.wikipedia.org/wiki/Ratsat       NaN  \n",
       "4             https://en.wikipedia.org/wiki/RazakSAT       NaN  \n",
       "\n",
       "[5 rows x 43 columns]"
      ]
     },
     "execution_count": 12,
     "metadata": {},
     "output_type": "execute_result"
    }
   ],
   "source": [
    "data.head()"
   ]
  },
  {
   "cell_type": "code",
   "execution_count": 13,
   "id": "e5eb51e4",
   "metadata": {
    "execution": {
     "iopub.execute_input": "2025-02-02T16:10:42.091684Z",
     "iopub.status.busy": "2025-02-02T16:10:42.091267Z",
     "iopub.status.idle": "2025-02-02T16:10:42.097436Z",
     "shell.execute_reply": "2025-02-02T16:10:42.096371Z"
    },
    "papermill": {
     "duration": 0.032191,
     "end_time": "2025-02-02T16:10:42.099555",
     "exception": false,
     "start_time": "2025-02-02T16:10:42.067364",
     "status": "completed"
    },
    "tags": []
   },
   "outputs": [
    {
     "data": {
      "text/plain": [
       "Index(['static_fire_date_utc', 'static_fire_date_unix', 'net', 'window',\n",
       "       'rocket', 'success', 'failures', 'details', 'crew', 'ships', 'capsules',\n",
       "       'payloads', 'launchpad', 'flight_number', 'name', 'date_utc',\n",
       "       'date_unix', 'date_local', 'date_precision', 'upcoming', 'cores',\n",
       "       'auto_update', 'tbd', 'launch_library_id', 'id', 'fairings.reused',\n",
       "       'fairings.recovery_attempt', 'fairings.recovered', 'fairings.ships',\n",
       "       'links.patch.small', 'links.patch.large', 'links.reddit.campaign',\n",
       "       'links.reddit.launch', 'links.reddit.media', 'links.reddit.recovery',\n",
       "       'links.flickr.small', 'links.flickr.original', 'links.presskit',\n",
       "       'links.webcast', 'links.youtube_id', 'links.article', 'links.wikipedia',\n",
       "       'fairings'],\n",
       "      dtype='object')"
      ]
     },
     "execution_count": 13,
     "metadata": {},
     "output_type": "execute_result"
    }
   ],
   "source": [
    "data.columns"
   ]
  },
  {
   "cell_type": "markdown",
   "id": "b2064930",
   "metadata": {
    "papermill": {
     "duration": 0.022484,
     "end_time": "2025-02-02T16:10:42.146175",
     "exception": false,
     "start_time": "2025-02-02T16:10:42.123691",
     "status": "completed"
    },
    "tags": []
   },
   "source": [
    "You will notice that a lot of the data are IDs. For example the rocket column has no information about the rocket just an identification number.\n",
    "\n",
    "We will now use the API again to get information about the launches using the IDs given for each launch. Specifically we will be using columns <code>rocket</code>, <code>payloads</code>, <code>launchpad</code>, and <code>cores</code>.\n"
   ]
  },
  {
   "cell_type": "code",
   "execution_count": 14,
   "id": "8efbd142",
   "metadata": {
    "execution": {
     "iopub.execute_input": "2025-02-02T16:10:42.213990Z",
     "iopub.status.busy": "2025-02-02T16:10:42.213502Z",
     "iopub.status.idle": "2025-02-02T16:10:42.239949Z",
     "shell.execute_reply": "2025-02-02T16:10:42.238722Z"
    },
    "papermill": {
     "duration": 0.06607,
     "end_time": "2025-02-02T16:10:42.241991",
     "exception": false,
     "start_time": "2025-02-02T16:10:42.175921",
     "status": "completed"
    },
    "tags": []
   },
   "outputs": [],
   "source": [
    "import datetime\n",
    "\n",
    "data = data[[\"rocket\", \"payloads\", \"launchpad\", \"cores\", \"flight_number\", \"date_utc\"]]\n",
    "\n",
    "# We will remove rows with multiple cores because those are falcon rockets with 2 extra rocket boosters and rows that have multiple payloads in a single rocket.\n",
    "data = data[data['cores'].map(len)==1]\n",
    "data = data[data[\"payloads\"].map(len)==1]\n",
    "\n",
    "# Since payloads and cores are lists of size 1 we will also extract the single value in the list and replace the feature.\n",
    "data['cores'] = data['cores'].map(lambda x : x[0])\n",
    "data['payloads'] = data['payloads'].map(lambda x : x[0])\n",
    "\n",
    "# We also want to convert the date_utc to a datetime datatype and then extracting the date leaving the time\n",
    "data['date'] = pd.to_datetime(data['date_utc']).dt.date\n",
    "\n",
    "# Using the date we will restrict the date of the launches\n",
    "\n",
    "data = data[data['date'] <= datetime.date(2020, 11, 13)]\n"
   ]
  },
  {
   "cell_type": "markdown",
   "id": "38c187f4",
   "metadata": {
    "papermill": {
     "duration": 0.020933,
     "end_time": "2025-02-02T16:10:42.284533",
     "exception": false,
     "start_time": "2025-02-02T16:10:42.263600",
     "status": "completed"
    },
    "tags": []
   },
   "source": [
    "* From the <code>rocket</code> we would like to learn the booster name\n",
    "\n",
    "* From the <code>payload</code> we would like to learn the mass of the payload and the orbit that it is going to\n",
    "\n",
    "* From the <code>launchpad</code> we would like to know the name of the launch site being used, the longitude, and the latitude.\n",
    "\n",
    "* **From <code>cores</code> we would like to learn the outcome of the landing, the type of the landing, number of flights with that core, whether gridfins were used, whether the core is reused, whether legs were used, the landing pad used, the block of the core which is a number used to seperate version of cores, the number of times this specific core has been reused, and the serial of the core.**\n",
    "\n",
    "The data from these requests will be stored in lists and will be used to create a new dataframe.\n"
   ]
  },
  {
   "cell_type": "code",
   "execution_count": 15,
   "id": "d73c6005",
   "metadata": {
    "execution": {
     "iopub.execute_input": "2025-02-02T16:10:42.344903Z",
     "iopub.status.busy": "2025-02-02T16:10:42.344133Z",
     "iopub.status.idle": "2025-02-02T16:10:42.351938Z",
     "shell.execute_reply": "2025-02-02T16:10:42.350738Z"
    },
    "papermill": {
     "duration": 0.04809,
     "end_time": "2025-02-02T16:10:42.353954",
     "exception": false,
     "start_time": "2025-02-02T16:10:42.305864",
     "status": "completed"
    },
    "tags": []
   },
   "outputs": [],
   "source": [
    "#Global variables \n",
    "BoosterVersion = []\n",
    "PayloadMass = []\n",
    "Orbit = []\n",
    "LaunchSite = []\n",
    "Outcome = []\n",
    "Flights = []\n",
    "GridFins = []\n",
    "Reused = []\n",
    "Legs = []\n",
    "LandingPad = []\n",
    "Block = []\n",
    "ReusedCount = []\n",
    "Serial = []\n",
    "Longitude = []\n",
    "Latitude = []"
   ]
  },
  {
   "cell_type": "markdown",
   "id": "bfe06dc1",
   "metadata": {
    "papermill": {
     "duration": 0.029543,
     "end_time": "2025-02-02T16:10:42.418258",
     "exception": false,
     "start_time": "2025-02-02T16:10:42.388715",
     "status": "completed"
    },
    "tags": []
   },
   "source": [
    "These functions will apply the outputs globally to the above variables. Let's take a looks at <code>BoosterVersion</code> variable. Before we apply  <code>getBoosterVersion</code> the list is empty:\n"
   ]
  },
  {
   "cell_type": "code",
   "execution_count": 16,
   "id": "489764f2",
   "metadata": {
    "execution": {
     "iopub.execute_input": "2025-02-02T16:10:42.488622Z",
     "iopub.status.busy": "2025-02-02T16:10:42.488091Z",
     "iopub.status.idle": "2025-02-02T16:10:42.496361Z",
     "shell.execute_reply": "2025-02-02T16:10:42.493949Z"
    },
    "papermill": {
     "duration": 0.039664,
     "end_time": "2025-02-02T16:10:42.498478",
     "exception": false,
     "start_time": "2025-02-02T16:10:42.458814",
     "status": "completed"
    },
    "tags": []
   },
   "outputs": [
    {
     "data": {
      "text/plain": [
       "[]"
      ]
     },
     "execution_count": 16,
     "metadata": {},
     "output_type": "execute_result"
    }
   ],
   "source": [
    "BoosterVersion"
   ]
  },
  {
   "cell_type": "markdown",
   "id": "5a29549d",
   "metadata": {
    "papermill": {
     "duration": 0.022115,
     "end_time": "2025-02-02T16:10:42.544798",
     "exception": false,
     "start_time": "2025-02-02T16:10:42.522683",
     "status": "completed"
    },
    "tags": []
   },
   "source": [
    "Now, let's apply <code> getBoosterVersion</code> function method to get the booster version\n"
   ]
  },
  {
   "cell_type": "code",
   "execution_count": 17,
   "id": "119207cd",
   "metadata": {
    "execution": {
     "iopub.execute_input": "2025-02-02T16:10:42.592042Z",
     "iopub.status.busy": "2025-02-02T16:10:42.591664Z",
     "iopub.status.idle": "2025-02-02T16:10:57.026906Z",
     "shell.execute_reply": "2025-02-02T16:10:57.025400Z"
    },
    "papermill": {
     "duration": 14.461385,
     "end_time": "2025-02-02T16:10:57.029232",
     "exception": false,
     "start_time": "2025-02-02T16:10:42.567847",
     "status": "completed"
    },
    "tags": []
   },
   "outputs": [],
   "source": [
    "getBoosterVersion(data)"
   ]
  },
  {
   "cell_type": "code",
   "execution_count": 18,
   "id": "b04cfd7d",
   "metadata": {
    "execution": {
     "iopub.execute_input": "2025-02-02T16:10:57.075608Z",
     "iopub.status.busy": "2025-02-02T16:10:57.075196Z",
     "iopub.status.idle": "2025-02-02T16:10:57.082069Z",
     "shell.execute_reply": "2025-02-02T16:10:57.080911Z"
    },
    "papermill": {
     "duration": 0.031792,
     "end_time": "2025-02-02T16:10:57.083942",
     "exception": false,
     "start_time": "2025-02-02T16:10:57.052150",
     "status": "completed"
    },
    "tags": []
   },
   "outputs": [
    {
     "data": {
      "text/plain": [
       "['Falcon 1', 'Falcon 1', 'Falcon 1', 'Falcon 1', 'Falcon 9']"
      ]
     },
     "execution_count": 18,
     "metadata": {},
     "output_type": "execute_result"
    }
   ],
   "source": [
    "BoosterVersion[0:5]"
   ]
  },
  {
   "cell_type": "code",
   "execution_count": 19,
   "id": "bb22bf45",
   "metadata": {
    "execution": {
     "iopub.execute_input": "2025-02-02T16:10:57.132135Z",
     "iopub.status.busy": "2025-02-02T16:10:57.131514Z",
     "iopub.status.idle": "2025-02-02T16:11:10.062652Z",
     "shell.execute_reply": "2025-02-02T16:11:10.061363Z"
    },
    "papermill": {
     "duration": 12.958578,
     "end_time": "2025-02-02T16:11:10.064940",
     "exception": false,
     "start_time": "2025-02-02T16:10:57.106362",
     "status": "completed"
    },
    "tags": []
   },
   "outputs": [],
   "source": [
    "#Call getLAunchSite\n",
    "\n",
    "getLaunchSite(data)"
   ]
  },
  {
   "cell_type": "code",
   "execution_count": 20,
   "id": "a29566af",
   "metadata": {
    "execution": {
     "iopub.execute_input": "2025-02-02T16:11:10.112321Z",
     "iopub.status.busy": "2025-02-02T16:11:10.111851Z",
     "iopub.status.idle": "2025-02-02T16:11:21.597377Z",
     "shell.execute_reply": "2025-02-02T16:11:21.596221Z"
    },
    "papermill": {
     "duration": 11.511983,
     "end_time": "2025-02-02T16:11:21.600046",
     "exception": false,
     "start_time": "2025-02-02T16:11:10.088063",
     "status": "completed"
    },
    "tags": []
   },
   "outputs": [],
   "source": [
    "#call getPayloadData\n",
    "getPayloadData(data)"
   ]
  },
  {
   "cell_type": "code",
   "execution_count": 21,
   "id": "2dcd666d",
   "metadata": {
    "execution": {
     "iopub.execute_input": "2025-02-02T16:11:21.648693Z",
     "iopub.status.busy": "2025-02-02T16:11:21.648330Z",
     "iopub.status.idle": "2025-02-02T16:11:32.805153Z",
     "shell.execute_reply": "2025-02-02T16:11:32.803898Z"
    },
    "papermill": {
     "duration": 11.183744,
     "end_time": "2025-02-02T16:11:32.807270",
     "exception": false,
     "start_time": "2025-02-02T16:11:21.623526",
     "status": "completed"
    },
    "tags": []
   },
   "outputs": [],
   "source": [
    "# Call getCoreData\n",
    "getCoreData(data)"
   ]
  },
  {
   "cell_type": "markdown",
   "id": "09665cd9",
   "metadata": {
    "papermill": {
     "duration": 0.021125,
     "end_time": "2025-02-02T16:11:32.850645",
     "exception": false,
     "start_time": "2025-02-02T16:11:32.829520",
     "status": "completed"
    },
    "tags": []
   },
   "source": [
    "Finally lets construct our dataset using the data we have obtained. We we combine the columns into a dictionary.\n"
   ]
  },
  {
   "cell_type": "code",
   "execution_count": 22,
   "id": "f03f68fb",
   "metadata": {
    "execution": {
     "iopub.execute_input": "2025-02-02T16:11:32.896209Z",
     "iopub.status.busy": "2025-02-02T16:11:32.895738Z",
     "iopub.status.idle": "2025-02-02T16:11:32.901547Z",
     "shell.execute_reply": "2025-02-02T16:11:32.900473Z"
    },
    "papermill": {
     "duration": 0.031267,
     "end_time": "2025-02-02T16:11:32.903466",
     "exception": false,
     "start_time": "2025-02-02T16:11:32.872199",
     "status": "completed"
    },
    "tags": []
   },
   "outputs": [],
   "source": [
    "launch_dict = {\n",
    "    \"FlighNumber\":list(data['flight_number']),\n",
    "    \"Date\" : list(data['date']),\n",
    "    \"BoosterVersion\":BoosterVersion,\n",
    "    \"PayloadMass\": PayloadMass,\n",
    "    \"Orbit\":Orbit,\n",
    "    \"LaunchSite\":LaunchSite,\n",
    "    \"Outcome\":Outcome,\n",
    "    \"Flights\":Flights,\n",
    "    \"GridFins\":GridFins,\n",
    "    \"Reused\":Reused,\n",
    "    \"Legs\":Legs,\n",
    "    \"LandingPad\":LandingPad,\n",
    "    \"Block\":Block,\n",
    "    \"ReusedCount\":ReusedCount,\n",
    "    \"Serial\":Serial,\n",
    "    \"Longitude\":Longitude,\n",
    "    \"Latitude\":Latitude\n",
    "}"
   ]
  },
  {
   "cell_type": "markdown",
   "id": "5fa05db0",
   "metadata": {
    "papermill": {
     "duration": 0.021908,
     "end_time": "2025-02-02T16:11:32.948339",
     "exception": false,
     "start_time": "2025-02-02T16:11:32.926431",
     "status": "completed"
    },
    "tags": []
   },
   "source": [
    "Now we need to create a Pandas DataFrame from the dictionary launch_Dict"
   ]
  },
  {
   "cell_type": "code",
   "execution_count": 23,
   "id": "0eef28a7",
   "metadata": {
    "execution": {
     "iopub.execute_input": "2025-02-02T16:11:32.995632Z",
     "iopub.status.busy": "2025-02-02T16:11:32.995182Z",
     "iopub.status.idle": "2025-02-02T16:11:33.003061Z",
     "shell.execute_reply": "2025-02-02T16:11:33.001725Z"
    },
    "papermill": {
     "duration": 0.035418,
     "end_time": "2025-02-02T16:11:33.005919",
     "exception": false,
     "start_time": "2025-02-02T16:11:32.970501",
     "status": "completed"
    },
    "tags": []
   },
   "outputs": [],
   "source": [
    "data = pd.DataFrame(launch_dict)"
   ]
  },
  {
   "cell_type": "code",
   "execution_count": 24,
   "id": "36cb680f",
   "metadata": {
    "execution": {
     "iopub.execute_input": "2025-02-02T16:11:33.054214Z",
     "iopub.status.busy": "2025-02-02T16:11:33.053840Z",
     "iopub.status.idle": "2025-02-02T16:11:33.073825Z",
     "shell.execute_reply": "2025-02-02T16:11:33.072354Z"
    },
    "papermill": {
     "duration": 0.047375,
     "end_time": "2025-02-02T16:11:33.075819",
     "exception": false,
     "start_time": "2025-02-02T16:11:33.028444",
     "status": "completed"
    },
    "tags": []
   },
   "outputs": [
    {
     "name": "stderr",
     "output_type": "stream",
     "text": [
      "/usr/local/lib/python3.10/dist-packages/pandas/io/formats/format.py:1458: RuntimeWarning: invalid value encountered in greater\n",
      "  has_large_values = (abs_vals > 1e6).any()\n",
      "/usr/local/lib/python3.10/dist-packages/pandas/io/formats/format.py:1459: RuntimeWarning: invalid value encountered in less\n",
      "  has_small_values = ((abs_vals < 10 ** (-self.digits)) & (abs_vals > 0)).any()\n",
      "/usr/local/lib/python3.10/dist-packages/pandas/io/formats/format.py:1459: RuntimeWarning: invalid value encountered in greater\n",
      "  has_small_values = ((abs_vals < 10 ** (-self.digits)) & (abs_vals > 0)).any()\n"
     ]
    },
    {
     "data": {
      "text/html": [
       "<div>\n",
       "<style scoped>\n",
       "    .dataframe tbody tr th:only-of-type {\n",
       "        vertical-align: middle;\n",
       "    }\n",
       "\n",
       "    .dataframe tbody tr th {\n",
       "        vertical-align: top;\n",
       "    }\n",
       "\n",
       "    .dataframe thead th {\n",
       "        text-align: right;\n",
       "    }\n",
       "</style>\n",
       "<table border=\"1\" class=\"dataframe\">\n",
       "  <thead>\n",
       "    <tr style=\"text-align: right;\">\n",
       "      <th></th>\n",
       "      <th>FlighNumber</th>\n",
       "      <th>Date</th>\n",
       "      <th>BoosterVersion</th>\n",
       "      <th>PayloadMass</th>\n",
       "      <th>Orbit</th>\n",
       "      <th>LaunchSite</th>\n",
       "      <th>Outcome</th>\n",
       "      <th>Flights</th>\n",
       "      <th>GridFins</th>\n",
       "      <th>Reused</th>\n",
       "      <th>Legs</th>\n",
       "      <th>LandingPad</th>\n",
       "      <th>Block</th>\n",
       "      <th>ReusedCount</th>\n",
       "      <th>Serial</th>\n",
       "      <th>Longitude</th>\n",
       "      <th>Latitude</th>\n",
       "    </tr>\n",
       "  </thead>\n",
       "  <tbody>\n",
       "    <tr>\n",
       "      <th>0</th>\n",
       "      <td>1</td>\n",
       "      <td>2006-03-24</td>\n",
       "      <td>Falcon 1</td>\n",
       "      <td>20.0</td>\n",
       "      <td>LEO</td>\n",
       "      <td>Kwajalein Atoll</td>\n",
       "      <td>None None</td>\n",
       "      <td>1</td>\n",
       "      <td>False</td>\n",
       "      <td>False</td>\n",
       "      <td>False</td>\n",
       "      <td>None</td>\n",
       "      <td>NaN</td>\n",
       "      <td>0</td>\n",
       "      <td>Merlin1A</td>\n",
       "      <td>167.743129</td>\n",
       "      <td>9.047721</td>\n",
       "    </tr>\n",
       "    <tr>\n",
       "      <th>1</th>\n",
       "      <td>2</td>\n",
       "      <td>2007-03-21</td>\n",
       "      <td>Falcon 1</td>\n",
       "      <td>NaN</td>\n",
       "      <td>LEO</td>\n",
       "      <td>Kwajalein Atoll</td>\n",
       "      <td>None None</td>\n",
       "      <td>1</td>\n",
       "      <td>False</td>\n",
       "      <td>False</td>\n",
       "      <td>False</td>\n",
       "      <td>None</td>\n",
       "      <td>NaN</td>\n",
       "      <td>0</td>\n",
       "      <td>Merlin2A</td>\n",
       "      <td>167.743129</td>\n",
       "      <td>9.047721</td>\n",
       "    </tr>\n",
       "    <tr>\n",
       "      <th>2</th>\n",
       "      <td>4</td>\n",
       "      <td>2008-09-28</td>\n",
       "      <td>Falcon 1</td>\n",
       "      <td>165.0</td>\n",
       "      <td>LEO</td>\n",
       "      <td>Kwajalein Atoll</td>\n",
       "      <td>None None</td>\n",
       "      <td>1</td>\n",
       "      <td>False</td>\n",
       "      <td>False</td>\n",
       "      <td>False</td>\n",
       "      <td>None</td>\n",
       "      <td>NaN</td>\n",
       "      <td>0</td>\n",
       "      <td>Merlin2C</td>\n",
       "      <td>167.743129</td>\n",
       "      <td>9.047721</td>\n",
       "    </tr>\n",
       "    <tr>\n",
       "      <th>3</th>\n",
       "      <td>5</td>\n",
       "      <td>2009-07-13</td>\n",
       "      <td>Falcon 1</td>\n",
       "      <td>200.0</td>\n",
       "      <td>LEO</td>\n",
       "      <td>Kwajalein Atoll</td>\n",
       "      <td>None None</td>\n",
       "      <td>1</td>\n",
       "      <td>False</td>\n",
       "      <td>False</td>\n",
       "      <td>False</td>\n",
       "      <td>None</td>\n",
       "      <td>NaN</td>\n",
       "      <td>0</td>\n",
       "      <td>Merlin3C</td>\n",
       "      <td>167.743129</td>\n",
       "      <td>9.047721</td>\n",
       "    </tr>\n",
       "    <tr>\n",
       "      <th>4</th>\n",
       "      <td>6</td>\n",
       "      <td>2010-06-04</td>\n",
       "      <td>Falcon 9</td>\n",
       "      <td>NaN</td>\n",
       "      <td>LEO</td>\n",
       "      <td>CCSFS SLC 40</td>\n",
       "      <td>None None</td>\n",
       "      <td>1</td>\n",
       "      <td>False</td>\n",
       "      <td>False</td>\n",
       "      <td>False</td>\n",
       "      <td>None</td>\n",
       "      <td>1.0</td>\n",
       "      <td>0</td>\n",
       "      <td>B0003</td>\n",
       "      <td>-80.577366</td>\n",
       "      <td>28.561857</td>\n",
       "    </tr>\n",
       "  </tbody>\n",
       "</table>\n",
       "</div>"
      ],
      "text/plain": [
       "   FlighNumber        Date BoosterVersion  PayloadMass Orbit       LaunchSite  \\\n",
       "0            1  2006-03-24       Falcon 1         20.0   LEO  Kwajalein Atoll   \n",
       "1            2  2007-03-21       Falcon 1          NaN   LEO  Kwajalein Atoll   \n",
       "2            4  2008-09-28       Falcon 1        165.0   LEO  Kwajalein Atoll   \n",
       "3            5  2009-07-13       Falcon 1        200.0   LEO  Kwajalein Atoll   \n",
       "4            6  2010-06-04       Falcon 9          NaN   LEO     CCSFS SLC 40   \n",
       "\n",
       "     Outcome  Flights  GridFins  Reused   Legs LandingPad  Block  ReusedCount  \\\n",
       "0  None None        1     False   False  False       None    NaN            0   \n",
       "1  None None        1     False   False  False       None    NaN            0   \n",
       "2  None None        1     False   False  False       None    NaN            0   \n",
       "3  None None        1     False   False  False       None    NaN            0   \n",
       "4  None None        1     False   False  False       None    1.0            0   \n",
       "\n",
       "     Serial   Longitude   Latitude  \n",
       "0  Merlin1A  167.743129   9.047721  \n",
       "1  Merlin2A  167.743129   9.047721  \n",
       "2  Merlin2C  167.743129   9.047721  \n",
       "3  Merlin3C  167.743129   9.047721  \n",
       "4     B0003  -80.577366  28.561857  "
      ]
     },
     "execution_count": 24,
     "metadata": {},
     "output_type": "execute_result"
    }
   ],
   "source": [
    "data.head()"
   ]
  },
  {
   "cell_type": "markdown",
   "id": "9a1c739a",
   "metadata": {
    "papermill": {
     "duration": 0.022291,
     "end_time": "2025-02-02T16:11:33.121191",
     "exception": false,
     "start_time": "2025-02-02T16:11:33.098900",
     "status": "completed"
    },
    "tags": []
   },
   "source": [
    "### Filter the <code>Falcon 9</code> launches data"
   ]
  },
  {
   "cell_type": "code",
   "execution_count": 25,
   "id": "2e8bbe14",
   "metadata": {
    "execution": {
     "iopub.execute_input": "2025-02-02T16:11:33.169223Z",
     "iopub.status.busy": "2025-02-02T16:11:33.168866Z",
     "iopub.status.idle": "2025-02-02T16:11:33.191691Z",
     "shell.execute_reply": "2025-02-02T16:11:33.189819Z"
    },
    "papermill": {
     "duration": 0.050085,
     "end_time": "2025-02-02T16:11:33.193735",
     "exception": false,
     "start_time": "2025-02-02T16:11:33.143650",
     "status": "completed"
    },
    "tags": []
   },
   "outputs": [
    {
     "name": "stdout",
     "output_type": "stream",
     "text": [
      "   FlighNumber        Date BoosterVersion  PayloadMass Orbit    LaunchSite  \\\n",
      "4            6  2010-06-04       Falcon 9          NaN   LEO  CCSFS SLC 40   \n",
      "5            8  2012-05-22       Falcon 9        525.0   LEO  CCSFS SLC 40   \n",
      "6           10  2013-03-01       Falcon 9        677.0   ISS  CCSFS SLC 40   \n",
      "7           11  2013-09-29       Falcon 9        500.0    PO   VAFB SLC 4E   \n",
      "8           12  2013-12-03       Falcon 9       3170.0   GTO  CCSFS SLC 40   \n",
      "\n",
      "       Outcome  Flights  GridFins  Reused   Legs LandingPad  Block  \\\n",
      "4    None None        1     False   False  False       None    1.0   \n",
      "5    None None        1     False   False  False       None    1.0   \n",
      "6    None None        1     False   False  False       None    1.0   \n",
      "7  False Ocean        1     False   False  False       None    1.0   \n",
      "8    None None        1     False   False  False       None    1.0   \n",
      "\n",
      "   ReusedCount Serial   Longitude   Latitude  \n",
      "4            0  B0003  -80.577366  28.561857  \n",
      "5            0  B0005  -80.577366  28.561857  \n",
      "6            0  B0007  -80.577366  28.561857  \n",
      "7            0  B1003 -120.610829  34.632093  \n",
      "8            0  B1004  -80.577366  28.561857  \n"
     ]
    },
    {
     "name": "stderr",
     "output_type": "stream",
     "text": [
      "/usr/local/lib/python3.10/dist-packages/pandas/io/formats/format.py:1458: RuntimeWarning: invalid value encountered in greater\n",
      "  has_large_values = (abs_vals > 1e6).any()\n",
      "/usr/local/lib/python3.10/dist-packages/pandas/io/formats/format.py:1459: RuntimeWarning: invalid value encountered in less\n",
      "  has_small_values = ((abs_vals < 10 ** (-self.digits)) & (abs_vals > 0)).any()\n",
      "/usr/local/lib/python3.10/dist-packages/pandas/io/formats/format.py:1459: RuntimeWarning: invalid value encountered in greater\n",
      "  has_small_values = ((abs_vals < 10 ** (-self.digits)) & (abs_vals > 0)).any()\n"
     ]
    }
   ],
   "source": [
    "data_falcon9 = data[data['BoosterVersion'].str.contains(\"Falcon 9\", na=False)].copy()\n",
    "\n",
    "print(data_falcon9.head())\n",
    "\n",
    "data_falcon9.to_csv(\"falcon9_launches.csv\", index=False)"
   ]
  },
  {
   "cell_type": "code",
   "execution_count": 26,
   "id": "8bf9aa1d",
   "metadata": {
    "execution": {
     "iopub.execute_input": "2025-02-02T16:11:33.242736Z",
     "iopub.status.busy": "2025-02-02T16:11:33.242373Z",
     "iopub.status.idle": "2025-02-02T16:11:33.267602Z",
     "shell.execute_reply": "2025-02-02T16:11:33.266141Z"
    },
    "papermill": {
     "duration": 0.052026,
     "end_time": "2025-02-02T16:11:33.269604",
     "exception": false,
     "start_time": "2025-02-02T16:11:33.217578",
     "status": "completed"
    },
    "tags": []
   },
   "outputs": [
    {
     "name": "stderr",
     "output_type": "stream",
     "text": [
      "/usr/local/lib/python3.10/dist-packages/pandas/io/formats/format.py:1458: RuntimeWarning: invalid value encountered in greater\n",
      "  has_large_values = (abs_vals > 1e6).any()\n",
      "/usr/local/lib/python3.10/dist-packages/pandas/io/formats/format.py:1459: RuntimeWarning: invalid value encountered in less\n",
      "  has_small_values = ((abs_vals < 10 ** (-self.digits)) & (abs_vals > 0)).any()\n",
      "/usr/local/lib/python3.10/dist-packages/pandas/io/formats/format.py:1459: RuntimeWarning: invalid value encountered in greater\n",
      "  has_small_values = ((abs_vals < 10 ** (-self.digits)) & (abs_vals > 0)).any()\n"
     ]
    },
    {
     "data": {
      "text/html": [
       "<div>\n",
       "<style scoped>\n",
       "    .dataframe tbody tr th:only-of-type {\n",
       "        vertical-align: middle;\n",
       "    }\n",
       "\n",
       "    .dataframe tbody tr th {\n",
       "        vertical-align: top;\n",
       "    }\n",
       "\n",
       "    .dataframe thead th {\n",
       "        text-align: right;\n",
       "    }\n",
       "</style>\n",
       "<table border=\"1\" class=\"dataframe\">\n",
       "  <thead>\n",
       "    <tr style=\"text-align: right;\">\n",
       "      <th></th>\n",
       "      <th>FlighNumber</th>\n",
       "      <th>Date</th>\n",
       "      <th>BoosterVersion</th>\n",
       "      <th>PayloadMass</th>\n",
       "      <th>Orbit</th>\n",
       "      <th>LaunchSite</th>\n",
       "      <th>Outcome</th>\n",
       "      <th>Flights</th>\n",
       "      <th>GridFins</th>\n",
       "      <th>Reused</th>\n",
       "      <th>Legs</th>\n",
       "      <th>LandingPad</th>\n",
       "      <th>Block</th>\n",
       "      <th>ReusedCount</th>\n",
       "      <th>Serial</th>\n",
       "      <th>Longitude</th>\n",
       "      <th>Latitude</th>\n",
       "    </tr>\n",
       "  </thead>\n",
       "  <tbody>\n",
       "    <tr>\n",
       "      <th>0</th>\n",
       "      <td>6</td>\n",
       "      <td>2010-06-04</td>\n",
       "      <td>Falcon 9</td>\n",
       "      <td>NaN</td>\n",
       "      <td>LEO</td>\n",
       "      <td>CCSFS SLC 40</td>\n",
       "      <td>None None</td>\n",
       "      <td>1</td>\n",
       "      <td>False</td>\n",
       "      <td>False</td>\n",
       "      <td>False</td>\n",
       "      <td>NaN</td>\n",
       "      <td>1.0</td>\n",
       "      <td>0</td>\n",
       "      <td>B0003</td>\n",
       "      <td>-80.577366</td>\n",
       "      <td>28.561857</td>\n",
       "    </tr>\n",
       "    <tr>\n",
       "      <th>1</th>\n",
       "      <td>8</td>\n",
       "      <td>2012-05-22</td>\n",
       "      <td>Falcon 9</td>\n",
       "      <td>525.0</td>\n",
       "      <td>LEO</td>\n",
       "      <td>CCSFS SLC 40</td>\n",
       "      <td>None None</td>\n",
       "      <td>1</td>\n",
       "      <td>False</td>\n",
       "      <td>False</td>\n",
       "      <td>False</td>\n",
       "      <td>NaN</td>\n",
       "      <td>1.0</td>\n",
       "      <td>0</td>\n",
       "      <td>B0005</td>\n",
       "      <td>-80.577366</td>\n",
       "      <td>28.561857</td>\n",
       "    </tr>\n",
       "    <tr>\n",
       "      <th>2</th>\n",
       "      <td>10</td>\n",
       "      <td>2013-03-01</td>\n",
       "      <td>Falcon 9</td>\n",
       "      <td>677.0</td>\n",
       "      <td>ISS</td>\n",
       "      <td>CCSFS SLC 40</td>\n",
       "      <td>None None</td>\n",
       "      <td>1</td>\n",
       "      <td>False</td>\n",
       "      <td>False</td>\n",
       "      <td>False</td>\n",
       "      <td>NaN</td>\n",
       "      <td>1.0</td>\n",
       "      <td>0</td>\n",
       "      <td>B0007</td>\n",
       "      <td>-80.577366</td>\n",
       "      <td>28.561857</td>\n",
       "    </tr>\n",
       "    <tr>\n",
       "      <th>3</th>\n",
       "      <td>11</td>\n",
       "      <td>2013-09-29</td>\n",
       "      <td>Falcon 9</td>\n",
       "      <td>500.0</td>\n",
       "      <td>PO</td>\n",
       "      <td>VAFB SLC 4E</td>\n",
       "      <td>False Ocean</td>\n",
       "      <td>1</td>\n",
       "      <td>False</td>\n",
       "      <td>False</td>\n",
       "      <td>False</td>\n",
       "      <td>NaN</td>\n",
       "      <td>1.0</td>\n",
       "      <td>0</td>\n",
       "      <td>B1003</td>\n",
       "      <td>-120.610829</td>\n",
       "      <td>34.632093</td>\n",
       "    </tr>\n",
       "    <tr>\n",
       "      <th>4</th>\n",
       "      <td>12</td>\n",
       "      <td>2013-12-03</td>\n",
       "      <td>Falcon 9</td>\n",
       "      <td>3170.0</td>\n",
       "      <td>GTO</td>\n",
       "      <td>CCSFS SLC 40</td>\n",
       "      <td>None None</td>\n",
       "      <td>1</td>\n",
       "      <td>False</td>\n",
       "      <td>False</td>\n",
       "      <td>False</td>\n",
       "      <td>NaN</td>\n",
       "      <td>1.0</td>\n",
       "      <td>0</td>\n",
       "      <td>B1004</td>\n",
       "      <td>-80.577366</td>\n",
       "      <td>28.561857</td>\n",
       "    </tr>\n",
       "  </tbody>\n",
       "</table>\n",
       "</div>"
      ],
      "text/plain": [
       "   FlighNumber        Date BoosterVersion  PayloadMass Orbit    LaunchSite  \\\n",
       "0            6  2010-06-04       Falcon 9          NaN   LEO  CCSFS SLC 40   \n",
       "1            8  2012-05-22       Falcon 9        525.0   LEO  CCSFS SLC 40   \n",
       "2           10  2013-03-01       Falcon 9        677.0   ISS  CCSFS SLC 40   \n",
       "3           11  2013-09-29       Falcon 9        500.0    PO   VAFB SLC 4E   \n",
       "4           12  2013-12-03       Falcon 9       3170.0   GTO  CCSFS SLC 40   \n",
       "\n",
       "       Outcome  Flights  GridFins  Reused   Legs LandingPad  Block  \\\n",
       "0    None None        1     False   False  False        NaN    1.0   \n",
       "1    None None        1     False   False  False        NaN    1.0   \n",
       "2    None None        1     False   False  False        NaN    1.0   \n",
       "3  False Ocean        1     False   False  False        NaN    1.0   \n",
       "4    None None        1     False   False  False        NaN    1.0   \n",
       "\n",
       "   ReusedCount Serial   Longitude   Latitude  \n",
       "0            0  B0003  -80.577366  28.561857  \n",
       "1            0  B0005  -80.577366  28.561857  \n",
       "2            0  B0007  -80.577366  28.561857  \n",
       "3            0  B1003 -120.610829  34.632093  \n",
       "4            0  B1004  -80.577366  28.561857  "
      ]
     },
     "execution_count": 26,
     "metadata": {},
     "output_type": "execute_result"
    }
   ],
   "source": [
    "data_falcon9 = pd.read_csv(\"falcon9_launches.csv\")\n",
    "data_falcon9.head()"
   ]
  },
  {
   "cell_type": "code",
   "execution_count": 27,
   "id": "c489b049",
   "metadata": {
    "execution": {
     "iopub.execute_input": "2025-02-02T16:11:33.324517Z",
     "iopub.status.busy": "2025-02-02T16:11:33.324125Z",
     "iopub.status.idle": "2025-02-02T16:11:33.348735Z",
     "shell.execute_reply": "2025-02-02T16:11:33.347479Z"
    },
    "papermill": {
     "duration": 0.055171,
     "end_time": "2025-02-02T16:11:33.350740",
     "exception": false,
     "start_time": "2025-02-02T16:11:33.295569",
     "status": "completed"
    },
    "tags": []
   },
   "outputs": [
    {
     "name": "stderr",
     "output_type": "stream",
     "text": [
      "/usr/local/lib/python3.10/dist-packages/pandas/io/formats/format.py:1458: RuntimeWarning: invalid value encountered in greater\n",
      "  has_large_values = (abs_vals > 1e6).any()\n",
      "/usr/local/lib/python3.10/dist-packages/pandas/io/formats/format.py:1459: RuntimeWarning: invalid value encountered in less\n",
      "  has_small_values = ((abs_vals < 10 ** (-self.digits)) & (abs_vals > 0)).any()\n",
      "/usr/local/lib/python3.10/dist-packages/pandas/io/formats/format.py:1459: RuntimeWarning: invalid value encountered in greater\n",
      "  has_small_values = ((abs_vals < 10 ** (-self.digits)) & (abs_vals > 0)).any()\n"
     ]
    },
    {
     "data": {
      "text/html": [
       "<div>\n",
       "<style scoped>\n",
       "    .dataframe tbody tr th:only-of-type {\n",
       "        vertical-align: middle;\n",
       "    }\n",
       "\n",
       "    .dataframe tbody tr th {\n",
       "        vertical-align: top;\n",
       "    }\n",
       "\n",
       "    .dataframe thead th {\n",
       "        text-align: right;\n",
       "    }\n",
       "</style>\n",
       "<table border=\"1\" class=\"dataframe\">\n",
       "  <thead>\n",
       "    <tr style=\"text-align: right;\">\n",
       "      <th></th>\n",
       "      <th>FlighNumber</th>\n",
       "      <th>Date</th>\n",
       "      <th>BoosterVersion</th>\n",
       "      <th>PayloadMass</th>\n",
       "      <th>Orbit</th>\n",
       "      <th>LaunchSite</th>\n",
       "      <th>Outcome</th>\n",
       "      <th>Flights</th>\n",
       "      <th>GridFins</th>\n",
       "      <th>Reused</th>\n",
       "      <th>Legs</th>\n",
       "      <th>LandingPad</th>\n",
       "      <th>Block</th>\n",
       "      <th>ReusedCount</th>\n",
       "      <th>Serial</th>\n",
       "      <th>Longitude</th>\n",
       "      <th>Latitude</th>\n",
       "      <th>FlightNumber</th>\n",
       "    </tr>\n",
       "  </thead>\n",
       "  <tbody>\n",
       "    <tr>\n",
       "      <th>0</th>\n",
       "      <td>6</td>\n",
       "      <td>2010-06-04</td>\n",
       "      <td>Falcon 9</td>\n",
       "      <td>NaN</td>\n",
       "      <td>LEO</td>\n",
       "      <td>CCSFS SLC 40</td>\n",
       "      <td>None None</td>\n",
       "      <td>1</td>\n",
       "      <td>False</td>\n",
       "      <td>False</td>\n",
       "      <td>False</td>\n",
       "      <td>NaN</td>\n",
       "      <td>1.0</td>\n",
       "      <td>0</td>\n",
       "      <td>B0003</td>\n",
       "      <td>-80.577366</td>\n",
       "      <td>28.561857</td>\n",
       "      <td>1</td>\n",
       "    </tr>\n",
       "    <tr>\n",
       "      <th>1</th>\n",
       "      <td>8</td>\n",
       "      <td>2012-05-22</td>\n",
       "      <td>Falcon 9</td>\n",
       "      <td>525.0</td>\n",
       "      <td>LEO</td>\n",
       "      <td>CCSFS SLC 40</td>\n",
       "      <td>None None</td>\n",
       "      <td>1</td>\n",
       "      <td>False</td>\n",
       "      <td>False</td>\n",
       "      <td>False</td>\n",
       "      <td>NaN</td>\n",
       "      <td>1.0</td>\n",
       "      <td>0</td>\n",
       "      <td>B0005</td>\n",
       "      <td>-80.577366</td>\n",
       "      <td>28.561857</td>\n",
       "      <td>2</td>\n",
       "    </tr>\n",
       "    <tr>\n",
       "      <th>2</th>\n",
       "      <td>10</td>\n",
       "      <td>2013-03-01</td>\n",
       "      <td>Falcon 9</td>\n",
       "      <td>677.0</td>\n",
       "      <td>ISS</td>\n",
       "      <td>CCSFS SLC 40</td>\n",
       "      <td>None None</td>\n",
       "      <td>1</td>\n",
       "      <td>False</td>\n",
       "      <td>False</td>\n",
       "      <td>False</td>\n",
       "      <td>NaN</td>\n",
       "      <td>1.0</td>\n",
       "      <td>0</td>\n",
       "      <td>B0007</td>\n",
       "      <td>-80.577366</td>\n",
       "      <td>28.561857</td>\n",
       "      <td>3</td>\n",
       "    </tr>\n",
       "    <tr>\n",
       "      <th>3</th>\n",
       "      <td>11</td>\n",
       "      <td>2013-09-29</td>\n",
       "      <td>Falcon 9</td>\n",
       "      <td>500.0</td>\n",
       "      <td>PO</td>\n",
       "      <td>VAFB SLC 4E</td>\n",
       "      <td>False Ocean</td>\n",
       "      <td>1</td>\n",
       "      <td>False</td>\n",
       "      <td>False</td>\n",
       "      <td>False</td>\n",
       "      <td>NaN</td>\n",
       "      <td>1.0</td>\n",
       "      <td>0</td>\n",
       "      <td>B1003</td>\n",
       "      <td>-120.610829</td>\n",
       "      <td>34.632093</td>\n",
       "      <td>4</td>\n",
       "    </tr>\n",
       "    <tr>\n",
       "      <th>4</th>\n",
       "      <td>12</td>\n",
       "      <td>2013-12-03</td>\n",
       "      <td>Falcon 9</td>\n",
       "      <td>3170.0</td>\n",
       "      <td>GTO</td>\n",
       "      <td>CCSFS SLC 40</td>\n",
       "      <td>None None</td>\n",
       "      <td>1</td>\n",
       "      <td>False</td>\n",
       "      <td>False</td>\n",
       "      <td>False</td>\n",
       "      <td>NaN</td>\n",
       "      <td>1.0</td>\n",
       "      <td>0</td>\n",
       "      <td>B1004</td>\n",
       "      <td>-80.577366</td>\n",
       "      <td>28.561857</td>\n",
       "      <td>5</td>\n",
       "    </tr>\n",
       "    <tr>\n",
       "      <th>...</th>\n",
       "      <td>...</td>\n",
       "      <td>...</td>\n",
       "      <td>...</td>\n",
       "      <td>...</td>\n",
       "      <td>...</td>\n",
       "      <td>...</td>\n",
       "      <td>...</td>\n",
       "      <td>...</td>\n",
       "      <td>...</td>\n",
       "      <td>...</td>\n",
       "      <td>...</td>\n",
       "      <td>...</td>\n",
       "      <td>...</td>\n",
       "      <td>...</td>\n",
       "      <td>...</td>\n",
       "      <td>...</td>\n",
       "      <td>...</td>\n",
       "      <td>...</td>\n",
       "    </tr>\n",
       "    <tr>\n",
       "      <th>85</th>\n",
       "      <td>102</td>\n",
       "      <td>2020-09-03</td>\n",
       "      <td>Falcon 9</td>\n",
       "      <td>15600.0</td>\n",
       "      <td>VLEO</td>\n",
       "      <td>KSC LC 39A</td>\n",
       "      <td>True ASDS</td>\n",
       "      <td>2</td>\n",
       "      <td>True</td>\n",
       "      <td>True</td>\n",
       "      <td>True</td>\n",
       "      <td>5e9e3032383ecb6bb234e7ca</td>\n",
       "      <td>5.0</td>\n",
       "      <td>12</td>\n",
       "      <td>B1060</td>\n",
       "      <td>-80.603956</td>\n",
       "      <td>28.608058</td>\n",
       "      <td>86</td>\n",
       "    </tr>\n",
       "    <tr>\n",
       "      <th>86</th>\n",
       "      <td>103</td>\n",
       "      <td>2020-10-06</td>\n",
       "      <td>Falcon 9</td>\n",
       "      <td>15600.0</td>\n",
       "      <td>VLEO</td>\n",
       "      <td>KSC LC 39A</td>\n",
       "      <td>True ASDS</td>\n",
       "      <td>3</td>\n",
       "      <td>True</td>\n",
       "      <td>True</td>\n",
       "      <td>True</td>\n",
       "      <td>5e9e3032383ecb6bb234e7ca</td>\n",
       "      <td>5.0</td>\n",
       "      <td>13</td>\n",
       "      <td>B1058</td>\n",
       "      <td>-80.603956</td>\n",
       "      <td>28.608058</td>\n",
       "      <td>87</td>\n",
       "    </tr>\n",
       "    <tr>\n",
       "      <th>87</th>\n",
       "      <td>104</td>\n",
       "      <td>2020-10-18</td>\n",
       "      <td>Falcon 9</td>\n",
       "      <td>15600.0</td>\n",
       "      <td>VLEO</td>\n",
       "      <td>KSC LC 39A</td>\n",
       "      <td>True ASDS</td>\n",
       "      <td>6</td>\n",
       "      <td>True</td>\n",
       "      <td>True</td>\n",
       "      <td>True</td>\n",
       "      <td>5e9e3032383ecb6bb234e7ca</td>\n",
       "      <td>5.0</td>\n",
       "      <td>12</td>\n",
       "      <td>B1051</td>\n",
       "      <td>-80.603956</td>\n",
       "      <td>28.608058</td>\n",
       "      <td>88</td>\n",
       "    </tr>\n",
       "    <tr>\n",
       "      <th>88</th>\n",
       "      <td>105</td>\n",
       "      <td>2020-10-24</td>\n",
       "      <td>Falcon 9</td>\n",
       "      <td>15600.0</td>\n",
       "      <td>VLEO</td>\n",
       "      <td>CCSFS SLC 40</td>\n",
       "      <td>True ASDS</td>\n",
       "      <td>3</td>\n",
       "      <td>True</td>\n",
       "      <td>True</td>\n",
       "      <td>True</td>\n",
       "      <td>5e9e3033383ecbb9e534e7cc</td>\n",
       "      <td>5.0</td>\n",
       "      <td>12</td>\n",
       "      <td>B1060</td>\n",
       "      <td>-80.577366</td>\n",
       "      <td>28.561857</td>\n",
       "      <td>89</td>\n",
       "    </tr>\n",
       "    <tr>\n",
       "      <th>89</th>\n",
       "      <td>106</td>\n",
       "      <td>2020-11-05</td>\n",
       "      <td>Falcon 9</td>\n",
       "      <td>3681.0</td>\n",
       "      <td>MEO</td>\n",
       "      <td>CCSFS SLC 40</td>\n",
       "      <td>True ASDS</td>\n",
       "      <td>1</td>\n",
       "      <td>True</td>\n",
       "      <td>False</td>\n",
       "      <td>True</td>\n",
       "      <td>5e9e3032383ecb6bb234e7ca</td>\n",
       "      <td>5.0</td>\n",
       "      <td>8</td>\n",
       "      <td>B1062</td>\n",
       "      <td>-80.577366</td>\n",
       "      <td>28.561857</td>\n",
       "      <td>90</td>\n",
       "    </tr>\n",
       "  </tbody>\n",
       "</table>\n",
       "<p>90 rows × 18 columns</p>\n",
       "</div>"
      ],
      "text/plain": [
       "    FlighNumber        Date BoosterVersion  PayloadMass Orbit    LaunchSite  \\\n",
       "0             6  2010-06-04       Falcon 9          NaN   LEO  CCSFS SLC 40   \n",
       "1             8  2012-05-22       Falcon 9        525.0   LEO  CCSFS SLC 40   \n",
       "2            10  2013-03-01       Falcon 9        677.0   ISS  CCSFS SLC 40   \n",
       "3            11  2013-09-29       Falcon 9        500.0    PO   VAFB SLC 4E   \n",
       "4            12  2013-12-03       Falcon 9       3170.0   GTO  CCSFS SLC 40   \n",
       "..          ...         ...            ...          ...   ...           ...   \n",
       "85          102  2020-09-03       Falcon 9      15600.0  VLEO    KSC LC 39A   \n",
       "86          103  2020-10-06       Falcon 9      15600.0  VLEO    KSC LC 39A   \n",
       "87          104  2020-10-18       Falcon 9      15600.0  VLEO    KSC LC 39A   \n",
       "88          105  2020-10-24       Falcon 9      15600.0  VLEO  CCSFS SLC 40   \n",
       "89          106  2020-11-05       Falcon 9       3681.0   MEO  CCSFS SLC 40   \n",
       "\n",
       "        Outcome  Flights  GridFins  Reused   Legs                LandingPad  \\\n",
       "0     None None        1     False   False  False                       NaN   \n",
       "1     None None        1     False   False  False                       NaN   \n",
       "2     None None        1     False   False  False                       NaN   \n",
       "3   False Ocean        1     False   False  False                       NaN   \n",
       "4     None None        1     False   False  False                       NaN   \n",
       "..          ...      ...       ...     ...    ...                       ...   \n",
       "85    True ASDS        2      True    True   True  5e9e3032383ecb6bb234e7ca   \n",
       "86    True ASDS        3      True    True   True  5e9e3032383ecb6bb234e7ca   \n",
       "87    True ASDS        6      True    True   True  5e9e3032383ecb6bb234e7ca   \n",
       "88    True ASDS        3      True    True   True  5e9e3033383ecbb9e534e7cc   \n",
       "89    True ASDS        1      True   False   True  5e9e3032383ecb6bb234e7ca   \n",
       "\n",
       "    Block  ReusedCount Serial   Longitude   Latitude  FlightNumber  \n",
       "0     1.0            0  B0003  -80.577366  28.561857             1  \n",
       "1     1.0            0  B0005  -80.577366  28.561857             2  \n",
       "2     1.0            0  B0007  -80.577366  28.561857             3  \n",
       "3     1.0            0  B1003 -120.610829  34.632093             4  \n",
       "4     1.0            0  B1004  -80.577366  28.561857             5  \n",
       "..    ...          ...    ...         ...        ...           ...  \n",
       "85    5.0           12  B1060  -80.603956  28.608058            86  \n",
       "86    5.0           13  B1058  -80.603956  28.608058            87  \n",
       "87    5.0           12  B1051  -80.603956  28.608058            88  \n",
       "88    5.0           12  B1060  -80.577366  28.561857            89  \n",
       "89    5.0            8  B1062  -80.577366  28.561857            90  \n",
       "\n",
       "[90 rows x 18 columns]"
      ]
     },
     "execution_count": 27,
     "metadata": {},
     "output_type": "execute_result"
    }
   ],
   "source": [
    "data_falcon9.loc[:,'FlightNumber'] = list(range(1, data_falcon9.shape[0]+1))\n",
    "data_falcon9"
   ]
  },
  {
   "cell_type": "markdown",
   "id": "c397b0e0",
   "metadata": {
    "papermill": {
     "duration": 0.023486,
     "end_time": "2025-02-02T16:11:33.400437",
     "exception": false,
     "start_time": "2025-02-02T16:11:33.376951",
     "status": "completed"
    },
    "tags": []
   },
   "source": [
    "### Data Wrangling"
   ]
  },
  {
   "cell_type": "markdown",
   "id": "8a2abf6c",
   "metadata": {
    "papermill": {
     "duration": 0.023616,
     "end_time": "2025-02-02T16:11:33.449561",
     "exception": false,
     "start_time": "2025-02-02T16:11:33.425945",
     "status": "completed"
    },
    "tags": []
   },
   "source": [
    "Handling Missing Value"
   ]
  },
  {
   "cell_type": "code",
   "execution_count": 28,
   "id": "aa1c9977",
   "metadata": {
    "execution": {
     "iopub.execute_input": "2025-02-02T16:11:33.503205Z",
     "iopub.status.busy": "2025-02-02T16:11:33.502794Z",
     "iopub.status.idle": "2025-02-02T16:11:33.512222Z",
     "shell.execute_reply": "2025-02-02T16:11:33.511012Z"
    },
    "papermill": {
     "duration": 0.039501,
     "end_time": "2025-02-02T16:11:33.514042",
     "exception": false,
     "start_time": "2025-02-02T16:11:33.474541",
     "status": "completed"
    },
    "tags": []
   },
   "outputs": [
    {
     "data": {
      "text/plain": [
       "FlighNumber        0\n",
       "Date               0\n",
       "BoosterVersion     0\n",
       "PayloadMass        5\n",
       "Orbit              0\n",
       "LaunchSite         0\n",
       "Outcome            0\n",
       "Flights            0\n",
       "GridFins           0\n",
       "Reused             0\n",
       "Legs               0\n",
       "LandingPad        26\n",
       "Block              0\n",
       "ReusedCount        0\n",
       "Serial             0\n",
       "Longitude          0\n",
       "Latitude           0\n",
       "FlightNumber       0\n",
       "dtype: int64"
      ]
     },
     "execution_count": 28,
     "metadata": {},
     "output_type": "execute_result"
    }
   ],
   "source": [
    "data_falcon9.isnull().sum()"
   ]
  },
  {
   "cell_type": "code",
   "execution_count": 29,
   "id": "1438f6fa",
   "metadata": {
    "execution": {
     "iopub.execute_input": "2025-02-02T16:11:33.563577Z",
     "iopub.status.busy": "2025-02-02T16:11:33.563084Z",
     "iopub.status.idle": "2025-02-02T16:11:33.570664Z",
     "shell.execute_reply": "2025-02-02T16:11:33.569130Z"
    },
    "papermill": {
     "duration": 0.034246,
     "end_time": "2025-02-02T16:11:33.572627",
     "exception": false,
     "start_time": "2025-02-02T16:11:33.538381",
     "status": "completed"
    },
    "tags": []
   },
   "outputs": [
    {
     "name": "stderr",
     "output_type": "stream",
     "text": [
      "<ipython-input-29-5baf6aa8f08b>:1: FutureWarning: A value is trying to be set on a copy of a DataFrame or Series through chained assignment using an inplace method.\n",
      "The behavior will change in pandas 3.0. This inplace method will never work because the intermediate object on which we are setting values always behaves as a copy.\n",
      "\n",
      "For example, when doing 'df[col].method(value, inplace=True)', try using 'df.method({col: value}, inplace=True)' or df[col] = df[col].method(value) instead, to perform the operation inplace on the original object.\n",
      "\n",
      "\n",
      "  data_falcon9['PayloadMass'].fillna(data_falcon9[\"PayloadMass\"].mean(), inplace=True)\n"
     ]
    }
   ],
   "source": [
    "data_falcon9['PayloadMass'].fillna(data_falcon9[\"PayloadMass\"].mean(), inplace=True)\n"
   ]
  },
  {
   "cell_type": "code",
   "execution_count": 30,
   "id": "2df51b07",
   "metadata": {
    "execution": {
     "iopub.execute_input": "2025-02-02T16:11:33.624120Z",
     "iopub.status.busy": "2025-02-02T16:11:33.623692Z",
     "iopub.status.idle": "2025-02-02T16:11:33.630701Z",
     "shell.execute_reply": "2025-02-02T16:11:33.629240Z"
    },
    "papermill": {
     "duration": 0.035252,
     "end_time": "2025-02-02T16:11:33.633139",
     "exception": false,
     "start_time": "2025-02-02T16:11:33.597887",
     "status": "completed"
    },
    "tags": []
   },
   "outputs": [
    {
     "name": "stderr",
     "output_type": "stream",
     "text": [
      "<ipython-input-30-7e903eba1e84>:1: FutureWarning: A value is trying to be set on a copy of a DataFrame or Series through chained assignment using an inplace method.\n",
      "The behavior will change in pandas 3.0. This inplace method will never work because the intermediate object on which we are setting values always behaves as a copy.\n",
      "\n",
      "For example, when doing 'df[col].method(value, inplace=True)', try using 'df.method({col: value}, inplace=True)' or df[col] = df[col].method(value) instead, to perform the operation inplace on the original object.\n",
      "\n",
      "\n",
      "  data_falcon9['LandingPad'].fillna('Unknown', inplace=True)\n"
     ]
    }
   ],
   "source": [
    "data_falcon9['LandingPad'].fillna('Unknown', inplace=True)\n"
   ]
  },
  {
   "cell_type": "code",
   "execution_count": 31,
   "id": "380deb1c",
   "metadata": {
    "execution": {
     "iopub.execute_input": "2025-02-02T16:11:33.683696Z",
     "iopub.status.busy": "2025-02-02T16:11:33.683212Z",
     "iopub.status.idle": "2025-02-02T16:11:33.691672Z",
     "shell.execute_reply": "2025-02-02T16:11:33.689875Z"
    },
    "papermill": {
     "duration": 0.035401,
     "end_time": "2025-02-02T16:11:33.693962",
     "exception": false,
     "start_time": "2025-02-02T16:11:33.658561",
     "status": "completed"
    },
    "tags": []
   },
   "outputs": [
    {
     "name": "stdout",
     "output_type": "stream",
     "text": [
      "FlighNumber       0\n",
      "Date              0\n",
      "BoosterVersion    0\n",
      "PayloadMass       0\n",
      "Orbit             0\n",
      "LaunchSite        0\n",
      "Outcome           0\n",
      "Flights           0\n",
      "GridFins          0\n",
      "Reused            0\n",
      "Legs              0\n",
      "LandingPad        0\n",
      "Block             0\n",
      "ReusedCount       0\n",
      "Serial            0\n",
      "Longitude         0\n",
      "Latitude          0\n",
      "FlightNumber      0\n",
      "dtype: int64\n"
     ]
    }
   ],
   "source": [
    "print(data_falcon9.isnull().sum())  # Should print 0 missing values\n"
   ]
  },
  {
   "cell_type": "code",
   "execution_count": 32,
   "id": "3ab60e15",
   "metadata": {
    "execution": {
     "iopub.execute_input": "2025-02-02T16:11:33.744460Z",
     "iopub.status.busy": "2025-02-02T16:11:33.743996Z",
     "iopub.status.idle": "2025-02-02T16:11:33.751601Z",
     "shell.execute_reply": "2025-02-02T16:11:33.750369Z"
    },
    "papermill": {
     "duration": 0.035217,
     "end_time": "2025-02-02T16:11:33.753754",
     "exception": false,
     "start_time": "2025-02-02T16:11:33.718537",
     "status": "completed"
    },
    "tags": []
   },
   "outputs": [],
   "source": [
    "data_falcon9.to_csv(\"dataset_part_1.csv\", index=False)"
   ]
  },
  {
   "cell_type": "code",
   "execution_count": 33,
   "id": "d58caa1b",
   "metadata": {
    "execution": {
     "iopub.execute_input": "2025-02-02T16:11:33.804239Z",
     "iopub.status.busy": "2025-02-02T16:11:33.803882Z",
     "iopub.status.idle": "2025-02-02T16:11:33.825861Z",
     "shell.execute_reply": "2025-02-02T16:11:33.824223Z"
    },
    "papermill": {
     "duration": 0.049872,
     "end_time": "2025-02-02T16:11:33.828428",
     "exception": false,
     "start_time": "2025-02-02T16:11:33.778556",
     "status": "completed"
    },
    "tags": []
   },
   "outputs": [
    {
     "data": {
      "text/html": [
       "<div>\n",
       "<style scoped>\n",
       "    .dataframe tbody tr th:only-of-type {\n",
       "        vertical-align: middle;\n",
       "    }\n",
       "\n",
       "    .dataframe tbody tr th {\n",
       "        vertical-align: top;\n",
       "    }\n",
       "\n",
       "    .dataframe thead th {\n",
       "        text-align: right;\n",
       "    }\n",
       "</style>\n",
       "<table border=\"1\" class=\"dataframe\">\n",
       "  <thead>\n",
       "    <tr style=\"text-align: right;\">\n",
       "      <th></th>\n",
       "      <th>FlighNumber</th>\n",
       "      <th>Date</th>\n",
       "      <th>BoosterVersion</th>\n",
       "      <th>PayloadMass</th>\n",
       "      <th>Orbit</th>\n",
       "      <th>LaunchSite</th>\n",
       "      <th>Outcome</th>\n",
       "      <th>Flights</th>\n",
       "      <th>GridFins</th>\n",
       "      <th>Reused</th>\n",
       "      <th>Legs</th>\n",
       "      <th>LandingPad</th>\n",
       "      <th>Block</th>\n",
       "      <th>ReusedCount</th>\n",
       "      <th>Serial</th>\n",
       "      <th>Longitude</th>\n",
       "      <th>Latitude</th>\n",
       "      <th>FlightNumber</th>\n",
       "    </tr>\n",
       "  </thead>\n",
       "  <tbody>\n",
       "    <tr>\n",
       "      <th>0</th>\n",
       "      <td>6</td>\n",
       "      <td>2010-06-04</td>\n",
       "      <td>Falcon 9</td>\n",
       "      <td>6123.547647</td>\n",
       "      <td>LEO</td>\n",
       "      <td>CCSFS SLC 40</td>\n",
       "      <td>None None</td>\n",
       "      <td>1</td>\n",
       "      <td>False</td>\n",
       "      <td>False</td>\n",
       "      <td>False</td>\n",
       "      <td>Unknown</td>\n",
       "      <td>1.0</td>\n",
       "      <td>0</td>\n",
       "      <td>B0003</td>\n",
       "      <td>-80.577366</td>\n",
       "      <td>28.561857</td>\n",
       "      <td>1</td>\n",
       "    </tr>\n",
       "    <tr>\n",
       "      <th>1</th>\n",
       "      <td>8</td>\n",
       "      <td>2012-05-22</td>\n",
       "      <td>Falcon 9</td>\n",
       "      <td>525.000000</td>\n",
       "      <td>LEO</td>\n",
       "      <td>CCSFS SLC 40</td>\n",
       "      <td>None None</td>\n",
       "      <td>1</td>\n",
       "      <td>False</td>\n",
       "      <td>False</td>\n",
       "      <td>False</td>\n",
       "      <td>Unknown</td>\n",
       "      <td>1.0</td>\n",
       "      <td>0</td>\n",
       "      <td>B0005</td>\n",
       "      <td>-80.577366</td>\n",
       "      <td>28.561857</td>\n",
       "      <td>2</td>\n",
       "    </tr>\n",
       "    <tr>\n",
       "      <th>2</th>\n",
       "      <td>10</td>\n",
       "      <td>2013-03-01</td>\n",
       "      <td>Falcon 9</td>\n",
       "      <td>677.000000</td>\n",
       "      <td>ISS</td>\n",
       "      <td>CCSFS SLC 40</td>\n",
       "      <td>None None</td>\n",
       "      <td>1</td>\n",
       "      <td>False</td>\n",
       "      <td>False</td>\n",
       "      <td>False</td>\n",
       "      <td>Unknown</td>\n",
       "      <td>1.0</td>\n",
       "      <td>0</td>\n",
       "      <td>B0007</td>\n",
       "      <td>-80.577366</td>\n",
       "      <td>28.561857</td>\n",
       "      <td>3</td>\n",
       "    </tr>\n",
       "    <tr>\n",
       "      <th>3</th>\n",
       "      <td>11</td>\n",
       "      <td>2013-09-29</td>\n",
       "      <td>Falcon 9</td>\n",
       "      <td>500.000000</td>\n",
       "      <td>PO</td>\n",
       "      <td>VAFB SLC 4E</td>\n",
       "      <td>False Ocean</td>\n",
       "      <td>1</td>\n",
       "      <td>False</td>\n",
       "      <td>False</td>\n",
       "      <td>False</td>\n",
       "      <td>Unknown</td>\n",
       "      <td>1.0</td>\n",
       "      <td>0</td>\n",
       "      <td>B1003</td>\n",
       "      <td>-120.610829</td>\n",
       "      <td>34.632093</td>\n",
       "      <td>4</td>\n",
       "    </tr>\n",
       "    <tr>\n",
       "      <th>4</th>\n",
       "      <td>12</td>\n",
       "      <td>2013-12-03</td>\n",
       "      <td>Falcon 9</td>\n",
       "      <td>3170.000000</td>\n",
       "      <td>GTO</td>\n",
       "      <td>CCSFS SLC 40</td>\n",
       "      <td>None None</td>\n",
       "      <td>1</td>\n",
       "      <td>False</td>\n",
       "      <td>False</td>\n",
       "      <td>False</td>\n",
       "      <td>Unknown</td>\n",
       "      <td>1.0</td>\n",
       "      <td>0</td>\n",
       "      <td>B1004</td>\n",
       "      <td>-80.577366</td>\n",
       "      <td>28.561857</td>\n",
       "      <td>5</td>\n",
       "    </tr>\n",
       "  </tbody>\n",
       "</table>\n",
       "</div>"
      ],
      "text/plain": [
       "   FlighNumber        Date BoosterVersion  PayloadMass Orbit    LaunchSite  \\\n",
       "0            6  2010-06-04       Falcon 9  6123.547647   LEO  CCSFS SLC 40   \n",
       "1            8  2012-05-22       Falcon 9   525.000000   LEO  CCSFS SLC 40   \n",
       "2           10  2013-03-01       Falcon 9   677.000000   ISS  CCSFS SLC 40   \n",
       "3           11  2013-09-29       Falcon 9   500.000000    PO   VAFB SLC 4E   \n",
       "4           12  2013-12-03       Falcon 9  3170.000000   GTO  CCSFS SLC 40   \n",
       "\n",
       "       Outcome  Flights  GridFins  Reused   Legs LandingPad  Block  \\\n",
       "0    None None        1     False   False  False    Unknown    1.0   \n",
       "1    None None        1     False   False  False    Unknown    1.0   \n",
       "2    None None        1     False   False  False    Unknown    1.0   \n",
       "3  False Ocean        1     False   False  False    Unknown    1.0   \n",
       "4    None None        1     False   False  False    Unknown    1.0   \n",
       "\n",
       "   ReusedCount Serial   Longitude   Latitude  FlightNumber  \n",
       "0            0  B0003  -80.577366  28.561857             1  \n",
       "1            0  B0005  -80.577366  28.561857             2  \n",
       "2            0  B0007  -80.577366  28.561857             3  \n",
       "3            0  B1003 -120.610829  34.632093             4  \n",
       "4            0  B1004  -80.577366  28.561857             5  "
      ]
     },
     "execution_count": 33,
     "metadata": {},
     "output_type": "execute_result"
    }
   ],
   "source": [
    "data = pd.read_csv(\"dataset_part_1.csv\")\n",
    "data.head()"
   ]
  },
  {
   "cell_type": "code",
   "execution_count": 34,
   "id": "5ec18147",
   "metadata": {
    "execution": {
     "iopub.execute_input": "2025-02-02T16:11:33.879457Z",
     "iopub.status.busy": "2025-02-02T16:11:33.879044Z",
     "iopub.status.idle": "2025-02-02T16:11:33.888851Z",
     "shell.execute_reply": "2025-02-02T16:11:33.887467Z"
    },
    "papermill": {
     "duration": 0.038142,
     "end_time": "2025-02-02T16:11:33.891744",
     "exception": false,
     "start_time": "2025-02-02T16:11:33.853602",
     "status": "completed"
    },
    "tags": []
   },
   "outputs": [
    {
     "data": {
      "text/plain": [
       "FlighNumber       0.0\n",
       "Date              0.0\n",
       "BoosterVersion    0.0\n",
       "PayloadMass       0.0\n",
       "Orbit             0.0\n",
       "LaunchSite        0.0\n",
       "Outcome           0.0\n",
       "Flights           0.0\n",
       "GridFins          0.0\n",
       "Reused            0.0\n",
       "Legs              0.0\n",
       "LandingPad        0.0\n",
       "Block             0.0\n",
       "ReusedCount       0.0\n",
       "Serial            0.0\n",
       "Longitude         0.0\n",
       "Latitude          0.0\n",
       "FlightNumber      0.0\n",
       "dtype: float64"
      ]
     },
     "execution_count": 34,
     "metadata": {},
     "output_type": "execute_result"
    }
   ],
   "source": [
    "data.isnull().sum()/data.shape[0]*100"
   ]
  },
  {
   "cell_type": "code",
   "execution_count": 35,
   "id": "69bcd8bf",
   "metadata": {
    "execution": {
     "iopub.execute_input": "2025-02-02T16:11:33.946030Z",
     "iopub.status.busy": "2025-02-02T16:11:33.945633Z",
     "iopub.status.idle": "2025-02-02T16:11:33.953725Z",
     "shell.execute_reply": "2025-02-02T16:11:33.952648Z"
    },
    "papermill": {
     "duration": 0.038436,
     "end_time": "2025-02-02T16:11:33.956002",
     "exception": false,
     "start_time": "2025-02-02T16:11:33.917566",
     "status": "completed"
    },
    "tags": []
   },
   "outputs": [
    {
     "data": {
      "text/plain": [
       "FlighNumber         int64\n",
       "Date               object\n",
       "BoosterVersion     object\n",
       "PayloadMass       float64\n",
       "Orbit              object\n",
       "LaunchSite         object\n",
       "Outcome            object\n",
       "Flights             int64\n",
       "GridFins             bool\n",
       "Reused               bool\n",
       "Legs                 bool\n",
       "LandingPad         object\n",
       "Block             float64\n",
       "ReusedCount         int64\n",
       "Serial             object\n",
       "Longitude         float64\n",
       "Latitude          float64\n",
       "FlightNumber        int64\n",
       "dtype: object"
      ]
     },
     "execution_count": 35,
     "metadata": {},
     "output_type": "execute_result"
    }
   ],
   "source": [
    "data.dtypes\n"
   ]
  },
  {
   "cell_type": "markdown",
   "id": "e491e8e6",
   "metadata": {
    "papermill": {
     "duration": 0.027145,
     "end_time": "2025-02-02T16:11:34.009477",
     "exception": false,
     "start_time": "2025-02-02T16:11:33.982332",
     "status": "completed"
    },
    "tags": []
   },
   "source": [
    "### the number of launches on each site\n",
    "\n",
    "The data contains several Space X  launch facilities: <a href='https://en.wikipedia.org/wiki/List_of_Cape_Canaveral_and_Merritt_Island_launch_sites?utm_medium=Exinfluencer&utm_source=Exinfluencer&utm_content=000026UJ&utm_term=10006555&utm_id=NA-SkillsNetwork-Channel-SkillsNetworkCoursesIBMDS0321ENSkillsNetwork26802033-2022-01-01'>Cape Canaveral Space</a> Launch Complex 40  <b>VAFB SLC 4E </b> , Vandenberg Air Force Base Space Launch Complex 4E <b>(SLC-4E)</b>, Kennedy Space Center Launch Complex 39A <b>KSC LC 39A </b>.The location of each Launch Is placed in the column <code>LaunchSite</code>\n"
   ]
  },
  {
   "cell_type": "code",
   "execution_count": 36,
   "id": "668abccc",
   "metadata": {
    "execution": {
     "iopub.execute_input": "2025-02-02T16:11:34.071328Z",
     "iopub.status.busy": "2025-02-02T16:11:34.070910Z",
     "iopub.status.idle": "2025-02-02T16:11:34.085624Z",
     "shell.execute_reply": "2025-02-02T16:11:34.084012Z"
    },
    "papermill": {
     "duration": 0.050875,
     "end_time": "2025-02-02T16:11:34.088691",
     "exception": false,
     "start_time": "2025-02-02T16:11:34.037816",
     "status": "completed"
    },
    "tags": []
   },
   "outputs": [
    {
     "data": {
      "text/plain": [
       "LaunchSite\n",
       "CCSFS SLC 40    55\n",
       "KSC LC 39A      22\n",
       "VAFB SLC 4E     13\n",
       "Name: count, dtype: int64"
      ]
     },
     "execution_count": 36,
     "metadata": {},
     "output_type": "execute_result"
    }
   ],
   "source": [
    "data['LaunchSite'].value_counts()"
   ]
  },
  {
   "cell_type": "markdown",
   "id": "3766bd04",
   "metadata": {
    "papermill": {
     "duration": 0.024001,
     "end_time": "2025-02-02T16:11:34.137894",
     "exception": false,
     "start_time": "2025-02-02T16:11:34.113893",
     "status": "completed"
    },
    "tags": []
   },
   "source": [
    "Each launch aims to an dedicated orbit, and here are some common orbit types:\n"
   ]
  },
  {
   "cell_type": "markdown",
   "id": "dcf394d2",
   "metadata": {
    "papermill": {
     "duration": 0.028775,
     "end_time": "2025-02-02T16:11:34.192776",
     "exception": false,
     "start_time": "2025-02-02T16:11:34.164001",
     "status": "completed"
    },
    "tags": []
   },
   "source": [
    "*   <b>LEO</b>: Low Earth orbit (LEO)is an Earth-centred orbit with an altitude of 2,000 km (1,200 mi) or less (approximately one-third of the radius of Earth),\\[1] or with at least 11.25 periods per day (an orbital period of 128 minutes or less) and an eccentricity less than 0.25.\\[2] Most of the manmade objects in outer space are in LEO <a href='https://en.wikipedia.org/wiki/Low_Earth_orbit?utm_medium=Exinfluencer&utm_source=Exinfluencer&utm_content=000026UJ&utm_term=10006555&utm_id=NA-SkillsNetwork-Channel-SkillsNetworkCoursesIBMDS0321ENSkillsNetwork26802033-2022-01-01'>\\[1]</a>.\n",
    "\n",
    "*   <b>VLEO</b>: Very Low Earth Orbits (VLEO) can be defined as the orbits with a mean altitude below 450 km. Operating in these orbits can provide a number of benefits to Earth observation spacecraft as the spacecraft operates closer to the observation<a href='https://www.researchgate.net/publication/271499606_Very_Low_Earth_Orbit_mission_concepts_for_Earth_Observation_Benefits_and_challenges?utm_medium=Exinfluencer&utm_source=Exinfluencer&utm_content=000026UJ&utm_term=10006555&utm_id=NA-SkillsNetwork-Channel-SkillsNetworkCoursesIBMDS0321ENSkillsNetwork26802033-2022-01-01'>\\[2]</a>.\n",
    "\n",
    "*   <b>GTO</b> A geosynchronous orbit is a high Earth orbit that allows satellites to match Earth's rotation. Located at 22,236 miles (35,786 kilometers) above Earth's equator, this position is a valuable spot for monitoring weather, communications and surveillance. Because the satellite orbits at the same speed that the Earth is turning, the satellite seems to stay in place over a single longitude, though it may drift north to south,” NASA wrote on its Earth Observatory website <a  href=\"https://www.space.com/29222-geosynchronous-orbit.html?utm_medium=Exinfluencer&utm_source=Exinfluencer&utm_content=000026UJ&utm_term=10006555&utm_id=NA-SkillsNetwork-Channel-SkillsNetworkCoursesIBMDS0321ENSkillsNetwork26802033-2022-01-01\" >\\[3] </a>.\n",
    "\n",
    "*   <b>SSO (or SO)</b>: It is a Sun-synchronous orbit  also called a heliosynchronous orbit is a nearly polar orbit around a planet, in which the satellite passes over any given point of the planet's surface at the same local mean solar time <a href=\"https://en.wikipedia.org/wiki/Sun-synchronous_orbit?utm_medium=Exinfluencer&utm_source=Exinfluencer&utm_content=000026UJ&utm_term=10006555&utm_id=NA-SkillsNetwork-Channel-SkillsNetworkCoursesIBMDS0321ENSkillsNetwork26802033-2022-01-01\">\\[4] <a>.\n",
    "\n",
    "*   <b>ES-L1 </b>:At the Lagrange points the gravitational forces of the two large bodies cancel out in such a way that a small object placed in orbit there is in equilibrium relative to the center of mass of the large bodies. L1 is one such point between the sun and the earth <a href=\"https://en.wikipedia.org/wiki/Lagrange_point?utm_medium=Exinfluencer&utm_source=Exinfluencer&utm_content=000026UJ&utm_term=10006555&utm_id=NA-SkillsNetwork-Channel-SkillsNetworkCoursesIBMDS0321ENSkillsNetwork26802033-2022-01-01#L1_point\">\\[5]</a> .\n",
    "\n",
    "*   <b>HEO</b> A highly elliptical orbit, is an elliptic orbit with high eccentricity, usually referring to one around Earth <a href=\"https://en.wikipedia.org/wiki/Highly_elliptical_orbit?utm_medium=Exinfluencer&utm_source=Exinfluencer&utm_content=000026UJ&utm_term=10006555&utm_id=NA-SkillsNetwork-Channel-SkillsNetworkCoursesIBMDS0321ENSkillsNetwork26802033-2022-01-01\">\\[6]</a>.\n",
    "\n",
    "*   <b> ISS </b> A modular space station (habitable artificial satellite) in low Earth orbit. It is a multinational collaborative project between five participating space agencies: NASA (United States), Roscosmos (Russia), JAXA (Japan), ESA (Europe), and CSA (Canada)<a href=\"https://en.wikipedia.org/wiki/International_Space_Station?utm_medium=Exinfluencer&utm_source=Exinfluencer&utm_content=000026UJ&utm_term=10006555&utm_id=NA-SkillsNetwork-Channel-SkillsNetworkCoursesIBMDS0321ENSkillsNetwork26802033-2022-01-01\"> \\[7] </a>\n",
    "\n",
    "*   <b> MEO </b> Geocentric orbits ranging in altitude from 2,000 km (1,200 mi) to just below geosynchronous orbit at 35,786 kilometers (22,236 mi). Also known as an intermediate circular orbit. These are \"most commonly at 20,200 kilometers (12,600 mi), or 20,650 kilometers (12,830 mi), with an orbital period of 12 hours <a href=\"https://en.wikipedia.org/wiki/List_of_orbits?utm_medium=Exinfluencer&utm_source=Exinfluencer&utm_content=000026UJ&utm_term=10006555&utm_id=NA-SkillsNetwork-Channel-SkillsNetworkCoursesIBMDS0321ENSkillsNetwork26802033-2022-01-01\"> \\[8] </a>\n",
    "\n",
    "*   <b> HEO </b> Geocentric orbits above the altitude of geosynchronous orbit (35,786 km or 22,236 mi) <a href=\"https://en.wikipedia.org/wiki/List_of_orbits?utm_medium=Exinfluencer&utm_source=Exinfluencer&utm_content=000026UJ&utm_term=10006555&utm_id=NA-SkillsNetwork-Channel-SkillsNetworkCoursesIBMDS0321ENSkillsNetwork26802033-2022-01-01\"> \\[9] </a>\n",
    "\n",
    "*   <b> GEO </b> It is a circular geosynchronous orbit 35,786 kilometres (22,236 miles) above Earth's equator and following the direction of Earth's rotation <a href=\"https://en.wikipedia.org/wiki/Geostationary_orbit?utm_medium=Exinfluencer&utm_source=Exinfluencer&utm_content=000026UJ&utm_term=10006555&utm_id=NA-SkillsNetwork-Channel-SkillsNetworkCoursesIBMDS0321ENSkillsNetwork26802033-2022-01-01\"> \\[10] </a>\n",
    "\n",
    "*   <b> PO </b> It is one type of satellites in which a satellite passes above or nearly above both poles of the body being orbited (usually a planet such as the Earth <a href=\"https://en.wikipedia.org/wiki/Polar_orbit?utm_medium=Exinfluencer&utm_source=Exinfluencer&utm_content=000026UJ&utm_term=10006555&utm_id=NA-SkillsNetwork-Channel-SkillsNetworkCoursesIBMDS0321ENSkillsNetwork26802033-2022-01-01\"> \\[11] </a>\n",
    "\n",
    "some are shown in the following plot:\n"
   ]
  },
  {
   "cell_type": "markdown",
   "id": "735d610a",
   "metadata": {
    "papermill": {
     "duration": 0.028375,
     "end_time": "2025-02-02T16:11:34.250454",
     "exception": false,
     "start_time": "2025-02-02T16:11:34.222079",
     "status": "completed"
    },
    "tags": []
   },
   "source": [
    "![](https://cf-courses-data.s3.us.cloud-object-storage.appdomain.cloud/IBMDeveloperSkillsNetwork-DS0701EN-SkillsNetwork/api/Images/Orbits.png)\n"
   ]
  },
  {
   "cell_type": "code",
   "execution_count": 37,
   "id": "aa37b82d",
   "metadata": {
    "execution": {
     "iopub.execute_input": "2025-02-02T16:11:34.305318Z",
     "iopub.status.busy": "2025-02-02T16:11:34.304872Z",
     "iopub.status.idle": "2025-02-02T16:11:34.313747Z",
     "shell.execute_reply": "2025-02-02T16:11:34.312618Z"
    },
    "papermill": {
     "duration": 0.038561,
     "end_time": "2025-02-02T16:11:34.315630",
     "exception": false,
     "start_time": "2025-02-02T16:11:34.277069",
     "status": "completed"
    },
    "tags": []
   },
   "outputs": [
    {
     "data": {
      "text/plain": [
       "Orbit\n",
       "GTO      27\n",
       "ISS      21\n",
       "VLEO     14\n",
       "PO        9\n",
       "LEO       7\n",
       "SSO       5\n",
       "MEO       3\n",
       "ES-L1     1\n",
       "HEO       1\n",
       "SO        1\n",
       "GEO       1\n",
       "Name: count, dtype: int64"
      ]
     },
     "execution_count": 37,
     "metadata": {},
     "output_type": "execute_result"
    }
   ],
   "source": [
    "data[\"Orbit\"].value_counts()"
   ]
  },
  {
   "cell_type": "code",
   "execution_count": 38,
   "id": "c43f6a75",
   "metadata": {
    "execution": {
     "iopub.execute_input": "2025-02-02T16:11:34.370183Z",
     "iopub.status.busy": "2025-02-02T16:11:34.369731Z",
     "iopub.status.idle": "2025-02-02T16:11:34.376875Z",
     "shell.execute_reply": "2025-02-02T16:11:34.375398Z"
    },
    "papermill": {
     "duration": 0.03693,
     "end_time": "2025-02-02T16:11:34.379077",
     "exception": false,
     "start_time": "2025-02-02T16:11:34.342147",
     "status": "completed"
    },
    "tags": []
   },
   "outputs": [],
   "source": [
    "landing_outcomes = data[\"Outcome\"].value_counts()"
   ]
  },
  {
   "cell_type": "code",
   "execution_count": 39,
   "id": "224fd6dd",
   "metadata": {
    "execution": {
     "iopub.execute_input": "2025-02-02T16:11:34.434210Z",
     "iopub.status.busy": "2025-02-02T16:11:34.433804Z",
     "iopub.status.idle": "2025-02-02T16:11:34.442979Z",
     "shell.execute_reply": "2025-02-02T16:11:34.441373Z"
    },
    "papermill": {
     "duration": 0.039736,
     "end_time": "2025-02-02T16:11:34.445026",
     "exception": false,
     "start_time": "2025-02-02T16:11:34.405290",
     "status": "completed"
    },
    "tags": []
   },
   "outputs": [
    {
     "data": {
      "text/plain": [
       "Outcome\n",
       "True ASDS      41\n",
       "None None      19\n",
       "True RTLS      14\n",
       "False ASDS      6\n",
       "True Ocean      5\n",
       "False Ocean     2\n",
       "None ASDS       2\n",
       "False RTLS      1\n",
       "Name: count, dtype: int64"
      ]
     },
     "execution_count": 39,
     "metadata": {},
     "output_type": "execute_result"
    }
   ],
   "source": [
    "landing_outcomes"
   ]
  },
  {
   "cell_type": "markdown",
   "id": "4b6d21dd",
   "metadata": {
    "papermill": {
     "duration": 0.029491,
     "end_time": "2025-02-02T16:11:34.502407",
     "exception": false,
     "start_time": "2025-02-02T16:11:34.472916",
     "status": "completed"
    },
    "tags": []
   },
   "source": [
    "<code>True Ocean</code> means the mission outcome was successfully  landed to a specific region of the ocean while <code>False Ocean</code> means the mission outcome was unsuccessfully landed to a specific region of the ocean. <code>True RTLS</code> means the mission outcome was successfully  landed to a ground pad <code>False RTLS</code> means the mission outcome was unsuccessfully landed to a ground pad.<code>True ASDS</code> means the mission outcome was successfully  landed to a drone ship <code>False ASDS</code> means the mission outcome was unsuccessfully landed to a drone ship. <code>None ASDS</code> and <code>None None</code> these represent a failure to land.\n"
   ]
  },
  {
   "cell_type": "code",
   "execution_count": 40,
   "id": "d8a8be68",
   "metadata": {
    "execution": {
     "iopub.execute_input": "2025-02-02T16:11:34.559402Z",
     "iopub.status.busy": "2025-02-02T16:11:34.558940Z",
     "iopub.status.idle": "2025-02-02T16:11:34.568639Z",
     "shell.execute_reply": "2025-02-02T16:11:34.567028Z"
    },
    "papermill": {
     "duration": 0.040278,
     "end_time": "2025-02-02T16:11:34.570789",
     "exception": false,
     "start_time": "2025-02-02T16:11:34.530511",
     "status": "completed"
    },
    "tags": []
   },
   "outputs": [
    {
     "name": "stdout",
     "output_type": "stream",
     "text": [
      "0 True ASDS\n",
      "1 None None\n",
      "2 True RTLS\n",
      "3 False ASDS\n",
      "4 True Ocean\n",
      "5 False Ocean\n",
      "6 None ASDS\n",
      "7 False RTLS\n"
     ]
    }
   ],
   "source": [
    "for i, outcome in enumerate(landing_outcomes.keys()):\n",
    "    print(i,outcome)"
   ]
  },
  {
   "cell_type": "code",
   "execution_count": 41,
   "id": "d8420a77",
   "metadata": {
    "execution": {
     "iopub.execute_input": "2025-02-02T16:11:34.623990Z",
     "iopub.status.busy": "2025-02-02T16:11:34.623511Z",
     "iopub.status.idle": "2025-02-02T16:11:34.631937Z",
     "shell.execute_reply": "2025-02-02T16:11:34.630458Z"
    },
    "papermill": {
     "duration": 0.037404,
     "end_time": "2025-02-02T16:11:34.633781",
     "exception": false,
     "start_time": "2025-02-02T16:11:34.596377",
     "status": "completed"
    },
    "tags": []
   },
   "outputs": [
    {
     "data": {
      "text/plain": [
       "{'False ASDS', 'False Ocean', 'False RTLS', 'None ASDS', 'None None'}"
      ]
     },
     "execution_count": 41,
     "metadata": {},
     "output_type": "execute_result"
    }
   ],
   "source": [
    "bad_outcomes = set(landing_outcomes.keys()[[1,3,5,6,7]])\n",
    "bad_outcomes"
   ]
  },
  {
   "cell_type": "markdown",
   "id": "b603213c",
   "metadata": {
    "papermill": {
     "duration": 0.024726,
     "end_time": "2025-02-02T16:11:34.684154",
     "exception": false,
     "start_time": "2025-02-02T16:11:34.659428",
     "status": "completed"
    },
    "tags": []
   },
   "source": [
    "Using the <code>Outcome</code>,  create a list where the element is zero if the corresponding  row  in  <code>Outcome</code> is in the set <code>bad_outcome</code>; otherwise, it's one. Then assign it to the variable <code>landing_class</code>:\n"
   ]
  },
  {
   "cell_type": "code",
   "execution_count": 42,
   "id": "c311b01c",
   "metadata": {
    "execution": {
     "iopub.execute_input": "2025-02-02T16:11:34.742536Z",
     "iopub.status.busy": "2025-02-02T16:11:34.742057Z",
     "iopub.status.idle": "2025-02-02T16:11:34.748074Z",
     "shell.execute_reply": "2025-02-02T16:11:34.746514Z"
    },
    "papermill": {
     "duration": 0.040026,
     "end_time": "2025-02-02T16:11:34.750581",
     "exception": false,
     "start_time": "2025-02-02T16:11:34.710555",
     "status": "completed"
    },
    "tags": []
   },
   "outputs": [],
   "source": [
    "landing_class = [0 if any(bad in str(outcome) for bad in bad_outcomes) else 1 for outcome in data_falcon9['Outcome']]\n"
   ]
  },
  {
   "cell_type": "code",
   "execution_count": 43,
   "id": "58fced16",
   "metadata": {
    "execution": {
     "iopub.execute_input": "2025-02-02T16:11:34.801779Z",
     "iopub.status.busy": "2025-02-02T16:11:34.801358Z",
     "iopub.status.idle": "2025-02-02T16:11:34.812460Z",
     "shell.execute_reply": "2025-02-02T16:11:34.810807Z"
    },
    "papermill": {
     "duration": 0.03917,
     "end_time": "2025-02-02T16:11:34.814540",
     "exception": false,
     "start_time": "2025-02-02T16:11:34.775370",
     "status": "completed"
    },
    "tags": []
   },
   "outputs": [
    {
     "data": {
      "text/html": [
       "<div>\n",
       "<style scoped>\n",
       "    .dataframe tbody tr th:only-of-type {\n",
       "        vertical-align: middle;\n",
       "    }\n",
       "\n",
       "    .dataframe tbody tr th {\n",
       "        vertical-align: top;\n",
       "    }\n",
       "\n",
       "    .dataframe thead th {\n",
       "        text-align: right;\n",
       "    }\n",
       "</style>\n",
       "<table border=\"1\" class=\"dataframe\">\n",
       "  <thead>\n",
       "    <tr style=\"text-align: right;\">\n",
       "      <th></th>\n",
       "      <th>Class</th>\n",
       "    </tr>\n",
       "  </thead>\n",
       "  <tbody>\n",
       "    <tr>\n",
       "      <th>0</th>\n",
       "      <td>0</td>\n",
       "    </tr>\n",
       "    <tr>\n",
       "      <th>1</th>\n",
       "      <td>0</td>\n",
       "    </tr>\n",
       "    <tr>\n",
       "      <th>2</th>\n",
       "      <td>0</td>\n",
       "    </tr>\n",
       "    <tr>\n",
       "      <th>3</th>\n",
       "      <td>0</td>\n",
       "    </tr>\n",
       "    <tr>\n",
       "      <th>4</th>\n",
       "      <td>0</td>\n",
       "    </tr>\n",
       "    <tr>\n",
       "      <th>5</th>\n",
       "      <td>0</td>\n",
       "    </tr>\n",
       "    <tr>\n",
       "      <th>6</th>\n",
       "      <td>1</td>\n",
       "    </tr>\n",
       "    <tr>\n",
       "      <th>7</th>\n",
       "      <td>1</td>\n",
       "    </tr>\n",
       "  </tbody>\n",
       "</table>\n",
       "</div>"
      ],
      "text/plain": [
       "   Class\n",
       "0      0\n",
       "1      0\n",
       "2      0\n",
       "3      0\n",
       "4      0\n",
       "5      0\n",
       "6      1\n",
       "7      1"
      ]
     },
     "execution_count": 43,
     "metadata": {},
     "output_type": "execute_result"
    }
   ],
   "source": [
    "data[\"Class\"] = landing_class\n",
    "data[['Class']].head(8)"
   ]
  },
  {
   "cell_type": "code",
   "execution_count": 44,
   "id": "39d475a3",
   "metadata": {
    "execution": {
     "iopub.execute_input": "2025-02-02T16:11:34.864860Z",
     "iopub.status.busy": "2025-02-02T16:11:34.864429Z",
     "iopub.status.idle": "2025-02-02T16:11:34.886177Z",
     "shell.execute_reply": "2025-02-02T16:11:34.884585Z"
    },
    "papermill": {
     "duration": 0.049175,
     "end_time": "2025-02-02T16:11:34.888202",
     "exception": false,
     "start_time": "2025-02-02T16:11:34.839027",
     "status": "completed"
    },
    "tags": []
   },
   "outputs": [
    {
     "data": {
      "text/html": [
       "<div>\n",
       "<style scoped>\n",
       "    .dataframe tbody tr th:only-of-type {\n",
       "        vertical-align: middle;\n",
       "    }\n",
       "\n",
       "    .dataframe tbody tr th {\n",
       "        vertical-align: top;\n",
       "    }\n",
       "\n",
       "    .dataframe thead th {\n",
       "        text-align: right;\n",
       "    }\n",
       "</style>\n",
       "<table border=\"1\" class=\"dataframe\">\n",
       "  <thead>\n",
       "    <tr style=\"text-align: right;\">\n",
       "      <th></th>\n",
       "      <th>FlighNumber</th>\n",
       "      <th>Date</th>\n",
       "      <th>BoosterVersion</th>\n",
       "      <th>PayloadMass</th>\n",
       "      <th>Orbit</th>\n",
       "      <th>LaunchSite</th>\n",
       "      <th>Outcome</th>\n",
       "      <th>Flights</th>\n",
       "      <th>GridFins</th>\n",
       "      <th>Reused</th>\n",
       "      <th>Legs</th>\n",
       "      <th>LandingPad</th>\n",
       "      <th>Block</th>\n",
       "      <th>ReusedCount</th>\n",
       "      <th>Serial</th>\n",
       "      <th>Longitude</th>\n",
       "      <th>Latitude</th>\n",
       "      <th>FlightNumber</th>\n",
       "      <th>Class</th>\n",
       "    </tr>\n",
       "  </thead>\n",
       "  <tbody>\n",
       "    <tr>\n",
       "      <th>0</th>\n",
       "      <td>6</td>\n",
       "      <td>2010-06-04</td>\n",
       "      <td>Falcon 9</td>\n",
       "      <td>6123.547647</td>\n",
       "      <td>LEO</td>\n",
       "      <td>CCSFS SLC 40</td>\n",
       "      <td>None None</td>\n",
       "      <td>1</td>\n",
       "      <td>False</td>\n",
       "      <td>False</td>\n",
       "      <td>False</td>\n",
       "      <td>Unknown</td>\n",
       "      <td>1.0</td>\n",
       "      <td>0</td>\n",
       "      <td>B0003</td>\n",
       "      <td>-80.577366</td>\n",
       "      <td>28.561857</td>\n",
       "      <td>1</td>\n",
       "      <td>0</td>\n",
       "    </tr>\n",
       "    <tr>\n",
       "      <th>1</th>\n",
       "      <td>8</td>\n",
       "      <td>2012-05-22</td>\n",
       "      <td>Falcon 9</td>\n",
       "      <td>525.000000</td>\n",
       "      <td>LEO</td>\n",
       "      <td>CCSFS SLC 40</td>\n",
       "      <td>None None</td>\n",
       "      <td>1</td>\n",
       "      <td>False</td>\n",
       "      <td>False</td>\n",
       "      <td>False</td>\n",
       "      <td>Unknown</td>\n",
       "      <td>1.0</td>\n",
       "      <td>0</td>\n",
       "      <td>B0005</td>\n",
       "      <td>-80.577366</td>\n",
       "      <td>28.561857</td>\n",
       "      <td>2</td>\n",
       "      <td>0</td>\n",
       "    </tr>\n",
       "    <tr>\n",
       "      <th>2</th>\n",
       "      <td>10</td>\n",
       "      <td>2013-03-01</td>\n",
       "      <td>Falcon 9</td>\n",
       "      <td>677.000000</td>\n",
       "      <td>ISS</td>\n",
       "      <td>CCSFS SLC 40</td>\n",
       "      <td>None None</td>\n",
       "      <td>1</td>\n",
       "      <td>False</td>\n",
       "      <td>False</td>\n",
       "      <td>False</td>\n",
       "      <td>Unknown</td>\n",
       "      <td>1.0</td>\n",
       "      <td>0</td>\n",
       "      <td>B0007</td>\n",
       "      <td>-80.577366</td>\n",
       "      <td>28.561857</td>\n",
       "      <td>3</td>\n",
       "      <td>0</td>\n",
       "    </tr>\n",
       "    <tr>\n",
       "      <th>3</th>\n",
       "      <td>11</td>\n",
       "      <td>2013-09-29</td>\n",
       "      <td>Falcon 9</td>\n",
       "      <td>500.000000</td>\n",
       "      <td>PO</td>\n",
       "      <td>VAFB SLC 4E</td>\n",
       "      <td>False Ocean</td>\n",
       "      <td>1</td>\n",
       "      <td>False</td>\n",
       "      <td>False</td>\n",
       "      <td>False</td>\n",
       "      <td>Unknown</td>\n",
       "      <td>1.0</td>\n",
       "      <td>0</td>\n",
       "      <td>B1003</td>\n",
       "      <td>-120.610829</td>\n",
       "      <td>34.632093</td>\n",
       "      <td>4</td>\n",
       "      <td>0</td>\n",
       "    </tr>\n",
       "    <tr>\n",
       "      <th>4</th>\n",
       "      <td>12</td>\n",
       "      <td>2013-12-03</td>\n",
       "      <td>Falcon 9</td>\n",
       "      <td>3170.000000</td>\n",
       "      <td>GTO</td>\n",
       "      <td>CCSFS SLC 40</td>\n",
       "      <td>None None</td>\n",
       "      <td>1</td>\n",
       "      <td>False</td>\n",
       "      <td>False</td>\n",
       "      <td>False</td>\n",
       "      <td>Unknown</td>\n",
       "      <td>1.0</td>\n",
       "      <td>0</td>\n",
       "      <td>B1004</td>\n",
       "      <td>-80.577366</td>\n",
       "      <td>28.561857</td>\n",
       "      <td>5</td>\n",
       "      <td>0</td>\n",
       "    </tr>\n",
       "    <tr>\n",
       "      <th>5</th>\n",
       "      <td>13</td>\n",
       "      <td>2014-01-06</td>\n",
       "      <td>Falcon 9</td>\n",
       "      <td>3325.000000</td>\n",
       "      <td>GTO</td>\n",
       "      <td>CCSFS SLC 40</td>\n",
       "      <td>None None</td>\n",
       "      <td>1</td>\n",
       "      <td>False</td>\n",
       "      <td>False</td>\n",
       "      <td>False</td>\n",
       "      <td>Unknown</td>\n",
       "      <td>1.0</td>\n",
       "      <td>0</td>\n",
       "      <td>B1005</td>\n",
       "      <td>-80.577366</td>\n",
       "      <td>28.561857</td>\n",
       "      <td>6</td>\n",
       "      <td>0</td>\n",
       "    </tr>\n",
       "    <tr>\n",
       "      <th>6</th>\n",
       "      <td>14</td>\n",
       "      <td>2014-04-18</td>\n",
       "      <td>Falcon 9</td>\n",
       "      <td>2296.000000</td>\n",
       "      <td>ISS</td>\n",
       "      <td>CCSFS SLC 40</td>\n",
       "      <td>True Ocean</td>\n",
       "      <td>1</td>\n",
       "      <td>False</td>\n",
       "      <td>False</td>\n",
       "      <td>True</td>\n",
       "      <td>Unknown</td>\n",
       "      <td>1.0</td>\n",
       "      <td>0</td>\n",
       "      <td>B1006</td>\n",
       "      <td>-80.577366</td>\n",
       "      <td>28.561857</td>\n",
       "      <td>7</td>\n",
       "      <td>1</td>\n",
       "    </tr>\n",
       "    <tr>\n",
       "      <th>7</th>\n",
       "      <td>15</td>\n",
       "      <td>2014-07-14</td>\n",
       "      <td>Falcon 9</td>\n",
       "      <td>1316.000000</td>\n",
       "      <td>LEO</td>\n",
       "      <td>CCSFS SLC 40</td>\n",
       "      <td>True Ocean</td>\n",
       "      <td>1</td>\n",
       "      <td>False</td>\n",
       "      <td>False</td>\n",
       "      <td>True</td>\n",
       "      <td>Unknown</td>\n",
       "      <td>1.0</td>\n",
       "      <td>0</td>\n",
       "      <td>B1007</td>\n",
       "      <td>-80.577366</td>\n",
       "      <td>28.561857</td>\n",
       "      <td>8</td>\n",
       "      <td>1</td>\n",
       "    </tr>\n",
       "  </tbody>\n",
       "</table>\n",
       "</div>"
      ],
      "text/plain": [
       "   FlighNumber        Date BoosterVersion  PayloadMass Orbit    LaunchSite  \\\n",
       "0            6  2010-06-04       Falcon 9  6123.547647   LEO  CCSFS SLC 40   \n",
       "1            8  2012-05-22       Falcon 9   525.000000   LEO  CCSFS SLC 40   \n",
       "2           10  2013-03-01       Falcon 9   677.000000   ISS  CCSFS SLC 40   \n",
       "3           11  2013-09-29       Falcon 9   500.000000    PO   VAFB SLC 4E   \n",
       "4           12  2013-12-03       Falcon 9  3170.000000   GTO  CCSFS SLC 40   \n",
       "5           13  2014-01-06       Falcon 9  3325.000000   GTO  CCSFS SLC 40   \n",
       "6           14  2014-04-18       Falcon 9  2296.000000   ISS  CCSFS SLC 40   \n",
       "7           15  2014-07-14       Falcon 9  1316.000000   LEO  CCSFS SLC 40   \n",
       "\n",
       "       Outcome  Flights  GridFins  Reused   Legs LandingPad  Block  \\\n",
       "0    None None        1     False   False  False    Unknown    1.0   \n",
       "1    None None        1     False   False  False    Unknown    1.0   \n",
       "2    None None        1     False   False  False    Unknown    1.0   \n",
       "3  False Ocean        1     False   False  False    Unknown    1.0   \n",
       "4    None None        1     False   False  False    Unknown    1.0   \n",
       "5    None None        1     False   False  False    Unknown    1.0   \n",
       "6   True Ocean        1     False   False   True    Unknown    1.0   \n",
       "7   True Ocean        1     False   False   True    Unknown    1.0   \n",
       "\n",
       "   ReusedCount Serial   Longitude   Latitude  FlightNumber  Class  \n",
       "0            0  B0003  -80.577366  28.561857             1      0  \n",
       "1            0  B0005  -80.577366  28.561857             2      0  \n",
       "2            0  B0007  -80.577366  28.561857             3      0  \n",
       "3            0  B1003 -120.610829  34.632093             4      0  \n",
       "4            0  B1004  -80.577366  28.561857             5      0  \n",
       "5            0  B1005  -80.577366  28.561857             6      0  \n",
       "6            0  B1006  -80.577366  28.561857             7      1  \n",
       "7            0  B1007  -80.577366  28.561857             8      1  "
      ]
     },
     "execution_count": 44,
     "metadata": {},
     "output_type": "execute_result"
    }
   ],
   "source": [
    "data.head(8)"
   ]
  },
  {
   "cell_type": "code",
   "execution_count": 45,
   "id": "f0a758d4",
   "metadata": {
    "execution": {
     "iopub.execute_input": "2025-02-02T16:11:34.941923Z",
     "iopub.status.busy": "2025-02-02T16:11:34.941526Z",
     "iopub.status.idle": "2025-02-02T16:11:34.948208Z",
     "shell.execute_reply": "2025-02-02T16:11:34.947060Z"
    },
    "papermill": {
     "duration": 0.036042,
     "end_time": "2025-02-02T16:11:34.950327",
     "exception": false,
     "start_time": "2025-02-02T16:11:34.914285",
     "status": "completed"
    },
    "tags": []
   },
   "outputs": [
    {
     "data": {
      "text/plain": [
       "0.6666666666666666"
      ]
     },
     "execution_count": 45,
     "metadata": {},
     "output_type": "execute_result"
    }
   ],
   "source": [
    "data['Class'].mean()"
   ]
  },
  {
   "cell_type": "code",
   "execution_count": 46,
   "id": "9594c919",
   "metadata": {
    "execution": {
     "iopub.execute_input": "2025-02-02T16:11:35.008036Z",
     "iopub.status.busy": "2025-02-02T16:11:35.007650Z",
     "iopub.status.idle": "2025-02-02T16:11:35.015568Z",
     "shell.execute_reply": "2025-02-02T16:11:35.014427Z"
    },
    "papermill": {
     "duration": 0.039972,
     "end_time": "2025-02-02T16:11:35.017431",
     "exception": false,
     "start_time": "2025-02-02T16:11:34.977459",
     "status": "completed"
    },
    "tags": []
   },
   "outputs": [],
   "source": [
    "data.to_csv(\"dataset_csv_part2.csv\", index=False)"
   ]
  },
  {
   "cell_type": "markdown",
   "id": "79deb8db",
   "metadata": {
    "papermill": {
     "duration": 0.026388,
     "end_time": "2025-02-02T16:11:35.070283",
     "exception": false,
     "start_time": "2025-02-02T16:11:35.043895",
     "status": "completed"
    },
    "tags": []
   },
   "source": [
    "### Exploratory Data Analysis"
   ]
  },
  {
   "cell_type": "markdown",
   "id": "772d168c",
   "metadata": {
    "papermill": {
     "duration": 0.027185,
     "end_time": "2025-02-02T16:11:35.124132",
     "exception": false,
     "start_time": "2025-02-02T16:11:35.096947",
     "status": "completed"
    },
    "tags": []
   },
   "source": [
    "We can plot out the <code>FlightNumber</code> vs. <code>PayloadMass</code>and overlay the outcome of the launch. We see that as the flight number increases, the first stage is more likely to land successfully. The payload mass also appears to be a factor; even with more massive payloads, the first stage often returns successfully.\n"
   ]
  },
  {
   "cell_type": "code",
   "execution_count": 47,
   "id": "ce8e4df9",
   "metadata": {
    "execution": {
     "iopub.execute_input": "2025-02-02T16:11:35.177576Z",
     "iopub.status.busy": "2025-02-02T16:11:35.177142Z",
     "iopub.status.idle": "2025-02-02T16:11:38.215445Z",
     "shell.execute_reply": "2025-02-02T16:11:38.214198Z"
    },
    "papermill": {
     "duration": 3.067434,
     "end_time": "2025-02-02T16:11:38.217532",
     "exception": false,
     "start_time": "2025-02-02T16:11:35.150098",
     "status": "completed"
    },
    "tags": []
   },
   "outputs": [
    {
     "name": "stderr",
     "output_type": "stream",
     "text": [
      "/usr/local/lib/python3.10/dist-packages/seaborn/_oldcore.py:1119: FutureWarning: use_inf_as_na option is deprecated and will be removed in a future version. Convert inf values to NaN before operating instead.\n",
      "  with pd.option_context('mode.use_inf_as_na', True):\n",
      "/usr/local/lib/python3.10/dist-packages/seaborn/_oldcore.py:1119: FutureWarning: use_inf_as_na option is deprecated and will be removed in a future version. Convert inf values to NaN before operating instead.\n",
      "  with pd.option_context('mode.use_inf_as_na', True):\n",
      "/usr/local/lib/python3.10/dist-packages/seaborn/_oldcore.py:1075: FutureWarning: When grouping with a length-1 list-like, you will need to pass a length-1 tuple to get_group in a future version of pandas. Pass `(name,)` instead of `name` to silence this warning.\n",
      "  data_subset = grouped_data.get_group(pd_key)\n"
     ]
    },
    {
     "data": {
      "image/png": "[encoded data removed]",
      "text/plain": [
       "<Figure size 2558.88x500 with 1 Axes>"
      ]
     },
     "metadata": {},
     "output_type": "display_data"
    }
   ],
   "source": [
    "sns.catplot(y=\"PayloadMass\", x=\"FlightNumber\", hue=\"Class\", data = data, aspect=5)\n",
    "plt.xlabel(\"Flight Numner\", fontsize=20)\n",
    "plt.ylabel(\"Pay Load Mass (kg) \", fontsize=20)\n",
    "plt.show()"
   ]
  },
  {
   "cell_type": "markdown",
   "id": "f2206de7",
   "metadata": {
    "papermill": {
     "duration": 0.026995,
     "end_time": "2025-02-02T16:11:38.272443",
     "exception": false,
     "start_time": "2025-02-02T16:11:38.245448",
     "status": "completed"
    },
    "tags": []
   },
   "source": [
    "Relationship between Flight Number and Launch Site"
   ]
  },
  {
   "cell_type": "code",
   "execution_count": 48,
   "id": "f8455c74",
   "metadata": {
    "execution": {
     "iopub.execute_input": "2025-02-02T16:11:38.329077Z",
     "iopub.status.busy": "2025-02-02T16:11:38.328711Z",
     "iopub.status.idle": "2025-02-02T16:11:38.786273Z",
     "shell.execute_reply": "2025-02-02T16:11:38.784987Z"
    },
    "papermill": {
     "duration": 0.488769,
     "end_time": "2025-02-02T16:11:38.788366",
     "exception": false,
     "start_time": "2025-02-02T16:11:38.299597",
     "status": "completed"
    },
    "tags": []
   },
   "outputs": [
    {
     "name": "stderr",
     "output_type": "stream",
     "text": [
      "/usr/local/lib/python3.10/dist-packages/seaborn/_oldcore.py:1119: FutureWarning: use_inf_as_na option is deprecated and will be removed in a future version. Convert inf values to NaN before operating instead.\n",
      "  with pd.option_context('mode.use_inf_as_na', True):\n",
      "/usr/local/lib/python3.10/dist-packages/seaborn/_oldcore.py:1119: FutureWarning: use_inf_as_na option is deprecated and will be removed in a future version. Convert inf values to NaN before operating instead.\n",
      "  with pd.option_context('mode.use_inf_as_na', True):\n",
      "/usr/local/lib/python3.10/dist-packages/seaborn/_oldcore.py:1075: FutureWarning: When grouping with a length-1 list-like, you will need to pass a length-1 tuple to get_group in a future version of pandas. Pass `(name,)` instead of `name` to silence this warning.\n",
      "  data_subset = grouped_data.get_group(pd_key)\n"
     ]
    },
    {
     "data": {
      "image/png": "[encoded data removed]",
      "text/plain": [
       "<Figure size 3058.88x500 with 1 Axes>"
      ]
     },
     "metadata": {},
     "output_type": "display_data"
    }
   ],
   "source": [
    "sns.catplot(x=\"FlightNumber\", y=\"LaunchSite\", hue=\"Class\", data=data, aspect=6)\n",
    "plt.xlabel(\"Fligt Number\", fontsize=20)\n",
    "plt.ylabel(\"Launch Site\", fontsize=20)\n",
    "plt.show()"
   ]
  },
  {
   "cell_type": "code",
   "execution_count": 49,
   "id": "b30b79c8",
   "metadata": {
    "execution": {
     "iopub.execute_input": "2025-02-02T16:11:38.846903Z",
     "iopub.status.busy": "2025-02-02T16:11:38.846346Z",
     "iopub.status.idle": "2025-02-02T16:11:39.362535Z",
     "shell.execute_reply": "2025-02-02T16:11:39.361405Z"
    },
    "papermill": {
     "duration": 0.546954,
     "end_time": "2025-02-02T16:11:39.364236",
     "exception": false,
     "start_time": "2025-02-02T16:11:38.817282",
     "status": "completed"
    },
    "tags": []
   },
   "outputs": [
    {
     "name": "stderr",
     "output_type": "stream",
     "text": [
      "/usr/local/lib/python3.10/dist-packages/seaborn/_oldcore.py:1119: FutureWarning: use_inf_as_na option is deprecated and will be removed in a future version. Convert inf values to NaN before operating instead.\n",
      "  with pd.option_context('mode.use_inf_as_na', True):\n",
      "/usr/local/lib/python3.10/dist-packages/seaborn/_oldcore.py:1119: FutureWarning: use_inf_as_na option is deprecated and will be removed in a future version. Convert inf values to NaN before operating instead.\n",
      "  with pd.option_context('mode.use_inf_as_na', True):\n",
      "/usr/local/lib/python3.10/dist-packages/seaborn/_oldcore.py:1075: FutureWarning: When grouping with a length-1 list-like, you will need to pass a length-1 tuple to get_group in a future version of pandas. Pass `(name,)` instead of `name` to silence this warning.\n",
      "  data_subset = grouped_data.get_group(pd_key)\n"
     ]
    },
    {
     "data": {
      "image/png": "[encoded data removed]",
      "text/plain": [
       "<Figure size 3058.88x500 with 1 Axes>"
      ]
     },
     "metadata": {},
     "output_type": "display_data"
    }
   ],
   "source": [
    "sns.catplot(x=\"PayloadMass\", y=\"LaunchSite\", hue=\"Class\", data=data, aspect=6)\n",
    "plt.xlabel(\"PayloadMass (kg)\", fontsize=20)\n",
    "plt.ylabel(\"Launch Site\", fontsize=20)\n",
    "plt.show()"
   ]
  },
  {
   "cell_type": "code",
   "execution_count": 50,
   "id": "e07b171c",
   "metadata": {
    "execution": {
     "iopub.execute_input": "2025-02-02T16:11:39.424639Z",
     "iopub.status.busy": "2025-02-02T16:11:39.424207Z",
     "iopub.status.idle": "2025-02-02T16:11:39.689986Z",
     "shell.execute_reply": "2025-02-02T16:11:39.688682Z"
    },
    "papermill": {
     "duration": 0.297104,
     "end_time": "2025-02-02T16:11:39.691799",
     "exception": false,
     "start_time": "2025-02-02T16:11:39.394695",
     "status": "completed"
    },
    "tags": []
   },
   "outputs": [
    {
     "data": {
      "image/png": "[encoded data removed]",
      "text/plain": [
       "<Figure size 1000x600 with 1 Axes>"
      ]
     },
     "metadata": {},
     "output_type": "display_data"
    }
   ],
   "source": [
    "orbit_success_rate = data.groupby('Orbit')['Class'].mean().reset_index()\n",
    "\n",
    "# Create a bar plot showing the success rate for each orbit type\n",
    "sns.barplot(\n",
    "    x=\"Orbit\", \n",
    "    y=\"Class\", \n",
    "    data=orbit_success_rate, \n",
    "    palette=\"Set2\"\n",
    ")\n",
    "\n",
    "# Customize labels and title\n",
    "plt.xlabel(\"Orbit Type\", fontsize=16, weight='bold')\n",
    "plt.ylabel(\"Success Rate\", fontsize=16, weight='bold')\n",
    "plt.title(\"Success Rate by Orbit Type\", fontsize=18, weight='bold')\n",
    "\n",
    "# Rotate x-axis labels for better readability\n",
    "plt.xticks(rotation=45, ha='right')\n",
    "\n",
    "# Increase figure size for better visibility\n",
    "plt.gcf().set_size_inches(10, 6)\n",
    "\n",
    "# Show the plot\n",
    "plt.show()\n"
   ]
  },
  {
   "cell_type": "code",
   "execution_count": 51,
   "id": "adce75e7",
   "metadata": {
    "execution": {
     "iopub.execute_input": "2025-02-02T16:11:39.752379Z",
     "iopub.status.busy": "2025-02-02T16:11:39.751961Z",
     "iopub.status.idle": "2025-02-02T16:11:40.008921Z",
     "shell.execute_reply": "2025-02-02T16:11:40.007666Z"
    },
    "papermill": {
     "duration": 0.289891,
     "end_time": "2025-02-02T16:11:40.011033",
     "exception": false,
     "start_time": "2025-02-02T16:11:39.721142",
     "status": "completed"
    },
    "tags": []
   },
   "outputs": [
    {
     "data": {
      "image/png": "[encoded data removed]",
      "text/plain": [
       "<Figure size 640x480 with 1 Axes>"
      ]
     },
     "metadata": {},
     "output_type": "display_data"
    }
   ],
   "source": [
    "sns.scatterplot(x=\"FlightNumber\", y=\"Orbit\", hue=\"Class\", data = data)\n",
    "plt.xlabel(\"Flight Number\")\n",
    "plt.ylabel(\"Orbit\")\n",
    "plt.title(\"Relation between FlightNumbner and OrbitType\")\n",
    "plt.show()"
   ]
  },
  {
   "cell_type": "code",
   "execution_count": 52,
   "id": "13e569e3",
   "metadata": {
    "execution": {
     "iopub.execute_input": "2025-02-02T16:11:40.073883Z",
     "iopub.status.busy": "2025-02-02T16:11:40.073534Z",
     "iopub.status.idle": "2025-02-02T16:11:40.347215Z",
     "shell.execute_reply": "2025-02-02T16:11:40.345845Z"
    },
    "papermill": {
     "duration": 0.306595,
     "end_time": "2025-02-02T16:11:40.349401",
     "exception": false,
     "start_time": "2025-02-02T16:11:40.042806",
     "status": "completed"
    },
    "tags": []
   },
   "outputs": [
    {
     "data": {
      "image/png": "[encoded data removed]",
      "text/plain": [
       "<Figure size 640x480 with 1 Axes>"
      ]
     },
     "metadata": {},
     "output_type": "display_data"
    }
   ],
   "source": [
    "sns.scatterplot(x=\"PayloadMass\", y=\"Orbit\", hue=\"Class\", data = data)\n",
    "plt.xlabel(\"Payload Mass (kg)\")\n",
    "plt.ylabel(\"Orbit\")\n",
    "plt.title(\"Relation between PayloadMass  and OrbitType\")\n",
    "plt.show()"
   ]
  },
  {
   "cell_type": "code",
   "execution_count": 53,
   "id": "b7667095",
   "metadata": {
    "execution": {
     "iopub.execute_input": "2025-02-02T16:11:40.414984Z",
     "iopub.status.busy": "2025-02-02T16:11:40.414630Z",
     "iopub.status.idle": "2025-02-02T16:11:40.436529Z",
     "shell.execute_reply": "2025-02-02T16:11:40.435071Z"
    },
    "papermill": {
     "duration": 0.058058,
     "end_time": "2025-02-02T16:11:40.438641",
     "exception": false,
     "start_time": "2025-02-02T16:11:40.380583",
     "status": "completed"
    },
    "tags": []
   },
   "outputs": [
    {
     "data": {
      "text/html": [
       "<div>\n",
       "<style scoped>\n",
       "    .dataframe tbody tr th:only-of-type {\n",
       "        vertical-align: middle;\n",
       "    }\n",
       "\n",
       "    .dataframe tbody tr th {\n",
       "        vertical-align: top;\n",
       "    }\n",
       "\n",
       "    .dataframe thead th {\n",
       "        text-align: right;\n",
       "    }\n",
       "</style>\n",
       "<table border=\"1\" class=\"dataframe\">\n",
       "  <thead>\n",
       "    <tr style=\"text-align: right;\">\n",
       "      <th></th>\n",
       "      <th>FlighNumber</th>\n",
       "      <th>Date</th>\n",
       "      <th>BoosterVersion</th>\n",
       "      <th>PayloadMass</th>\n",
       "      <th>Orbit</th>\n",
       "      <th>LaunchSite</th>\n",
       "      <th>Outcome</th>\n",
       "      <th>Flights</th>\n",
       "      <th>GridFins</th>\n",
       "      <th>Reused</th>\n",
       "      <th>Legs</th>\n",
       "      <th>LandingPad</th>\n",
       "      <th>Block</th>\n",
       "      <th>ReusedCount</th>\n",
       "      <th>Serial</th>\n",
       "      <th>Longitude</th>\n",
       "      <th>Latitude</th>\n",
       "      <th>FlightNumber</th>\n",
       "      <th>Class</th>\n",
       "    </tr>\n",
       "  </thead>\n",
       "  <tbody>\n",
       "    <tr>\n",
       "      <th>0</th>\n",
       "      <td>6</td>\n",
       "      <td>2010</td>\n",
       "      <td>Falcon 9</td>\n",
       "      <td>6123.547647</td>\n",
       "      <td>LEO</td>\n",
       "      <td>CCSFS SLC 40</td>\n",
       "      <td>None None</td>\n",
       "      <td>1</td>\n",
       "      <td>False</td>\n",
       "      <td>False</td>\n",
       "      <td>False</td>\n",
       "      <td>Unknown</td>\n",
       "      <td>1.0</td>\n",
       "      <td>0</td>\n",
       "      <td>B0003</td>\n",
       "      <td>-80.577366</td>\n",
       "      <td>28.561857</td>\n",
       "      <td>1</td>\n",
       "      <td>0</td>\n",
       "    </tr>\n",
       "    <tr>\n",
       "      <th>1</th>\n",
       "      <td>8</td>\n",
       "      <td>2012</td>\n",
       "      <td>Falcon 9</td>\n",
       "      <td>525.000000</td>\n",
       "      <td>LEO</td>\n",
       "      <td>CCSFS SLC 40</td>\n",
       "      <td>None None</td>\n",
       "      <td>1</td>\n",
       "      <td>False</td>\n",
       "      <td>False</td>\n",
       "      <td>False</td>\n",
       "      <td>Unknown</td>\n",
       "      <td>1.0</td>\n",
       "      <td>0</td>\n",
       "      <td>B0005</td>\n",
       "      <td>-80.577366</td>\n",
       "      <td>28.561857</td>\n",
       "      <td>2</td>\n",
       "      <td>0</td>\n",
       "    </tr>\n",
       "    <tr>\n",
       "      <th>2</th>\n",
       "      <td>10</td>\n",
       "      <td>2013</td>\n",
       "      <td>Falcon 9</td>\n",
       "      <td>677.000000</td>\n",
       "      <td>ISS</td>\n",
       "      <td>CCSFS SLC 40</td>\n",
       "      <td>None None</td>\n",
       "      <td>1</td>\n",
       "      <td>False</td>\n",
       "      <td>False</td>\n",
       "      <td>False</td>\n",
       "      <td>Unknown</td>\n",
       "      <td>1.0</td>\n",
       "      <td>0</td>\n",
       "      <td>B0007</td>\n",
       "      <td>-80.577366</td>\n",
       "      <td>28.561857</td>\n",
       "      <td>3</td>\n",
       "      <td>0</td>\n",
       "    </tr>\n",
       "    <tr>\n",
       "      <th>3</th>\n",
       "      <td>11</td>\n",
       "      <td>2013</td>\n",
       "      <td>Falcon 9</td>\n",
       "      <td>500.000000</td>\n",
       "      <td>PO</td>\n",
       "      <td>VAFB SLC 4E</td>\n",
       "      <td>False Ocean</td>\n",
       "      <td>1</td>\n",
       "      <td>False</td>\n",
       "      <td>False</td>\n",
       "      <td>False</td>\n",
       "      <td>Unknown</td>\n",
       "      <td>1.0</td>\n",
       "      <td>0</td>\n",
       "      <td>B1003</td>\n",
       "      <td>-120.610829</td>\n",
       "      <td>34.632093</td>\n",
       "      <td>4</td>\n",
       "      <td>0</td>\n",
       "    </tr>\n",
       "    <tr>\n",
       "      <th>4</th>\n",
       "      <td>12</td>\n",
       "      <td>2013</td>\n",
       "      <td>Falcon 9</td>\n",
       "      <td>3170.000000</td>\n",
       "      <td>GTO</td>\n",
       "      <td>CCSFS SLC 40</td>\n",
       "      <td>None None</td>\n",
       "      <td>1</td>\n",
       "      <td>False</td>\n",
       "      <td>False</td>\n",
       "      <td>False</td>\n",
       "      <td>Unknown</td>\n",
       "      <td>1.0</td>\n",
       "      <td>0</td>\n",
       "      <td>B1004</td>\n",
       "      <td>-80.577366</td>\n",
       "      <td>28.561857</td>\n",
       "      <td>5</td>\n",
       "      <td>0</td>\n",
       "    </tr>\n",
       "  </tbody>\n",
       "</table>\n",
       "</div>"
      ],
      "text/plain": [
       "   FlighNumber  Date BoosterVersion  PayloadMass Orbit    LaunchSite  \\\n",
       "0            6  2010       Falcon 9  6123.547647   LEO  CCSFS SLC 40   \n",
       "1            8  2012       Falcon 9   525.000000   LEO  CCSFS SLC 40   \n",
       "2           10  2013       Falcon 9   677.000000   ISS  CCSFS SLC 40   \n",
       "3           11  2013       Falcon 9   500.000000    PO   VAFB SLC 4E   \n",
       "4           12  2013       Falcon 9  3170.000000   GTO  CCSFS SLC 40   \n",
       "\n",
       "       Outcome  Flights  GridFins  Reused   Legs LandingPad  Block  \\\n",
       "0    None None        1     False   False  False    Unknown    1.0   \n",
       "1    None None        1     False   False  False    Unknown    1.0   \n",
       "2    None None        1     False   False  False    Unknown    1.0   \n",
       "3  False Ocean        1     False   False  False    Unknown    1.0   \n",
       "4    None None        1     False   False  False    Unknown    1.0   \n",
       "\n",
       "   ReusedCount Serial   Longitude   Latitude  FlightNumber  Class  \n",
       "0            0  B0003  -80.577366  28.561857             1      0  \n",
       "1            0  B0005  -80.577366  28.561857             2      0  \n",
       "2            0  B0007  -80.577366  28.561857             3      0  \n",
       "3            0  B1003 -120.610829  34.632093             4      0  \n",
       "4            0  B1004  -80.577366  28.561857             5      0  "
      ]
     },
     "execution_count": 53,
     "metadata": {},
     "output_type": "execute_result"
    }
   ],
   "source": [
    "# A function to Extract years from the date \n",
    "year=[]\n",
    "def Extract_year():\n",
    "    for i in data[\"Date\"]:\n",
    "        year.append(i.split(\"-\")[0])\n",
    "    return year\n",
    "Extract_year()\n",
    "data['Date'] = year\n",
    "data.head()\n",
    "    "
   ]
  },
  {
   "cell_type": "code",
   "execution_count": 54,
   "id": "ae553260",
   "metadata": {
    "execution": {
     "iopub.execute_input": "2025-02-02T16:11:40.504060Z",
     "iopub.status.busy": "2025-02-02T16:11:40.503707Z",
     "iopub.status.idle": "2025-02-02T16:11:40.729672Z",
     "shell.execute_reply": "2025-02-02T16:11:40.728282Z"
    },
    "papermill": {
     "duration": 0.261863,
     "end_time": "2025-02-02T16:11:40.732202",
     "exception": false,
     "start_time": "2025-02-02T16:11:40.470339",
     "status": "completed"
    },
    "tags": []
   },
   "outputs": [
    {
     "data": {
      "image/png": "[encoded data removed]",
      "text/plain": [
       "<Figure size 1000x600 with 1 Axes>"
      ]
     },
     "metadata": {},
     "output_type": "display_data"
    }
   ],
   "source": [
    "yearly_success_rate = data.groupby('Date')['Class'].mean().reset_index()\n",
    "\n",
    "plt.figure(figsize=(10,6))\n",
    "plt.plot(yearly_success_rate['Date'], yearly_success_rate['Class'], marker='o', linestyle=\"-\",color=\"b\")\n",
    "\n",
    "plt.xlabel(\"Date\", fontsize=16, weight=\"bold\")\n",
    "plt.ylabel(\"Success Rate\", fontsize=16, weight=\"bold\")\n",
    "plt.title(\"Success Rate Over the Year\", fontsize=18, weight=\"bold\")\n",
    "\n",
    "plt.xticks(rotation=45)\n",
    "plt.grid(True)\n",
    "plt.show()"
   ]
  },
  {
   "cell_type": "markdown",
   "id": "e4737efc",
   "metadata": {
    "papermill": {
     "duration": 0.034203,
     "end_time": "2025-02-02T16:11:40.800778",
     "exception": false,
     "start_time": "2025-02-02T16:11:40.766575",
     "status": "completed"
    },
    "tags": []
   },
   "source": [
    "### Feature Engineering"
   ]
  },
  {
   "cell_type": "code",
   "execution_count": 55,
   "id": "435fbf38",
   "metadata": {
    "execution": {
     "iopub.execute_input": "2025-02-02T16:11:40.871769Z",
     "iopub.status.busy": "2025-02-02T16:11:40.871364Z",
     "iopub.status.idle": "2025-02-02T16:11:40.889475Z",
     "shell.execute_reply": "2025-02-02T16:11:40.888010Z"
    },
    "papermill": {
     "duration": 0.05577,
     "end_time": "2025-02-02T16:11:40.891257",
     "exception": false,
     "start_time": "2025-02-02T16:11:40.835487",
     "status": "completed"
    },
    "tags": []
   },
   "outputs": [
    {
     "data": {
      "text/html": [
       "<div>\n",
       "<style scoped>\n",
       "    .dataframe tbody tr th:only-of-type {\n",
       "        vertical-align: middle;\n",
       "    }\n",
       "\n",
       "    .dataframe tbody tr th {\n",
       "        vertical-align: top;\n",
       "    }\n",
       "\n",
       "    .dataframe thead th {\n",
       "        text-align: right;\n",
       "    }\n",
       "</style>\n",
       "<table border=\"1\" class=\"dataframe\">\n",
       "  <thead>\n",
       "    <tr style=\"text-align: right;\">\n",
       "      <th></th>\n",
       "      <th>FlightNumber</th>\n",
       "      <th>PayloadMass</th>\n",
       "      <th>Orbit</th>\n",
       "      <th>LaunchSite</th>\n",
       "      <th>Flights</th>\n",
       "      <th>GridFins</th>\n",
       "      <th>Reused</th>\n",
       "      <th>Legs</th>\n",
       "      <th>LandingPad</th>\n",
       "      <th>Block</th>\n",
       "      <th>ReusedCount</th>\n",
       "      <th>Serial</th>\n",
       "    </tr>\n",
       "  </thead>\n",
       "  <tbody>\n",
       "    <tr>\n",
       "      <th>0</th>\n",
       "      <td>1</td>\n",
       "      <td>6123.547647</td>\n",
       "      <td>LEO</td>\n",
       "      <td>CCSFS SLC 40</td>\n",
       "      <td>1</td>\n",
       "      <td>False</td>\n",
       "      <td>False</td>\n",
       "      <td>False</td>\n",
       "      <td>Unknown</td>\n",
       "      <td>1.0</td>\n",
       "      <td>0</td>\n",
       "      <td>B0003</td>\n",
       "    </tr>\n",
       "    <tr>\n",
       "      <th>1</th>\n",
       "      <td>2</td>\n",
       "      <td>525.000000</td>\n",
       "      <td>LEO</td>\n",
       "      <td>CCSFS SLC 40</td>\n",
       "      <td>1</td>\n",
       "      <td>False</td>\n",
       "      <td>False</td>\n",
       "      <td>False</td>\n",
       "      <td>Unknown</td>\n",
       "      <td>1.0</td>\n",
       "      <td>0</td>\n",
       "      <td>B0005</td>\n",
       "    </tr>\n",
       "    <tr>\n",
       "      <th>2</th>\n",
       "      <td>3</td>\n",
       "      <td>677.000000</td>\n",
       "      <td>ISS</td>\n",
       "      <td>CCSFS SLC 40</td>\n",
       "      <td>1</td>\n",
       "      <td>False</td>\n",
       "      <td>False</td>\n",
       "      <td>False</td>\n",
       "      <td>Unknown</td>\n",
       "      <td>1.0</td>\n",
       "      <td>0</td>\n",
       "      <td>B0007</td>\n",
       "    </tr>\n",
       "    <tr>\n",
       "      <th>3</th>\n",
       "      <td>4</td>\n",
       "      <td>500.000000</td>\n",
       "      <td>PO</td>\n",
       "      <td>VAFB SLC 4E</td>\n",
       "      <td>1</td>\n",
       "      <td>False</td>\n",
       "      <td>False</td>\n",
       "      <td>False</td>\n",
       "      <td>Unknown</td>\n",
       "      <td>1.0</td>\n",
       "      <td>0</td>\n",
       "      <td>B1003</td>\n",
       "    </tr>\n",
       "    <tr>\n",
       "      <th>4</th>\n",
       "      <td>5</td>\n",
       "      <td>3170.000000</td>\n",
       "      <td>GTO</td>\n",
       "      <td>CCSFS SLC 40</td>\n",
       "      <td>1</td>\n",
       "      <td>False</td>\n",
       "      <td>False</td>\n",
       "      <td>False</td>\n",
       "      <td>Unknown</td>\n",
       "      <td>1.0</td>\n",
       "      <td>0</td>\n",
       "      <td>B1004</td>\n",
       "    </tr>\n",
       "  </tbody>\n",
       "</table>\n",
       "</div>"
      ],
      "text/plain": [
       "   FlightNumber  PayloadMass Orbit    LaunchSite  Flights  GridFins  Reused  \\\n",
       "0             1  6123.547647   LEO  CCSFS SLC 40        1     False   False   \n",
       "1             2   525.000000   LEO  CCSFS SLC 40        1     False   False   \n",
       "2             3   677.000000   ISS  CCSFS SLC 40        1     False   False   \n",
       "3             4   500.000000    PO   VAFB SLC 4E        1     False   False   \n",
       "4             5  3170.000000   GTO  CCSFS SLC 40        1     False   False   \n",
       "\n",
       "    Legs LandingPad  Block  ReusedCount Serial  \n",
       "0  False    Unknown    1.0            0  B0003  \n",
       "1  False    Unknown    1.0            0  B0005  \n",
       "2  False    Unknown    1.0            0  B0007  \n",
       "3  False    Unknown    1.0            0  B1003  \n",
       "4  False    Unknown    1.0            0  B1004  "
      ]
     },
     "execution_count": 55,
     "metadata": {},
     "output_type": "execute_result"
    }
   ],
   "source": [
    "features = data[[\"FlightNumber\", \"PayloadMass\", \"Orbit\", \"LaunchSite\", \"Flights\", \"GridFins\",\"Reused\",\"Legs\",\"LandingPad\", \"Block\", \"ReusedCount\", \"Serial\"]]\n",
    "features.head()"
   ]
  },
  {
   "cell_type": "code",
   "execution_count": 56,
   "id": "e66e8969",
   "metadata": {
    "execution": {
     "iopub.execute_input": "2025-02-02T16:11:40.962469Z",
     "iopub.status.busy": "2025-02-02T16:11:40.962017Z",
     "iopub.status.idle": "2025-02-02T16:11:40.991066Z",
     "shell.execute_reply": "2025-02-02T16:11:40.989642Z"
    },
    "papermill": {
     "duration": 0.067757,
     "end_time": "2025-02-02T16:11:40.993224",
     "exception": false,
     "start_time": "2025-02-02T16:11:40.925467",
     "status": "completed"
    },
    "tags": []
   },
   "outputs": [
    {
     "data": {
      "text/html": [
       "<div>\n",
       "<style scoped>\n",
       "    .dataframe tbody tr th:only-of-type {\n",
       "        vertical-align: middle;\n",
       "    }\n",
       "\n",
       "    .dataframe tbody tr th {\n",
       "        vertical-align: top;\n",
       "    }\n",
       "\n",
       "    .dataframe thead th {\n",
       "        text-align: right;\n",
       "    }\n",
       "</style>\n",
       "<table border=\"1\" class=\"dataframe\">\n",
       "  <thead>\n",
       "    <tr style=\"text-align: right;\">\n",
       "      <th></th>\n",
       "      <th>FlightNumber</th>\n",
       "      <th>PayloadMass</th>\n",
       "      <th>Flights</th>\n",
       "      <th>GridFins</th>\n",
       "      <th>Reused</th>\n",
       "      <th>Legs</th>\n",
       "      <th>Block</th>\n",
       "      <th>ReusedCount</th>\n",
       "      <th>Orbit_ES-L1</th>\n",
       "      <th>Orbit_GEO</th>\n",
       "      <th>...</th>\n",
       "      <th>Serial_B1048</th>\n",
       "      <th>Serial_B1049</th>\n",
       "      <th>Serial_B1050</th>\n",
       "      <th>Serial_B1051</th>\n",
       "      <th>Serial_B1054</th>\n",
       "      <th>Serial_B1056</th>\n",
       "      <th>Serial_B1058</th>\n",
       "      <th>Serial_B1059</th>\n",
       "      <th>Serial_B1060</th>\n",
       "      <th>Serial_B1062</th>\n",
       "    </tr>\n",
       "  </thead>\n",
       "  <tbody>\n",
       "    <tr>\n",
       "      <th>0</th>\n",
       "      <td>1</td>\n",
       "      <td>6123.547647</td>\n",
       "      <td>1</td>\n",
       "      <td>False</td>\n",
       "      <td>False</td>\n",
       "      <td>False</td>\n",
       "      <td>1.0</td>\n",
       "      <td>0</td>\n",
       "      <td>False</td>\n",
       "      <td>False</td>\n",
       "      <td>...</td>\n",
       "      <td>False</td>\n",
       "      <td>False</td>\n",
       "      <td>False</td>\n",
       "      <td>False</td>\n",
       "      <td>False</td>\n",
       "      <td>False</td>\n",
       "      <td>False</td>\n",
       "      <td>False</td>\n",
       "      <td>False</td>\n",
       "      <td>False</td>\n",
       "    </tr>\n",
       "    <tr>\n",
       "      <th>1</th>\n",
       "      <td>2</td>\n",
       "      <td>525.000000</td>\n",
       "      <td>1</td>\n",
       "      <td>False</td>\n",
       "      <td>False</td>\n",
       "      <td>False</td>\n",
       "      <td>1.0</td>\n",
       "      <td>0</td>\n",
       "      <td>False</td>\n",
       "      <td>False</td>\n",
       "      <td>...</td>\n",
       "      <td>False</td>\n",
       "      <td>False</td>\n",
       "      <td>False</td>\n",
       "      <td>False</td>\n",
       "      <td>False</td>\n",
       "      <td>False</td>\n",
       "      <td>False</td>\n",
       "      <td>False</td>\n",
       "      <td>False</td>\n",
       "      <td>False</td>\n",
       "    </tr>\n",
       "    <tr>\n",
       "      <th>2</th>\n",
       "      <td>3</td>\n",
       "      <td>677.000000</td>\n",
       "      <td>1</td>\n",
       "      <td>False</td>\n",
       "      <td>False</td>\n",
       "      <td>False</td>\n",
       "      <td>1.0</td>\n",
       "      <td>0</td>\n",
       "      <td>False</td>\n",
       "      <td>False</td>\n",
       "      <td>...</td>\n",
       "      <td>False</td>\n",
       "      <td>False</td>\n",
       "      <td>False</td>\n",
       "      <td>False</td>\n",
       "      <td>False</td>\n",
       "      <td>False</td>\n",
       "      <td>False</td>\n",
       "      <td>False</td>\n",
       "      <td>False</td>\n",
       "      <td>False</td>\n",
       "    </tr>\n",
       "    <tr>\n",
       "      <th>3</th>\n",
       "      <td>4</td>\n",
       "      <td>500.000000</td>\n",
       "      <td>1</td>\n",
       "      <td>False</td>\n",
       "      <td>False</td>\n",
       "      <td>False</td>\n",
       "      <td>1.0</td>\n",
       "      <td>0</td>\n",
       "      <td>False</td>\n",
       "      <td>False</td>\n",
       "      <td>...</td>\n",
       "      <td>False</td>\n",
       "      <td>False</td>\n",
       "      <td>False</td>\n",
       "      <td>False</td>\n",
       "      <td>False</td>\n",
       "      <td>False</td>\n",
       "      <td>False</td>\n",
       "      <td>False</td>\n",
       "      <td>False</td>\n",
       "      <td>False</td>\n",
       "    </tr>\n",
       "    <tr>\n",
       "      <th>4</th>\n",
       "      <td>5</td>\n",
       "      <td>3170.000000</td>\n",
       "      <td>1</td>\n",
       "      <td>False</td>\n",
       "      <td>False</td>\n",
       "      <td>False</td>\n",
       "      <td>1.0</td>\n",
       "      <td>0</td>\n",
       "      <td>False</td>\n",
       "      <td>False</td>\n",
       "      <td>...</td>\n",
       "      <td>False</td>\n",
       "      <td>False</td>\n",
       "      <td>False</td>\n",
       "      <td>False</td>\n",
       "      <td>False</td>\n",
       "      <td>False</td>\n",
       "      <td>False</td>\n",
       "      <td>False</td>\n",
       "      <td>False</td>\n",
       "      <td>False</td>\n",
       "    </tr>\n",
       "  </tbody>\n",
       "</table>\n",
       "<p>5 rows × 81 columns</p>\n",
       "</div>"
      ],
      "text/plain": [
       "   FlightNumber  PayloadMass  Flights  GridFins  Reused   Legs  Block  \\\n",
       "0             1  6123.547647        1     False   False  False    1.0   \n",
       "1             2   525.000000        1     False   False  False    1.0   \n",
       "2             3   677.000000        1     False   False  False    1.0   \n",
       "3             4   500.000000        1     False   False  False    1.0   \n",
       "4             5  3170.000000        1     False   False  False    1.0   \n",
       "\n",
       "   ReusedCount  Orbit_ES-L1  Orbit_GEO  ...  Serial_B1048  Serial_B1049  \\\n",
       "0            0        False      False  ...         False         False   \n",
       "1            0        False      False  ...         False         False   \n",
       "2            0        False      False  ...         False         False   \n",
       "3            0        False      False  ...         False         False   \n",
       "4            0        False      False  ...         False         False   \n",
       "\n",
       "   Serial_B1050  Serial_B1051  Serial_B1054  Serial_B1056  Serial_B1058  \\\n",
       "0         False         False         False         False         False   \n",
       "1         False         False         False         False         False   \n",
       "2         False         False         False         False         False   \n",
       "3         False         False         False         False         False   \n",
       "4         False         False         False         False         False   \n",
       "\n",
       "   Serial_B1059  Serial_B1060  Serial_B1062  \n",
       "0         False         False         False  \n",
       "1         False         False         False  \n",
       "2         False         False         False  \n",
       "3         False         False         False  \n",
       "4         False         False         False  \n",
       "\n",
       "[5 rows x 81 columns]"
      ]
     },
     "execution_count": 56,
     "metadata": {},
     "output_type": "execute_result"
    }
   ],
   "source": [
    "features_one_hot = pd.get_dummies(features, columns=[\"Orbit\", \"LaunchSite\", \"LandingPad\", \"Serial\"])\n",
    "features_one_hot.head()\n"
   ]
  },
  {
   "cell_type": "code",
   "execution_count": 57,
   "id": "b0549102",
   "metadata": {
    "execution": {
     "iopub.execute_input": "2025-02-02T16:11:41.062153Z",
     "iopub.status.busy": "2025-02-02T16:11:41.061699Z",
     "iopub.status.idle": "2025-02-02T16:11:41.098385Z",
     "shell.execute_reply": "2025-02-02T16:11:41.096852Z"
    },
    "papermill": {
     "duration": 0.073482,
     "end_time": "2025-02-02T16:11:41.100652",
     "exception": false,
     "start_time": "2025-02-02T16:11:41.027170",
     "status": "completed"
    },
    "tags": []
   },
   "outputs": [
    {
     "data": {
      "text/html": [
       "<div>\n",
       "<style scoped>\n",
       "    .dataframe tbody tr th:only-of-type {\n",
       "        vertical-align: middle;\n",
       "    }\n",
       "\n",
       "    .dataframe tbody tr th {\n",
       "        vertical-align: top;\n",
       "    }\n",
       "\n",
       "    .dataframe thead th {\n",
       "        text-align: right;\n",
       "    }\n",
       "</style>\n",
       "<table border=\"1\" class=\"dataframe\">\n",
       "  <thead>\n",
       "    <tr style=\"text-align: right;\">\n",
       "      <th></th>\n",
       "      <th>FlightNumber</th>\n",
       "      <th>PayloadMass</th>\n",
       "      <th>Flights</th>\n",
       "      <th>GridFins</th>\n",
       "      <th>Reused</th>\n",
       "      <th>Legs</th>\n",
       "      <th>Block</th>\n",
       "      <th>ReusedCount</th>\n",
       "      <th>Orbit_ES-L1</th>\n",
       "      <th>Orbit_GEO</th>\n",
       "      <th>...</th>\n",
       "      <th>Serial_B1048</th>\n",
       "      <th>Serial_B1049</th>\n",
       "      <th>Serial_B1050</th>\n",
       "      <th>Serial_B1051</th>\n",
       "      <th>Serial_B1054</th>\n",
       "      <th>Serial_B1056</th>\n",
       "      <th>Serial_B1058</th>\n",
       "      <th>Serial_B1059</th>\n",
       "      <th>Serial_B1060</th>\n",
       "      <th>Serial_B1062</th>\n",
       "    </tr>\n",
       "  </thead>\n",
       "  <tbody>\n",
       "    <tr>\n",
       "      <th>0</th>\n",
       "      <td>1.0</td>\n",
       "      <td>6123.547647</td>\n",
       "      <td>1.0</td>\n",
       "      <td>0.0</td>\n",
       "      <td>0.0</td>\n",
       "      <td>0.0</td>\n",
       "      <td>1.0</td>\n",
       "      <td>0.0</td>\n",
       "      <td>0.0</td>\n",
       "      <td>0.0</td>\n",
       "      <td>...</td>\n",
       "      <td>0.0</td>\n",
       "      <td>0.0</td>\n",
       "      <td>0.0</td>\n",
       "      <td>0.0</td>\n",
       "      <td>0.0</td>\n",
       "      <td>0.0</td>\n",
       "      <td>0.0</td>\n",
       "      <td>0.0</td>\n",
       "      <td>0.0</td>\n",
       "      <td>0.0</td>\n",
       "    </tr>\n",
       "    <tr>\n",
       "      <th>1</th>\n",
       "      <td>2.0</td>\n",
       "      <td>525.000000</td>\n",
       "      <td>1.0</td>\n",
       "      <td>0.0</td>\n",
       "      <td>0.0</td>\n",
       "      <td>0.0</td>\n",
       "      <td>1.0</td>\n",
       "      <td>0.0</td>\n",
       "      <td>0.0</td>\n",
       "      <td>0.0</td>\n",
       "      <td>...</td>\n",
       "      <td>0.0</td>\n",
       "      <td>0.0</td>\n",
       "      <td>0.0</td>\n",
       "      <td>0.0</td>\n",
       "      <td>0.0</td>\n",
       "      <td>0.0</td>\n",
       "      <td>0.0</td>\n",
       "      <td>0.0</td>\n",
       "      <td>0.0</td>\n",
       "      <td>0.0</td>\n",
       "    </tr>\n",
       "    <tr>\n",
       "      <th>2</th>\n",
       "      <td>3.0</td>\n",
       "      <td>677.000000</td>\n",
       "      <td>1.0</td>\n",
       "      <td>0.0</td>\n",
       "      <td>0.0</td>\n",
       "      <td>0.0</td>\n",
       "      <td>1.0</td>\n",
       "      <td>0.0</td>\n",
       "      <td>0.0</td>\n",
       "      <td>0.0</td>\n",
       "      <td>...</td>\n",
       "      <td>0.0</td>\n",
       "      <td>0.0</td>\n",
       "      <td>0.0</td>\n",
       "      <td>0.0</td>\n",
       "      <td>0.0</td>\n",
       "      <td>0.0</td>\n",
       "      <td>0.0</td>\n",
       "      <td>0.0</td>\n",
       "      <td>0.0</td>\n",
       "      <td>0.0</td>\n",
       "    </tr>\n",
       "    <tr>\n",
       "      <th>3</th>\n",
       "      <td>4.0</td>\n",
       "      <td>500.000000</td>\n",
       "      <td>1.0</td>\n",
       "      <td>0.0</td>\n",
       "      <td>0.0</td>\n",
       "      <td>0.0</td>\n",
       "      <td>1.0</td>\n",
       "      <td>0.0</td>\n",
       "      <td>0.0</td>\n",
       "      <td>0.0</td>\n",
       "      <td>...</td>\n",
       "      <td>0.0</td>\n",
       "      <td>0.0</td>\n",
       "      <td>0.0</td>\n",
       "      <td>0.0</td>\n",
       "      <td>0.0</td>\n",
       "      <td>0.0</td>\n",
       "      <td>0.0</td>\n",
       "      <td>0.0</td>\n",
       "      <td>0.0</td>\n",
       "      <td>0.0</td>\n",
       "    </tr>\n",
       "    <tr>\n",
       "      <th>4</th>\n",
       "      <td>5.0</td>\n",
       "      <td>3170.000000</td>\n",
       "      <td>1.0</td>\n",
       "      <td>0.0</td>\n",
       "      <td>0.0</td>\n",
       "      <td>0.0</td>\n",
       "      <td>1.0</td>\n",
       "      <td>0.0</td>\n",
       "      <td>0.0</td>\n",
       "      <td>0.0</td>\n",
       "      <td>...</td>\n",
       "      <td>0.0</td>\n",
       "      <td>0.0</td>\n",
       "      <td>0.0</td>\n",
       "      <td>0.0</td>\n",
       "      <td>0.0</td>\n",
       "      <td>0.0</td>\n",
       "      <td>0.0</td>\n",
       "      <td>0.0</td>\n",
       "      <td>0.0</td>\n",
       "      <td>0.0</td>\n",
       "    </tr>\n",
       "    <tr>\n",
       "      <th>...</th>\n",
       "      <td>...</td>\n",
       "      <td>...</td>\n",
       "      <td>...</td>\n",
       "      <td>...</td>\n",
       "      <td>...</td>\n",
       "      <td>...</td>\n",
       "      <td>...</td>\n",
       "      <td>...</td>\n",
       "      <td>...</td>\n",
       "      <td>...</td>\n",
       "      <td>...</td>\n",
       "      <td>...</td>\n",
       "      <td>...</td>\n",
       "      <td>...</td>\n",
       "      <td>...</td>\n",
       "      <td>...</td>\n",
       "      <td>...</td>\n",
       "      <td>...</td>\n",
       "      <td>...</td>\n",
       "      <td>...</td>\n",
       "      <td>...</td>\n",
       "    </tr>\n",
       "    <tr>\n",
       "      <th>85</th>\n",
       "      <td>86.0</td>\n",
       "      <td>15600.000000</td>\n",
       "      <td>2.0</td>\n",
       "      <td>1.0</td>\n",
       "      <td>1.0</td>\n",
       "      <td>1.0</td>\n",
       "      <td>5.0</td>\n",
       "      <td>12.0</td>\n",
       "      <td>0.0</td>\n",
       "      <td>0.0</td>\n",
       "      <td>...</td>\n",
       "      <td>0.0</td>\n",
       "      <td>0.0</td>\n",
       "      <td>0.0</td>\n",
       "      <td>0.0</td>\n",
       "      <td>0.0</td>\n",
       "      <td>0.0</td>\n",
       "      <td>0.0</td>\n",
       "      <td>0.0</td>\n",
       "      <td>1.0</td>\n",
       "      <td>0.0</td>\n",
       "    </tr>\n",
       "    <tr>\n",
       "      <th>86</th>\n",
       "      <td>87.0</td>\n",
       "      <td>15600.000000</td>\n",
       "      <td>3.0</td>\n",
       "      <td>1.0</td>\n",
       "      <td>1.0</td>\n",
       "      <td>1.0</td>\n",
       "      <td>5.0</td>\n",
       "      <td>13.0</td>\n",
       "      <td>0.0</td>\n",
       "      <td>0.0</td>\n",
       "      <td>...</td>\n",
       "      <td>0.0</td>\n",
       "      <td>0.0</td>\n",
       "      <td>0.0</td>\n",
       "      <td>0.0</td>\n",
       "      <td>0.0</td>\n",
       "      <td>0.0</td>\n",
       "      <td>1.0</td>\n",
       "      <td>0.0</td>\n",
       "      <td>0.0</td>\n",
       "      <td>0.0</td>\n",
       "    </tr>\n",
       "    <tr>\n",
       "      <th>87</th>\n",
       "      <td>88.0</td>\n",
       "      <td>15600.000000</td>\n",
       "      <td>6.0</td>\n",
       "      <td>1.0</td>\n",
       "      <td>1.0</td>\n",
       "      <td>1.0</td>\n",
       "      <td>5.0</td>\n",
       "      <td>12.0</td>\n",
       "      <td>0.0</td>\n",
       "      <td>0.0</td>\n",
       "      <td>...</td>\n",
       "      <td>0.0</td>\n",
       "      <td>0.0</td>\n",
       "      <td>0.0</td>\n",
       "      <td>1.0</td>\n",
       "      <td>0.0</td>\n",
       "      <td>0.0</td>\n",
       "      <td>0.0</td>\n",
       "      <td>0.0</td>\n",
       "      <td>0.0</td>\n",
       "      <td>0.0</td>\n",
       "    </tr>\n",
       "    <tr>\n",
       "      <th>88</th>\n",
       "      <td>89.0</td>\n",
       "      <td>15600.000000</td>\n",
       "      <td>3.0</td>\n",
       "      <td>1.0</td>\n",
       "      <td>1.0</td>\n",
       "      <td>1.0</td>\n",
       "      <td>5.0</td>\n",
       "      <td>12.0</td>\n",
       "      <td>0.0</td>\n",
       "      <td>0.0</td>\n",
       "      <td>...</td>\n",
       "      <td>0.0</td>\n",
       "      <td>0.0</td>\n",
       "      <td>0.0</td>\n",
       "      <td>0.0</td>\n",
       "      <td>0.0</td>\n",
       "      <td>0.0</td>\n",
       "      <td>0.0</td>\n",
       "      <td>0.0</td>\n",
       "      <td>1.0</td>\n",
       "      <td>0.0</td>\n",
       "    </tr>\n",
       "    <tr>\n",
       "      <th>89</th>\n",
       "      <td>90.0</td>\n",
       "      <td>3681.000000</td>\n",
       "      <td>1.0</td>\n",
       "      <td>1.0</td>\n",
       "      <td>0.0</td>\n",
       "      <td>1.0</td>\n",
       "      <td>5.0</td>\n",
       "      <td>8.0</td>\n",
       "      <td>0.0</td>\n",
       "      <td>0.0</td>\n",
       "      <td>...</td>\n",
       "      <td>0.0</td>\n",
       "      <td>0.0</td>\n",
       "      <td>0.0</td>\n",
       "      <td>0.0</td>\n",
       "      <td>0.0</td>\n",
       "      <td>0.0</td>\n",
       "      <td>0.0</td>\n",
       "      <td>0.0</td>\n",
       "      <td>0.0</td>\n",
       "      <td>1.0</td>\n",
       "    </tr>\n",
       "  </tbody>\n",
       "</table>\n",
       "<p>90 rows × 81 columns</p>\n",
       "</div>"
      ],
      "text/plain": [
       "    FlightNumber   PayloadMass  Flights  GridFins  Reused  Legs  Block  \\\n",
       "0            1.0   6123.547647      1.0       0.0     0.0   0.0    1.0   \n",
       "1            2.0    525.000000      1.0       0.0     0.0   0.0    1.0   \n",
       "2            3.0    677.000000      1.0       0.0     0.0   0.0    1.0   \n",
       "3            4.0    500.000000      1.0       0.0     0.0   0.0    1.0   \n",
       "4            5.0   3170.000000      1.0       0.0     0.0   0.0    1.0   \n",
       "..           ...           ...      ...       ...     ...   ...    ...   \n",
       "85          86.0  15600.000000      2.0       1.0     1.0   1.0    5.0   \n",
       "86          87.0  15600.000000      3.0       1.0     1.0   1.0    5.0   \n",
       "87          88.0  15600.000000      6.0       1.0     1.0   1.0    5.0   \n",
       "88          89.0  15600.000000      3.0       1.0     1.0   1.0    5.0   \n",
       "89          90.0   3681.000000      1.0       1.0     0.0   1.0    5.0   \n",
       "\n",
       "    ReusedCount  Orbit_ES-L1  Orbit_GEO  ...  Serial_B1048  Serial_B1049  \\\n",
       "0           0.0          0.0        0.0  ...           0.0           0.0   \n",
       "1           0.0          0.0        0.0  ...           0.0           0.0   \n",
       "2           0.0          0.0        0.0  ...           0.0           0.0   \n",
       "3           0.0          0.0        0.0  ...           0.0           0.0   \n",
       "4           0.0          0.0        0.0  ...           0.0           0.0   \n",
       "..          ...          ...        ...  ...           ...           ...   \n",
       "85         12.0          0.0        0.0  ...           0.0           0.0   \n",
       "86         13.0          0.0        0.0  ...           0.0           0.0   \n",
       "87         12.0          0.0        0.0  ...           0.0           0.0   \n",
       "88         12.0          0.0        0.0  ...           0.0           0.0   \n",
       "89          8.0          0.0        0.0  ...           0.0           0.0   \n",
       "\n",
       "    Serial_B1050  Serial_B1051  Serial_B1054  Serial_B1056  Serial_B1058  \\\n",
       "0            0.0           0.0           0.0           0.0           0.0   \n",
       "1            0.0           0.0           0.0           0.0           0.0   \n",
       "2            0.0           0.0           0.0           0.0           0.0   \n",
       "3            0.0           0.0           0.0           0.0           0.0   \n",
       "4            0.0           0.0           0.0           0.0           0.0   \n",
       "..           ...           ...           ...           ...           ...   \n",
       "85           0.0           0.0           0.0           0.0           0.0   \n",
       "86           0.0           0.0           0.0           0.0           1.0   \n",
       "87           0.0           1.0           0.0           0.0           0.0   \n",
       "88           0.0           0.0           0.0           0.0           0.0   \n",
       "89           0.0           0.0           0.0           0.0           0.0   \n",
       "\n",
       "    Serial_B1059  Serial_B1060  Serial_B1062  \n",
       "0            0.0           0.0           0.0  \n",
       "1            0.0           0.0           0.0  \n",
       "2            0.0           0.0           0.0  \n",
       "3            0.0           0.0           0.0  \n",
       "4            0.0           0.0           0.0  \n",
       "..           ...           ...           ...  \n",
       "85           0.0           1.0           0.0  \n",
       "86           0.0           0.0           0.0  \n",
       "87           0.0           0.0           0.0  \n",
       "88           0.0           1.0           0.0  \n",
       "89           0.0           0.0           1.0  \n",
       "\n",
       "[90 rows x 81 columns]"
      ]
     },
     "execution_count": 57,
     "metadata": {},
     "output_type": "execute_result"
    }
   ],
   "source": [
    "features_one_hot = features_one_hot.astype('float64')\n",
    "features_one_hot"
   ]
  },
  {
   "cell_type": "code",
   "execution_count": 58,
   "id": "c237abec",
   "metadata": {
    "execution": {
     "iopub.execute_input": "2025-02-02T16:11:41.169512Z",
     "iopub.status.busy": "2025-02-02T16:11:41.169019Z",
     "iopub.status.idle": "2025-02-02T16:11:41.181521Z",
     "shell.execute_reply": "2025-02-02T16:11:41.180131Z"
    },
    "papermill": {
     "duration": 0.049223,
     "end_time": "2025-02-02T16:11:41.183588",
     "exception": false,
     "start_time": "2025-02-02T16:11:41.134365",
     "status": "completed"
    },
    "tags": []
   },
   "outputs": [],
   "source": [
    "features_one_hot.to_csv('dataset_part_3.csv', index=False)\n"
   ]
  },
  {
   "cell_type": "markdown",
   "id": "7009bcd1",
   "metadata": {
    "papermill": {
     "duration": 0.034,
     "end_time": "2025-02-02T16:11:41.251099",
     "exception": false,
     "start_time": "2025-02-02T16:11:41.217099",
     "status": "completed"
    },
    "tags": []
   },
   "source": [
    "### Model Training"
   ]
  },
  {
   "cell_type": "code",
   "execution_count": 59,
   "id": "e822618d",
   "metadata": {
    "execution": {
     "iopub.execute_input": "2025-02-02T16:11:41.320177Z",
     "iopub.status.busy": "2025-02-02T16:11:41.319782Z",
     "iopub.status.idle": "2025-02-02T16:11:41.918390Z",
     "shell.execute_reply": "2025-02-02T16:11:41.917233Z"
    },
    "papermill": {
     "duration": 0.635808,
     "end_time": "2025-02-02T16:11:41.920803",
     "exception": false,
     "start_time": "2025-02-02T16:11:41.284995",
     "status": "completed"
    },
    "tags": []
   },
   "outputs": [],
   "source": [
    "from sklearn import preprocessing\n",
    "from sklearn.model_selection import train_test_split\n",
    "from sklearn.model_selection import GridSearchCV\n",
    "from sklearn.linear_model import LogisticRegression\n",
    "\n",
    "from sklearn.svm import SVC\n",
    "from sklearn.tree import DecisionTreeClassifier\n",
    "from sklearn.neighbors import KNeighborsClassifier\n"
   ]
  },
  {
   "cell_type": "code",
   "execution_count": 60,
   "id": "17c83a38",
   "metadata": {
    "execution": {
     "iopub.execute_input": "2025-02-02T16:11:41.993267Z",
     "iopub.status.busy": "2025-02-02T16:11:41.992906Z",
     "iopub.status.idle": "2025-02-02T16:11:42.016366Z",
     "shell.execute_reply": "2025-02-02T16:11:42.014951Z"
    },
    "papermill": {
     "duration": 0.061785,
     "end_time": "2025-02-02T16:11:42.018277",
     "exception": false,
     "start_time": "2025-02-02T16:11:41.956492",
     "status": "completed"
    },
    "tags": []
   },
   "outputs": [
    {
     "data": {
      "text/html": [
       "<div>\n",
       "<style scoped>\n",
       "    .dataframe tbody tr th:only-of-type {\n",
       "        vertical-align: middle;\n",
       "    }\n",
       "\n",
       "    .dataframe tbody tr th {\n",
       "        vertical-align: top;\n",
       "    }\n",
       "\n",
       "    .dataframe thead th {\n",
       "        text-align: right;\n",
       "    }\n",
       "</style>\n",
       "<table border=\"1\" class=\"dataframe\">\n",
       "  <thead>\n",
       "    <tr style=\"text-align: right;\">\n",
       "      <th></th>\n",
       "      <th>FlighNumber</th>\n",
       "      <th>Date</th>\n",
       "      <th>BoosterVersion</th>\n",
       "      <th>PayloadMass</th>\n",
       "      <th>Orbit</th>\n",
       "      <th>LaunchSite</th>\n",
       "      <th>Outcome</th>\n",
       "      <th>Flights</th>\n",
       "      <th>GridFins</th>\n",
       "      <th>Reused</th>\n",
       "      <th>Legs</th>\n",
       "      <th>LandingPad</th>\n",
       "      <th>Block</th>\n",
       "      <th>ReusedCount</th>\n",
       "      <th>Serial</th>\n",
       "      <th>Longitude</th>\n",
       "      <th>Latitude</th>\n",
       "      <th>FlightNumber</th>\n",
       "      <th>Class</th>\n",
       "    </tr>\n",
       "  </thead>\n",
       "  <tbody>\n",
       "    <tr>\n",
       "      <th>0</th>\n",
       "      <td>6</td>\n",
       "      <td>2010-06-04</td>\n",
       "      <td>Falcon 9</td>\n",
       "      <td>6123.547647</td>\n",
       "      <td>LEO</td>\n",
       "      <td>CCSFS SLC 40</td>\n",
       "      <td>None None</td>\n",
       "      <td>1</td>\n",
       "      <td>False</td>\n",
       "      <td>False</td>\n",
       "      <td>False</td>\n",
       "      <td>Unknown</td>\n",
       "      <td>1.0</td>\n",
       "      <td>0</td>\n",
       "      <td>B0003</td>\n",
       "      <td>-80.577366</td>\n",
       "      <td>28.561857</td>\n",
       "      <td>1</td>\n",
       "      <td>0</td>\n",
       "    </tr>\n",
       "    <tr>\n",
       "      <th>1</th>\n",
       "      <td>8</td>\n",
       "      <td>2012-05-22</td>\n",
       "      <td>Falcon 9</td>\n",
       "      <td>525.000000</td>\n",
       "      <td>LEO</td>\n",
       "      <td>CCSFS SLC 40</td>\n",
       "      <td>None None</td>\n",
       "      <td>1</td>\n",
       "      <td>False</td>\n",
       "      <td>False</td>\n",
       "      <td>False</td>\n",
       "      <td>Unknown</td>\n",
       "      <td>1.0</td>\n",
       "      <td>0</td>\n",
       "      <td>B0005</td>\n",
       "      <td>-80.577366</td>\n",
       "      <td>28.561857</td>\n",
       "      <td>2</td>\n",
       "      <td>0</td>\n",
       "    </tr>\n",
       "    <tr>\n",
       "      <th>2</th>\n",
       "      <td>10</td>\n",
       "      <td>2013-03-01</td>\n",
       "      <td>Falcon 9</td>\n",
       "      <td>677.000000</td>\n",
       "      <td>ISS</td>\n",
       "      <td>CCSFS SLC 40</td>\n",
       "      <td>None None</td>\n",
       "      <td>1</td>\n",
       "      <td>False</td>\n",
       "      <td>False</td>\n",
       "      <td>False</td>\n",
       "      <td>Unknown</td>\n",
       "      <td>1.0</td>\n",
       "      <td>0</td>\n",
       "      <td>B0007</td>\n",
       "      <td>-80.577366</td>\n",
       "      <td>28.561857</td>\n",
       "      <td>3</td>\n",
       "      <td>0</td>\n",
       "    </tr>\n",
       "    <tr>\n",
       "      <th>3</th>\n",
       "      <td>11</td>\n",
       "      <td>2013-09-29</td>\n",
       "      <td>Falcon 9</td>\n",
       "      <td>500.000000</td>\n",
       "      <td>PO</td>\n",
       "      <td>VAFB SLC 4E</td>\n",
       "      <td>False Ocean</td>\n",
       "      <td>1</td>\n",
       "      <td>False</td>\n",
       "      <td>False</td>\n",
       "      <td>False</td>\n",
       "      <td>Unknown</td>\n",
       "      <td>1.0</td>\n",
       "      <td>0</td>\n",
       "      <td>B1003</td>\n",
       "      <td>-120.610829</td>\n",
       "      <td>34.632093</td>\n",
       "      <td>4</td>\n",
       "      <td>0</td>\n",
       "    </tr>\n",
       "    <tr>\n",
       "      <th>4</th>\n",
       "      <td>12</td>\n",
       "      <td>2013-12-03</td>\n",
       "      <td>Falcon 9</td>\n",
       "      <td>3170.000000</td>\n",
       "      <td>GTO</td>\n",
       "      <td>CCSFS SLC 40</td>\n",
       "      <td>None None</td>\n",
       "      <td>1</td>\n",
       "      <td>False</td>\n",
       "      <td>False</td>\n",
       "      <td>False</td>\n",
       "      <td>Unknown</td>\n",
       "      <td>1.0</td>\n",
       "      <td>0</td>\n",
       "      <td>B1004</td>\n",
       "      <td>-80.577366</td>\n",
       "      <td>28.561857</td>\n",
       "      <td>5</td>\n",
       "      <td>0</td>\n",
       "    </tr>\n",
       "  </tbody>\n",
       "</table>\n",
       "</div>"
      ],
      "text/plain": [
       "   FlighNumber        Date BoosterVersion  PayloadMass Orbit    LaunchSite  \\\n",
       "0            6  2010-06-04       Falcon 9  6123.547647   LEO  CCSFS SLC 40   \n",
       "1            8  2012-05-22       Falcon 9   525.000000   LEO  CCSFS SLC 40   \n",
       "2           10  2013-03-01       Falcon 9   677.000000   ISS  CCSFS SLC 40   \n",
       "3           11  2013-09-29       Falcon 9   500.000000    PO   VAFB SLC 4E   \n",
       "4           12  2013-12-03       Falcon 9  3170.000000   GTO  CCSFS SLC 40   \n",
       "\n",
       "       Outcome  Flights  GridFins  Reused   Legs LandingPad  Block  \\\n",
       "0    None None        1     False   False  False    Unknown    1.0   \n",
       "1    None None        1     False   False  False    Unknown    1.0   \n",
       "2    None None        1     False   False  False    Unknown    1.0   \n",
       "3  False Ocean        1     False   False  False    Unknown    1.0   \n",
       "4    None None        1     False   False  False    Unknown    1.0   \n",
       "\n",
       "   ReusedCount Serial   Longitude   Latitude  FlightNumber  Class  \n",
       "0            0  B0003  -80.577366  28.561857             1      0  \n",
       "1            0  B0005  -80.577366  28.561857             2      0  \n",
       "2            0  B0007  -80.577366  28.561857             3      0  \n",
       "3            0  B1003 -120.610829  34.632093             4      0  \n",
       "4            0  B1004  -80.577366  28.561857             5      0  "
      ]
     },
     "execution_count": 60,
     "metadata": {},
     "output_type": "execute_result"
    }
   ],
   "source": [
    "data = pd.read_csv(\"dataset_csv_part2.csv\")\n",
    "data.head()"
   ]
  },
  {
   "cell_type": "code",
   "execution_count": 61,
   "id": "88ad2cb4",
   "metadata": {
    "execution": {
     "iopub.execute_input": "2025-02-02T16:11:42.088330Z",
     "iopub.status.busy": "2025-02-02T16:11:42.087842Z",
     "iopub.status.idle": "2025-02-02T16:11:42.095002Z",
     "shell.execute_reply": "2025-02-02T16:11:42.093732Z"
    },
    "papermill": {
     "duration": 0.044097,
     "end_time": "2025-02-02T16:11:42.096806",
     "exception": false,
     "start_time": "2025-02-02T16:11:42.052709",
     "status": "completed"
    },
    "tags": []
   },
   "outputs": [
    {
     "data": {
      "text/plain": [
       "(90, 19)"
      ]
     },
     "execution_count": 61,
     "metadata": {},
     "output_type": "execute_result"
    }
   ],
   "source": [
    "data.shape"
   ]
  },
  {
   "cell_type": "code",
   "execution_count": 62,
   "id": "23c61c41",
   "metadata": {
    "execution": {
     "iopub.execute_input": "2025-02-02T16:11:42.169926Z",
     "iopub.status.busy": "2025-02-02T16:11:42.169508Z",
     "iopub.status.idle": "2025-02-02T16:11:42.207395Z",
     "shell.execute_reply": "2025-02-02T16:11:42.206040Z"
    },
    "papermill": {
     "duration": 0.078412,
     "end_time": "2025-02-02T16:11:42.209273",
     "exception": false,
     "start_time": "2025-02-02T16:11:42.130861",
     "status": "completed"
    },
    "tags": []
   },
   "outputs": [
    {
     "data": {
      "text/html": [
       "<div>\n",
       "<style scoped>\n",
       "    .dataframe tbody tr th:only-of-type {\n",
       "        vertical-align: middle;\n",
       "    }\n",
       "\n",
       "    .dataframe tbody tr th {\n",
       "        vertical-align: top;\n",
       "    }\n",
       "\n",
       "    .dataframe thead th {\n",
       "        text-align: right;\n",
       "    }\n",
       "</style>\n",
       "<table border=\"1\" class=\"dataframe\">\n",
       "  <thead>\n",
       "    <tr style=\"text-align: right;\">\n",
       "      <th></th>\n",
       "      <th>FlightNumber</th>\n",
       "      <th>PayloadMass</th>\n",
       "      <th>Flights</th>\n",
       "      <th>GridFins</th>\n",
       "      <th>Reused</th>\n",
       "      <th>Legs</th>\n",
       "      <th>Block</th>\n",
       "      <th>ReusedCount</th>\n",
       "      <th>Orbit_ES-L1</th>\n",
       "      <th>Orbit_GEO</th>\n",
       "      <th>...</th>\n",
       "      <th>Serial_B1048</th>\n",
       "      <th>Serial_B1049</th>\n",
       "      <th>Serial_B1050</th>\n",
       "      <th>Serial_B1051</th>\n",
       "      <th>Serial_B1054</th>\n",
       "      <th>Serial_B1056</th>\n",
       "      <th>Serial_B1058</th>\n",
       "      <th>Serial_B1059</th>\n",
       "      <th>Serial_B1060</th>\n",
       "      <th>Serial_B1062</th>\n",
       "    </tr>\n",
       "  </thead>\n",
       "  <tbody>\n",
       "    <tr>\n",
       "      <th>0</th>\n",
       "      <td>1.0</td>\n",
       "      <td>6123.547647</td>\n",
       "      <td>1.0</td>\n",
       "      <td>0.0</td>\n",
       "      <td>0.0</td>\n",
       "      <td>0.0</td>\n",
       "      <td>1.0</td>\n",
       "      <td>0.0</td>\n",
       "      <td>0.0</td>\n",
       "      <td>0.0</td>\n",
       "      <td>...</td>\n",
       "      <td>0.0</td>\n",
       "      <td>0.0</td>\n",
       "      <td>0.0</td>\n",
       "      <td>0.0</td>\n",
       "      <td>0.0</td>\n",
       "      <td>0.0</td>\n",
       "      <td>0.0</td>\n",
       "      <td>0.0</td>\n",
       "      <td>0.0</td>\n",
       "      <td>0.0</td>\n",
       "    </tr>\n",
       "    <tr>\n",
       "      <th>1</th>\n",
       "      <td>2.0</td>\n",
       "      <td>525.000000</td>\n",
       "      <td>1.0</td>\n",
       "      <td>0.0</td>\n",
       "      <td>0.0</td>\n",
       "      <td>0.0</td>\n",
       "      <td>1.0</td>\n",
       "      <td>0.0</td>\n",
       "      <td>0.0</td>\n",
       "      <td>0.0</td>\n",
       "      <td>...</td>\n",
       "      <td>0.0</td>\n",
       "      <td>0.0</td>\n",
       "      <td>0.0</td>\n",
       "      <td>0.0</td>\n",
       "      <td>0.0</td>\n",
       "      <td>0.0</td>\n",
       "      <td>0.0</td>\n",
       "      <td>0.0</td>\n",
       "      <td>0.0</td>\n",
       "      <td>0.0</td>\n",
       "    </tr>\n",
       "    <tr>\n",
       "      <th>2</th>\n",
       "      <td>3.0</td>\n",
       "      <td>677.000000</td>\n",
       "      <td>1.0</td>\n",
       "      <td>0.0</td>\n",
       "      <td>0.0</td>\n",
       "      <td>0.0</td>\n",
       "      <td>1.0</td>\n",
       "      <td>0.0</td>\n",
       "      <td>0.0</td>\n",
       "      <td>0.0</td>\n",
       "      <td>...</td>\n",
       "      <td>0.0</td>\n",
       "      <td>0.0</td>\n",
       "      <td>0.0</td>\n",
       "      <td>0.0</td>\n",
       "      <td>0.0</td>\n",
       "      <td>0.0</td>\n",
       "      <td>0.0</td>\n",
       "      <td>0.0</td>\n",
       "      <td>0.0</td>\n",
       "      <td>0.0</td>\n",
       "    </tr>\n",
       "    <tr>\n",
       "      <th>3</th>\n",
       "      <td>4.0</td>\n",
       "      <td>500.000000</td>\n",
       "      <td>1.0</td>\n",
       "      <td>0.0</td>\n",
       "      <td>0.0</td>\n",
       "      <td>0.0</td>\n",
       "      <td>1.0</td>\n",
       "      <td>0.0</td>\n",
       "      <td>0.0</td>\n",
       "      <td>0.0</td>\n",
       "      <td>...</td>\n",
       "      <td>0.0</td>\n",
       "      <td>0.0</td>\n",
       "      <td>0.0</td>\n",
       "      <td>0.0</td>\n",
       "      <td>0.0</td>\n",
       "      <td>0.0</td>\n",
       "      <td>0.0</td>\n",
       "      <td>0.0</td>\n",
       "      <td>0.0</td>\n",
       "      <td>0.0</td>\n",
       "    </tr>\n",
       "    <tr>\n",
       "      <th>4</th>\n",
       "      <td>5.0</td>\n",
       "      <td>3170.000000</td>\n",
       "      <td>1.0</td>\n",
       "      <td>0.0</td>\n",
       "      <td>0.0</td>\n",
       "      <td>0.0</td>\n",
       "      <td>1.0</td>\n",
       "      <td>0.0</td>\n",
       "      <td>0.0</td>\n",
       "      <td>0.0</td>\n",
       "      <td>...</td>\n",
       "      <td>0.0</td>\n",
       "      <td>0.0</td>\n",
       "      <td>0.0</td>\n",
       "      <td>0.0</td>\n",
       "      <td>0.0</td>\n",
       "      <td>0.0</td>\n",
       "      <td>0.0</td>\n",
       "      <td>0.0</td>\n",
       "      <td>0.0</td>\n",
       "      <td>0.0</td>\n",
       "    </tr>\n",
       "    <tr>\n",
       "      <th>...</th>\n",
       "      <td>...</td>\n",
       "      <td>...</td>\n",
       "      <td>...</td>\n",
       "      <td>...</td>\n",
       "      <td>...</td>\n",
       "      <td>...</td>\n",
       "      <td>...</td>\n",
       "      <td>...</td>\n",
       "      <td>...</td>\n",
       "      <td>...</td>\n",
       "      <td>...</td>\n",
       "      <td>...</td>\n",
       "      <td>...</td>\n",
       "      <td>...</td>\n",
       "      <td>...</td>\n",
       "      <td>...</td>\n",
       "      <td>...</td>\n",
       "      <td>...</td>\n",
       "      <td>...</td>\n",
       "      <td>...</td>\n",
       "      <td>...</td>\n",
       "    </tr>\n",
       "    <tr>\n",
       "      <th>85</th>\n",
       "      <td>86.0</td>\n",
       "      <td>15600.000000</td>\n",
       "      <td>2.0</td>\n",
       "      <td>1.0</td>\n",
       "      <td>1.0</td>\n",
       "      <td>1.0</td>\n",
       "      <td>5.0</td>\n",
       "      <td>12.0</td>\n",
       "      <td>0.0</td>\n",
       "      <td>0.0</td>\n",
       "      <td>...</td>\n",
       "      <td>0.0</td>\n",
       "      <td>0.0</td>\n",
       "      <td>0.0</td>\n",
       "      <td>0.0</td>\n",
       "      <td>0.0</td>\n",
       "      <td>0.0</td>\n",
       "      <td>0.0</td>\n",
       "      <td>0.0</td>\n",
       "      <td>1.0</td>\n",
       "      <td>0.0</td>\n",
       "    </tr>\n",
       "    <tr>\n",
       "      <th>86</th>\n",
       "      <td>87.0</td>\n",
       "      <td>15600.000000</td>\n",
       "      <td>3.0</td>\n",
       "      <td>1.0</td>\n",
       "      <td>1.0</td>\n",
       "      <td>1.0</td>\n",
       "      <td>5.0</td>\n",
       "      <td>13.0</td>\n",
       "      <td>0.0</td>\n",
       "      <td>0.0</td>\n",
       "      <td>...</td>\n",
       "      <td>0.0</td>\n",
       "      <td>0.0</td>\n",
       "      <td>0.0</td>\n",
       "      <td>0.0</td>\n",
       "      <td>0.0</td>\n",
       "      <td>0.0</td>\n",
       "      <td>1.0</td>\n",
       "      <td>0.0</td>\n",
       "      <td>0.0</td>\n",
       "      <td>0.0</td>\n",
       "    </tr>\n",
       "    <tr>\n",
       "      <th>87</th>\n",
       "      <td>88.0</td>\n",
       "      <td>15600.000000</td>\n",
       "      <td>6.0</td>\n",
       "      <td>1.0</td>\n",
       "      <td>1.0</td>\n",
       "      <td>1.0</td>\n",
       "      <td>5.0</td>\n",
       "      <td>12.0</td>\n",
       "      <td>0.0</td>\n",
       "      <td>0.0</td>\n",
       "      <td>...</td>\n",
       "      <td>0.0</td>\n",
       "      <td>0.0</td>\n",
       "      <td>0.0</td>\n",
       "      <td>1.0</td>\n",
       "      <td>0.0</td>\n",
       "      <td>0.0</td>\n",
       "      <td>0.0</td>\n",
       "      <td>0.0</td>\n",
       "      <td>0.0</td>\n",
       "      <td>0.0</td>\n",
       "    </tr>\n",
       "    <tr>\n",
       "      <th>88</th>\n",
       "      <td>89.0</td>\n",
       "      <td>15600.000000</td>\n",
       "      <td>3.0</td>\n",
       "      <td>1.0</td>\n",
       "      <td>1.0</td>\n",
       "      <td>1.0</td>\n",
       "      <td>5.0</td>\n",
       "      <td>12.0</td>\n",
       "      <td>0.0</td>\n",
       "      <td>0.0</td>\n",
       "      <td>...</td>\n",
       "      <td>0.0</td>\n",
       "      <td>0.0</td>\n",
       "      <td>0.0</td>\n",
       "      <td>0.0</td>\n",
       "      <td>0.0</td>\n",
       "      <td>0.0</td>\n",
       "      <td>0.0</td>\n",
       "      <td>0.0</td>\n",
       "      <td>1.0</td>\n",
       "      <td>0.0</td>\n",
       "    </tr>\n",
       "    <tr>\n",
       "      <th>89</th>\n",
       "      <td>90.0</td>\n",
       "      <td>3681.000000</td>\n",
       "      <td>1.0</td>\n",
       "      <td>1.0</td>\n",
       "      <td>0.0</td>\n",
       "      <td>1.0</td>\n",
       "      <td>5.0</td>\n",
       "      <td>8.0</td>\n",
       "      <td>0.0</td>\n",
       "      <td>0.0</td>\n",
       "      <td>...</td>\n",
       "      <td>0.0</td>\n",
       "      <td>0.0</td>\n",
       "      <td>0.0</td>\n",
       "      <td>0.0</td>\n",
       "      <td>0.0</td>\n",
       "      <td>0.0</td>\n",
       "      <td>0.0</td>\n",
       "      <td>0.0</td>\n",
       "      <td>0.0</td>\n",
       "      <td>1.0</td>\n",
       "    </tr>\n",
       "  </tbody>\n",
       "</table>\n",
       "<p>90 rows × 81 columns</p>\n",
       "</div>"
      ],
      "text/plain": [
       "    FlightNumber   PayloadMass  Flights  GridFins  Reused  Legs  Block  \\\n",
       "0            1.0   6123.547647      1.0       0.0     0.0   0.0    1.0   \n",
       "1            2.0    525.000000      1.0       0.0     0.0   0.0    1.0   \n",
       "2            3.0    677.000000      1.0       0.0     0.0   0.0    1.0   \n",
       "3            4.0    500.000000      1.0       0.0     0.0   0.0    1.0   \n",
       "4            5.0   3170.000000      1.0       0.0     0.0   0.0    1.0   \n",
       "..           ...           ...      ...       ...     ...   ...    ...   \n",
       "85          86.0  15600.000000      2.0       1.0     1.0   1.0    5.0   \n",
       "86          87.0  15600.000000      3.0       1.0     1.0   1.0    5.0   \n",
       "87          88.0  15600.000000      6.0       1.0     1.0   1.0    5.0   \n",
       "88          89.0  15600.000000      3.0       1.0     1.0   1.0    5.0   \n",
       "89          90.0   3681.000000      1.0       1.0     0.0   1.0    5.0   \n",
       "\n",
       "    ReusedCount  Orbit_ES-L1  Orbit_GEO  ...  Serial_B1048  Serial_B1049  \\\n",
       "0           0.0          0.0        0.0  ...           0.0           0.0   \n",
       "1           0.0          0.0        0.0  ...           0.0           0.0   \n",
       "2           0.0          0.0        0.0  ...           0.0           0.0   \n",
       "3           0.0          0.0        0.0  ...           0.0           0.0   \n",
       "4           0.0          0.0        0.0  ...           0.0           0.0   \n",
       "..          ...          ...        ...  ...           ...           ...   \n",
       "85         12.0          0.0        0.0  ...           0.0           0.0   \n",
       "86         13.0          0.0        0.0  ...           0.0           0.0   \n",
       "87         12.0          0.0        0.0  ...           0.0           0.0   \n",
       "88         12.0          0.0        0.0  ...           0.0           0.0   \n",
       "89          8.0          0.0        0.0  ...           0.0           0.0   \n",
       "\n",
       "    Serial_B1050  Serial_B1051  Serial_B1054  Serial_B1056  Serial_B1058  \\\n",
       "0            0.0           0.0           0.0           0.0           0.0   \n",
       "1            0.0           0.0           0.0           0.0           0.0   \n",
       "2            0.0           0.0           0.0           0.0           0.0   \n",
       "3            0.0           0.0           0.0           0.0           0.0   \n",
       "4            0.0           0.0           0.0           0.0           0.0   \n",
       "..           ...           ...           ...           ...           ...   \n",
       "85           0.0           0.0           0.0           0.0           0.0   \n",
       "86           0.0           0.0           0.0           0.0           1.0   \n",
       "87           0.0           1.0           0.0           0.0           0.0   \n",
       "88           0.0           0.0           0.0           0.0           0.0   \n",
       "89           0.0           0.0           0.0           0.0           0.0   \n",
       "\n",
       "    Serial_B1059  Serial_B1060  Serial_B1062  \n",
       "0            0.0           0.0           0.0  \n",
       "1            0.0           0.0           0.0  \n",
       "2            0.0           0.0           0.0  \n",
       "3            0.0           0.0           0.0  \n",
       "4            0.0           0.0           0.0  \n",
       "..           ...           ...           ...  \n",
       "85           0.0           1.0           0.0  \n",
       "86           0.0           0.0           0.0  \n",
       "87           0.0           0.0           0.0  \n",
       "88           0.0           1.0           0.0  \n",
       "89           0.0           0.0           1.0  \n",
       "\n",
       "[90 rows x 81 columns]"
      ]
     },
     "execution_count": 62,
     "metadata": {},
     "output_type": "execute_result"
    }
   ],
   "source": [
    "X = pd.read_csv(\"dataset_part_3.csv\")\n",
    "X.head(100)"
   ]
  },
  {
   "cell_type": "code",
   "execution_count": 63,
   "id": "f7b6d647",
   "metadata": {
    "execution": {
     "iopub.execute_input": "2025-02-02T16:11:42.280654Z",
     "iopub.status.busy": "2025-02-02T16:11:42.280144Z",
     "iopub.status.idle": "2025-02-02T16:11:42.286237Z",
     "shell.execute_reply": "2025-02-02T16:11:42.285054Z"
    },
    "papermill": {
     "duration": 0.044195,
     "end_time": "2025-02-02T16:11:42.287937",
     "exception": false,
     "start_time": "2025-02-02T16:11:42.243742",
     "status": "completed"
    },
    "tags": []
   },
   "outputs": [],
   "source": [
    "def plot_confusion_matrix(y,y_predict):\n",
    "    \"this function plots the confusion matrix\"\n",
    "    from sklearn.metrics import confusion_matrix\n",
    "\n",
    "    cm = confusion_matrix(y, y_predict)\n",
    "    ax= plt.subplot()\n",
    "    sns.heatmap(cm, annot=True, ax = ax); #annot=True to annotate cells\n",
    "    ax.set_xlabel('Predicted labels')\n",
    "    ax.set_ylabel('True labels')\n",
    "    ax.set_title('Confusion Matrix'); \n",
    "    ax.xaxis.set_ticklabels(['did not land', 'land']); ax.yaxis.set_ticklabels(['did not land', 'landed']) \n",
    "    plt.show() "
   ]
  },
  {
   "cell_type": "markdown",
   "id": "c915deb5",
   "metadata": {
    "papermill": {
     "duration": 0.048781,
     "end_time": "2025-02-02T16:11:42.371841",
     "exception": false,
     "start_time": "2025-02-02T16:11:42.323060",
     "status": "completed"
    },
    "tags": []
   },
   "source": []
  },
  {
   "cell_type": "code",
   "execution_count": 64,
   "id": "3ebfb9a8",
   "metadata": {
    "execution": {
     "iopub.execute_input": "2025-02-02T16:11:42.462873Z",
     "iopub.status.busy": "2025-02-02T16:11:42.462494Z",
     "iopub.status.idle": "2025-02-02T16:11:42.469382Z",
     "shell.execute_reply": "2025-02-02T16:11:42.468167Z"
    },
    "papermill": {
     "duration": 0.046903,
     "end_time": "2025-02-02T16:11:42.471097",
     "exception": false,
     "start_time": "2025-02-02T16:11:42.424194",
     "status": "completed"
    },
    "tags": []
   },
   "outputs": [
    {
     "name": "stdout",
     "output_type": "stream",
     "text": [
      "<class 'numpy.ndarray'>\n",
      "[0 0 0 0 0]\n"
     ]
    }
   ],
   "source": [
    "Y = data[\"Class\"].to_numpy()\n",
    "\n",
    "print(type(Y))\n",
    "print(Y[:5])"
   ]
  },
  {
   "cell_type": "code",
   "execution_count": 65,
   "id": "a15010cc",
   "metadata": {
    "execution": {
     "iopub.execute_input": "2025-02-02T16:11:42.544567Z",
     "iopub.status.busy": "2025-02-02T16:11:42.544178Z",
     "iopub.status.idle": "2025-02-02T16:11:42.560377Z",
     "shell.execute_reply": "2025-02-02T16:11:42.558287Z"
    },
    "papermill": {
     "duration": 0.054922,
     "end_time": "2025-02-02T16:11:42.562249",
     "exception": false,
     "start_time": "2025-02-02T16:11:42.507327",
     "status": "completed"
    },
    "tags": []
   },
   "outputs": [
    {
     "name": "stdout",
     "output_type": "stream",
     "text": [
      "[[-1.71291154  0.         -0.65391284 -1.87082869 -0.83553169 -1.93309133\n",
      "  -1.57589457 -0.76452913 -0.10599979 -0.10599979 -0.65465367 -0.10599979\n",
      "  -0.55167728  3.44342023 -0.18569534 -0.33333333 -0.10599979 -0.24253563\n",
      "  -0.42919754  0.79772404 -0.56879646 -0.4108907  -0.4108907  -0.15075567\n",
      "  -0.79772404 -0.15075567 -0.39223227  1.56892908  9.43398113 -0.10599979\n",
      "  -0.10599979 -0.10599979 -0.10599979 -0.10599979 -0.10599979 -0.10599979\n",
      "  -0.10599979 -0.10599979 -0.10599979 -0.10599979 -0.10599979 -0.10599979\n",
      "  -0.10599979 -0.10599979 -0.10599979 -0.10599979 -0.10599979 -0.15075567\n",
      "  -0.10599979 -0.10599979 -0.10599979 -0.10599979 -0.10599979 -0.15075567\n",
      "  -0.10599979 -0.15075567 -0.15075567 -0.10599979 -0.15075567 -0.15075567\n",
      "  -0.10599979 -0.10599979 -0.15075567 -0.15075567 -0.15075567 -0.10599979\n",
      "  -0.10599979 -0.10599979 -0.15075567 -0.21566555 -0.18569534 -0.21566555\n",
      "  -0.26726124 -0.10599979 -0.24253563 -0.10599979 -0.21566555 -0.18569534\n",
      "  -0.21566555 -0.18569534 -0.10599979]\n",
      " [-1.67441914 -1.18972425 -0.65391284 -1.87082869 -0.83553169 -1.93309133\n",
      "  -1.57589457 -0.76452913 -0.10599979 -0.10599979 -0.65465367 -0.10599979\n",
      "  -0.55167728  3.44342023 -0.18569534 -0.33333333 -0.10599979 -0.24253563\n",
      "  -0.42919754  0.79772404 -0.56879646 -0.4108907  -0.4108907  -0.15075567\n",
      "  -0.79772404 -0.15075567 -0.39223227  1.56892908 -0.10599979  9.43398113\n",
      "  -0.10599979 -0.10599979 -0.10599979 -0.10599979 -0.10599979 -0.10599979\n",
      "  -0.10599979 -0.10599979 -0.10599979 -0.10599979 -0.10599979 -0.10599979\n",
      "  -0.10599979 -0.10599979 -0.10599979 -0.10599979 -0.10599979 -0.15075567\n",
      "  -0.10599979 -0.10599979 -0.10599979 -0.10599979 -0.10599979 -0.15075567\n",
      "  -0.10599979 -0.15075567 -0.15075567 -0.10599979 -0.15075567 -0.15075567\n",
      "  -0.10599979 -0.10599979 -0.15075567 -0.15075567 -0.15075567 -0.10599979\n",
      "  -0.10599979 -0.10599979 -0.15075567 -0.21566555 -0.18569534 -0.21566555\n",
      "  -0.26726124 -0.10599979 -0.24253563 -0.10599979 -0.21566555 -0.18569534\n",
      "  -0.21566555 -0.18569534 -0.10599979]\n",
      " [-1.63592675 -1.15742336 -0.65391284 -1.87082869 -0.83553169 -1.93309133\n",
      "  -1.57589457 -0.76452913 -0.10599979 -0.10599979 -0.65465367 -0.10599979\n",
      "   1.81265393 -0.29040893 -0.18569534 -0.33333333 -0.10599979 -0.24253563\n",
      "  -0.42919754  0.79772404 -0.56879646 -0.4108907  -0.4108907  -0.15075567\n",
      "  -0.79772404 -0.15075567 -0.39223227  1.56892908 -0.10599979 -0.10599979\n",
      "   9.43398113 -0.10599979 -0.10599979 -0.10599979 -0.10599979 -0.10599979\n",
      "  -0.10599979 -0.10599979 -0.10599979 -0.10599979 -0.10599979 -0.10599979\n",
      "  -0.10599979 -0.10599979 -0.10599979 -0.10599979 -0.10599979 -0.15075567\n",
      "  -0.10599979 -0.10599979 -0.10599979 -0.10599979 -0.10599979 -0.15075567\n",
      "  -0.10599979 -0.15075567 -0.15075567 -0.10599979 -0.15075567 -0.15075567\n",
      "  -0.10599979 -0.10599979 -0.15075567 -0.15075567 -0.15075567 -0.10599979\n",
      "  -0.10599979 -0.10599979 -0.15075567 -0.21566555 -0.18569534 -0.21566555\n",
      "  -0.26726124 -0.10599979 -0.24253563 -0.10599979 -0.21566555 -0.18569534\n",
      "  -0.21566555 -0.18569534 -0.10599979]\n",
      " [-1.59743435 -1.19503689 -0.65391284 -1.87082869 -0.83553169 -1.93309133\n",
      "  -1.57589457 -0.76452913 -0.10599979 -0.10599979 -0.65465367 -0.10599979\n",
      "  -0.55167728 -0.29040893 -0.18569534  3.         -0.10599979 -0.24253563\n",
      "  -0.42919754 -1.25356634 -0.56879646  2.43373723 -0.4108907  -0.15075567\n",
      "  -0.79772404 -0.15075567 -0.39223227  1.56892908 -0.10599979 -0.10599979\n",
      "  -0.10599979  9.43398113 -0.10599979 -0.10599979 -0.10599979 -0.10599979\n",
      "  -0.10599979 -0.10599979 -0.10599979 -0.10599979 -0.10599979 -0.10599979\n",
      "  -0.10599979 -0.10599979 -0.10599979 -0.10599979 -0.10599979 -0.15075567\n",
      "  -0.10599979 -0.10599979 -0.10599979 -0.10599979 -0.10599979 -0.15075567\n",
      "  -0.10599979 -0.15075567 -0.15075567 -0.10599979 -0.15075567 -0.15075567\n",
      "  -0.10599979 -0.10599979 -0.15075567 -0.15075567 -0.15075567 -0.10599979\n",
      "  -0.10599979 -0.10599979 -0.15075567 -0.21566555 -0.18569534 -0.21566555\n",
      "  -0.26726124 -0.10599979 -0.24253563 -0.10599979 -0.21566555 -0.18569534\n",
      "  -0.21566555 -0.18569534 -0.10599979]\n",
      " [-1.55894196 -0.62764622 -0.65391284 -1.87082869 -0.83553169 -1.93309133\n",
      "  -1.57589457 -0.76452913 -0.10599979 -0.10599979  1.52752523 -0.10599979\n",
      "  -0.55167728 -0.29040893 -0.18569534 -0.33333333 -0.10599979 -0.24253563\n",
      "  -0.42919754  0.79772404 -0.56879646 -0.4108907  -0.4108907  -0.15075567\n",
      "  -0.79772404 -0.15075567 -0.39223227  1.56892908 -0.10599979 -0.10599979\n",
      "  -0.10599979 -0.10599979  9.43398113 -0.10599979 -0.10599979 -0.10599979\n",
      "  -0.10599979 -0.10599979 -0.10599979 -0.10599979 -0.10599979 -0.10599979\n",
      "  -0.10599979 -0.10599979 -0.10599979 -0.10599979 -0.10599979 -0.15075567\n",
      "  -0.10599979 -0.10599979 -0.10599979 -0.10599979 -0.10599979 -0.15075567\n",
      "  -0.10599979 -0.15075567 -0.15075567 -0.10599979 -0.15075567 -0.15075567\n",
      "  -0.10599979 -0.10599979 -0.15075567 -0.15075567 -0.15075567 -0.10599979\n",
      "  -0.10599979 -0.10599979 -0.15075567 -0.21566555 -0.18569534 -0.21566555\n",
      "  -0.26726124 -0.10599979 -0.24253563 -0.10599979 -0.21566555 -0.18569534\n",
      "  -0.21566555 -0.18569534 -0.10599979]]\n"
     ]
    }
   ],
   "source": [
    "from sklearn.preprocessing import StandardScaler\n",
    "\n",
    "scaler = StandardScaler()\n",
    "\n",
    "X = scaler.fit_transform(X)\n",
    "\n",
    "print(X[:5])"
   ]
  },
  {
   "cell_type": "markdown",
   "id": "6a16bde3",
   "metadata": {
    "papermill": {
     "duration": 0.03694,
     "end_time": "2025-02-02T16:11:42.637430",
     "exception": false,
     "start_time": "2025-02-02T16:11:42.600490",
     "status": "completed"
    },
    "tags": []
   },
   "source": [
    "We split the data into training and testing data using the  function  <code>train_test_split</code>.   The training data is divided into validation data, a second set used for training  data; then the models are trained and hyperparameters are selected using the function <code>GridSearchCV</code>.\n"
   ]
  },
  {
   "cell_type": "code",
   "execution_count": 66,
   "id": "0f788df2",
   "metadata": {
    "execution": {
     "iopub.execute_input": "2025-02-02T16:11:42.714110Z",
     "iopub.status.busy": "2025-02-02T16:11:42.713628Z",
     "iopub.status.idle": "2025-02-02T16:11:42.720229Z",
     "shell.execute_reply": "2025-02-02T16:11:42.718824Z"
    },
    "papermill": {
     "duration": 0.04794,
     "end_time": "2025-02-02T16:11:42.722454",
     "exception": false,
     "start_time": "2025-02-02T16:11:42.674514",
     "status": "completed"
    },
    "tags": []
   },
   "outputs": [],
   "source": [
    "X_train, X_test, y_train, y_test = train_test_split(X,Y, test_size=0.2,random_state=42)\n"
   ]
  },
  {
   "cell_type": "code",
   "execution_count": 67,
   "id": "27ff53a9",
   "metadata": {
    "execution": {
     "iopub.execute_input": "2025-02-02T16:11:42.799042Z",
     "iopub.status.busy": "2025-02-02T16:11:42.798624Z",
     "iopub.status.idle": "2025-02-02T16:11:42.804836Z",
     "shell.execute_reply": "2025-02-02T16:11:42.803698Z"
    },
    "papermill": {
     "duration": 0.047327,
     "end_time": "2025-02-02T16:11:42.807026",
     "exception": false,
     "start_time": "2025-02-02T16:11:42.759699",
     "status": "completed"
    },
    "tags": []
   },
   "outputs": [],
   "source": [
    "X_train, X_val, y_train, Y_val = train_test_split(X_train, y_train, test_size=0.2, random_state=42)\n"
   ]
  },
  {
   "cell_type": "code",
   "execution_count": 68,
   "id": "d94de339",
   "metadata": {
    "execution": {
     "iopub.execute_input": "2025-02-02T16:11:42.878618Z",
     "iopub.status.busy": "2025-02-02T16:11:42.878168Z",
     "iopub.status.idle": "2025-02-02T16:11:42.885013Z",
     "shell.execute_reply": "2025-02-02T16:11:42.883707Z"
    },
    "papermill": {
     "duration": 0.044377,
     "end_time": "2025-02-02T16:11:42.886753",
     "exception": false,
     "start_time": "2025-02-02T16:11:42.842376",
     "status": "completed"
    },
    "tags": []
   },
   "outputs": [
    {
     "name": "stdout",
     "output_type": "stream",
     "text": [
      "Training Set Size : (57, 81)\n",
      "Validation Set Size : (15, 81)\n",
      "Testing Set Size : (18, 81)\n"
     ]
    }
   ],
   "source": [
    "print(f\"Training Set Size : {X_train.shape}\")\n",
    "print(f\"Validation Set Size : {X_val.shape}\")\n",
    "print(f\"Testing Set Size : {X_test.shape}\")"
   ]
  },
  {
   "cell_type": "code",
   "execution_count": 69,
   "id": "c5ac88b2",
   "metadata": {
    "execution": {
     "iopub.execute_input": "2025-02-02T16:11:42.957714Z",
     "iopub.status.busy": "2025-02-02T16:11:42.957247Z",
     "iopub.status.idle": "2025-02-02T16:11:42.964321Z",
     "shell.execute_reply": "2025-02-02T16:11:42.963076Z"
    },
    "papermill": {
     "duration": 0.045001,
     "end_time": "2025-02-02T16:11:42.966117",
     "exception": false,
     "start_time": "2025-02-02T16:11:42.921116",
     "status": "completed"
    },
    "tags": []
   },
   "outputs": [
    {
     "data": {
      "text/plain": [
       "(18,)"
      ]
     },
     "execution_count": 69,
     "metadata": {},
     "output_type": "execute_result"
    }
   ],
   "source": [
    "y_test.shape"
   ]
  },
  {
   "cell_type": "markdown",
   "id": "23824d6a",
   "metadata": {
    "papermill": {
     "duration": 0.037048,
     "end_time": "2025-02-02T16:11:43.040661",
     "exception": false,
     "start_time": "2025-02-02T16:11:43.003613",
     "status": "completed"
    },
    "tags": []
   },
   "source": [
    "### Logistic Regression"
   ]
  },
  {
   "cell_type": "code",
   "execution_count": 70,
   "id": "6658aa09",
   "metadata": {
    "execution": {
     "iopub.execute_input": "2025-02-02T16:11:43.118453Z",
     "iopub.status.busy": "2025-02-02T16:11:43.117985Z",
     "iopub.status.idle": "2025-02-02T16:11:43.123037Z",
     "shell.execute_reply": "2025-02-02T16:11:43.121699Z"
    },
    "papermill": {
     "duration": 0.046901,
     "end_time": "2025-02-02T16:11:43.125029",
     "exception": false,
     "start_time": "2025-02-02T16:11:43.078128",
     "status": "completed"
    },
    "tags": []
   },
   "outputs": [],
   "source": [
    "parameters ={'C':[0.01,0.1,1],\n",
    "             'penalty':['l2'],\n",
    "             'solver':['lbfgs']}"
   ]
  },
  {
   "cell_type": "code",
   "execution_count": 71,
   "id": "c34d8230",
   "metadata": {
    "execution": {
     "iopub.execute_input": "2025-02-02T16:11:43.202559Z",
     "iopub.status.busy": "2025-02-02T16:11:43.202141Z",
     "iopub.status.idle": "2025-02-02T16:11:43.206822Z",
     "shell.execute_reply": "2025-02-02T16:11:43.205476Z"
    },
    "papermill": {
     "duration": 0.045406,
     "end_time": "2025-02-02T16:11:43.208898",
     "exception": false,
     "start_time": "2025-02-02T16:11:43.163492",
     "status": "completed"
    },
    "tags": []
   },
   "outputs": [],
   "source": [
    "lr = LogisticRegression(random_state=42)"
   ]
  },
  {
   "cell_type": "code",
   "execution_count": 72,
   "id": "5955a24f",
   "metadata": {
    "execution": {
     "iopub.execute_input": "2025-02-02T16:11:43.291510Z",
     "iopub.status.busy": "2025-02-02T16:11:43.291059Z",
     "iopub.status.idle": "2025-02-02T16:11:44.937925Z",
     "shell.execute_reply": "2025-02-02T16:11:44.936341Z"
    },
    "papermill": {
     "duration": 1.694861,
     "end_time": "2025-02-02T16:11:44.940079",
     "exception": false,
     "start_time": "2025-02-02T16:11:43.245218",
     "status": "completed"
    },
    "tags": []
   },
   "outputs": [
    {
     "name": "stdout",
     "output_type": "stream",
     "text": [
      "Best Parameters:  {'C': 0.1, 'penalty': 'l2', 'solver': 'lbfgs'}\n"
     ]
    }
   ],
   "source": [
    "logrog_cv = GridSearchCV(lr, parameters, cv=10, scoring='accuracy', n_jobs=-1)\n",
    "logrog_cv.fit(X_train, y_train)\n",
    "print(\"Best Parameters: \", logrog_cv.best_params_)"
   ]
  },
  {
   "cell_type": "code",
   "execution_count": 73,
   "id": "6040aa47",
   "metadata": {
    "execution": {
     "iopub.execute_input": "2025-02-02T16:11:45.017377Z",
     "iopub.status.busy": "2025-02-02T16:11:45.016970Z",
     "iopub.status.idle": "2025-02-02T16:11:45.024380Z",
     "shell.execute_reply": "2025-02-02T16:11:45.023084Z"
    },
    "papermill": {
     "duration": 0.048233,
     "end_time": "2025-02-02T16:11:45.026374",
     "exception": false,
     "start_time": "2025-02-02T16:11:44.978141",
     "status": "completed"
    },
    "tags": []
   },
   "outputs": [
    {
     "name": "stdout",
     "output_type": "stream",
     "text": [
      "Test Accuracy : 0.9444\n"
     ]
    }
   ],
   "source": [
    "accuracy = logrog_cv.score(X_test, y_test)\n",
    "print(f\"Test Accuracy : {accuracy:.4f}\")"
   ]
  },
  {
   "cell_type": "code",
   "execution_count": 74,
   "id": "79191d37",
   "metadata": {
    "execution": {
     "iopub.execute_input": "2025-02-02T16:11:45.098752Z",
     "iopub.status.busy": "2025-02-02T16:11:45.098350Z",
     "iopub.status.idle": "2025-02-02T16:11:45.319701Z",
     "shell.execute_reply": "2025-02-02T16:11:45.318288Z"
    },
    "papermill": {
     "duration": 0.259102,
     "end_time": "2025-02-02T16:11:45.321539",
     "exception": false,
     "start_time": "2025-02-02T16:11:45.062437",
     "status": "completed"
    },
    "tags": []
   },
   "outputs": [
    {
     "data": {
      "image/png": "[encoded data removed]",
      "text/plain": [
       "<Figure size 640x480 with 2 Axes>"
      ]
     },
     "metadata": {},
     "output_type": "display_data"
    }
   ],
   "source": [
    "y_pred = logrog_cv.predict(X_test)\n",
    "plot_confusion_matrix(y_test, y_pred)"
   ]
  },
  {
   "cell_type": "markdown",
   "id": "522b2e55",
   "metadata": {
    "papermill": {
     "duration": 0.036081,
     "end_time": "2025-02-02T16:11:45.393063",
     "exception": false,
     "start_time": "2025-02-02T16:11:45.356982",
     "status": "completed"
    },
    "tags": []
   },
   "source": [
    "### SVM Classifier"
   ]
  },
  {
   "cell_type": "code",
   "execution_count": 75,
   "id": "4f021df6",
   "metadata": {
    "execution": {
     "iopub.execute_input": "2025-02-02T16:11:45.467848Z",
     "iopub.status.busy": "2025-02-02T16:11:45.467381Z",
     "iopub.status.idle": "2025-02-02T16:11:45.473464Z",
     "shell.execute_reply": "2025-02-02T16:11:45.472220Z"
    },
    "papermill": {
     "duration": 0.045658,
     "end_time": "2025-02-02T16:11:45.475280",
     "exception": false,
     "start_time": "2025-02-02T16:11:45.429622",
     "status": "completed"
    },
    "tags": []
   },
   "outputs": [],
   "source": [
    "parameters = {\n",
    "    \"kernel\":('linear','rbf','poly','sigmoid'),\n",
    "    \"C\":np.logspace(-3,3,5),\n",
    "    \"gamma\":np.logspace(-3,3,5)\n",
    "}\n",
    "\n",
    "svm = SVC()"
   ]
  },
  {
   "cell_type": "code",
   "execution_count": 76,
   "id": "16529ace",
   "metadata": {
    "execution": {
     "iopub.execute_input": "2025-02-02T16:11:45.548608Z",
     "iopub.status.busy": "2025-02-02T16:11:45.548140Z",
     "iopub.status.idle": "2025-02-02T16:11:46.490108Z",
     "shell.execute_reply": "2025-02-02T16:11:46.488604Z"
    },
    "papermill": {
     "duration": 0.980726,
     "end_time": "2025-02-02T16:11:46.492187",
     "exception": false,
     "start_time": "2025-02-02T16:11:45.511461",
     "status": "completed"
    },
    "tags": []
   },
   "outputs": [
    {
     "data": {
      "text/html": [
       "<style>#sk-container-id-1 {color: black;background-color: white;}#sk-container-id-1 pre{padding: 0;}#sk-container-id-1 div.sk-toggleable {background-color: white;}#sk-container-id-1 label.sk-toggleable__label {cursor: pointer;display: block;width: 100%;margin-bottom: 0;padding: 0.3em;box-sizing: border-box;text-align: center;}#sk-container-id-1 label.sk-toggleable__label-arrow:before {content: \"▸\";float: left;margin-right: 0.25em;color: #696969;}#sk-container-id-1 label.sk-toggleable__label-arrow:hover:before {color: black;}#sk-container-id-1 div.sk-estimator:hover label.sk-toggleable__label-arrow:before {color: black;}#sk-container-id-1 div.sk-toggleable__content {max-height: 0;max-width: 0;overflow: hidden;text-align: left;background-color: #f0f8ff;}#sk-container-id-1 div.sk-toggleable__content pre {margin: 0.2em;color: black;border-radius: 0.25em;background-color: #f0f8ff;}#sk-container-id-1 input.sk-toggleable__control:checked~div.sk-toggleable__content {max-height: 200px;max-width: 100%;overflow: auto;}#sk-container-id-1 input.sk-toggleable__control:checked~label.sk-toggleable__label-arrow:before {content: \"▾\";}#sk-container-id-1 div.sk-estimator input.sk-toggleable__control:checked~label.sk-toggleable__label {background-color: #d4ebff;}#sk-container-id-1 div.sk-label input.sk-toggleable__control:checked~label.sk-toggleable__label {background-color: #d4ebff;}#sk-container-id-1 input.sk-hidden--visually {border: 0;clip: rect(1px 1px 1px 1px);clip: rect(1px, 1px, 1px, 1px);height: 1px;margin: -1px;overflow: hidden;padding: 0;position: absolute;width: 1px;}#sk-container-id-1 div.sk-estimator {font-family: monospace;background-color: #f0f8ff;border: 1px dotted black;border-radius: 0.25em;box-sizing: border-box;margin-bottom: 0.5em;}#sk-container-id-1 div.sk-estimator:hover {background-color: #d4ebff;}#sk-container-id-1 div.sk-parallel-item::after {content: \"\";width: 100%;border-bottom: 1px solid gray;flex-grow: 1;}#sk-container-id-1 div.sk-label:hover label.sk-toggleable__label {background-color: #d4ebff;}#sk-container-id-1 div.sk-serial::before {content: \"\";position: absolute;border-left: 1px solid gray;box-sizing: border-box;top: 0;bottom: 0;left: 50%;z-index: 0;}#sk-container-id-1 div.sk-serial {display: flex;flex-direction: column;align-items: center;background-color: white;padding-right: 0.2em;padding-left: 0.2em;position: relative;}#sk-container-id-1 div.sk-item {position: relative;z-index: 1;}#sk-container-id-1 div.sk-parallel {display: flex;align-items: stretch;justify-content: center;background-color: white;position: relative;}#sk-container-id-1 div.sk-item::before, #sk-container-id-1 div.sk-parallel-item::before {content: \"\";position: absolute;border-left: 1px solid gray;box-sizing: border-box;top: 0;bottom: 0;left: 50%;z-index: -1;}#sk-container-id-1 div.sk-parallel-item {display: flex;flex-direction: column;z-index: 1;position: relative;background-color: white;}#sk-container-id-1 div.sk-parallel-item:first-child::after {align-self: flex-end;width: 50%;}#sk-container-id-1 div.sk-parallel-item:last-child::after {align-self: flex-start;width: 50%;}#sk-container-id-1 div.sk-parallel-item:only-child::after {width: 0;}#sk-container-id-1 div.sk-dashed-wrapped {border: 1px dashed gray;margin: 0 0.4em 0.5em 0.4em;box-sizing: border-box;padding-bottom: 0.4em;background-color: white;}#sk-container-id-1 div.sk-label label {font-family: monospace;font-weight: bold;display: inline-block;line-height: 1.2em;}#sk-container-id-1 div.sk-label-container {text-align: center;}#sk-container-id-1 div.sk-container {/* jupyter's `normalize.less` sets `[hidden] { display: none; }` but bootstrap.min.css set `[hidden] { display: none !important; }` so we also need the `!important` here to be able to override the default hidden behavior on the sphinx rendered scikit-learn.org. See: https://github.com/scikit-learn/scikit-learn/issues/21755 */display: inline-block !important;position: relative;}#sk-container-id-1 div.sk-text-repr-fallback {display: none;}</style><div id=\"sk-container-id-1\" class=\"sk-top-container\"><div class=\"sk-text-repr-fallback\"><pre>GridSearchCV(cv=10, estimator=SVC(), n_jobs=-1,\n",
       "             param_grid={&#x27;C&#x27;: array([1.00000000e-03, 3.16227766e-02, 1.00000000e+00, 3.16227766e+01,\n",
       "       1.00000000e+03]),\n",
       "                         &#x27;gamma&#x27;: array([1.00000000e-03, 3.16227766e-02, 1.00000000e+00, 3.16227766e+01,\n",
       "       1.00000000e+03]),\n",
       "                         &#x27;kernel&#x27;: (&#x27;linear&#x27;, &#x27;rbf&#x27;, &#x27;poly&#x27;, &#x27;sigmoid&#x27;)},\n",
       "             scoring=&#x27;accuracy&#x27;)</pre><b>In a Jupyter environment, please rerun this cell to show the HTML representation or trust the notebook. <br />On GitHub, the HTML representation is unable to render, please try loading this page with nbviewer.org.</b></div><div class=\"sk-container\" hidden><div class=\"sk-item sk-dashed-wrapped\"><div class=\"sk-label-container\"><div class=\"sk-label sk-toggleable\"><input class=\"sk-toggleable__control sk-hidden--visually\" id=\"sk-estimator-id-1\" type=\"checkbox\" ><label for=\"sk-estimator-id-1\" class=\"sk-toggleable__label sk-toggleable__label-arrow\">GridSearchCV</label><div class=\"sk-toggleable__content\"><pre>GridSearchCV(cv=10, estimator=SVC(), n_jobs=-1,\n",
       "             param_grid={&#x27;C&#x27;: array([1.00000000e-03, 3.16227766e-02, 1.00000000e+00, 3.16227766e+01,\n",
       "       1.00000000e+03]),\n",
       "                         &#x27;gamma&#x27;: array([1.00000000e-03, 3.16227766e-02, 1.00000000e+00, 3.16227766e+01,\n",
       "       1.00000000e+03]),\n",
       "                         &#x27;kernel&#x27;: (&#x27;linear&#x27;, &#x27;rbf&#x27;, &#x27;poly&#x27;, &#x27;sigmoid&#x27;)},\n",
       "             scoring=&#x27;accuracy&#x27;)</pre></div></div></div><div class=\"sk-parallel\"><div class=\"sk-parallel-item\"><div class=\"sk-item\"><div class=\"sk-label-container\"><div class=\"sk-label sk-toggleable\"><input class=\"sk-toggleable__control sk-hidden--visually\" id=\"sk-estimator-id-2\" type=\"checkbox\" ><label for=\"sk-estimator-id-2\" class=\"sk-toggleable__label sk-toggleable__label-arrow\">estimator: SVC</label><div class=\"sk-toggleable__content\"><pre>SVC()</pre></div></div></div><div class=\"sk-serial\"><div class=\"sk-item\"><div class=\"sk-estimator sk-toggleable\"><input class=\"sk-toggleable__control sk-hidden--visually\" id=\"sk-estimator-id-3\" type=\"checkbox\" ><label for=\"sk-estimator-id-3\" class=\"sk-toggleable__label sk-toggleable__label-arrow\">SVC</label><div class=\"sk-toggleable__content\"><pre>SVC()</pre></div></div></div></div></div></div></div></div></div></div>"
      ],
      "text/plain": [
       "GridSearchCV(cv=10, estimator=SVC(), n_jobs=-1,\n",
       "             param_grid={'C': array([1.00000000e-03, 3.16227766e-02, 1.00000000e+00, 3.16227766e+01,\n",
       "       1.00000000e+03]),\n",
       "                         'gamma': array([1.00000000e-03, 3.16227766e-02, 1.00000000e+00, 3.16227766e+01,\n",
       "       1.00000000e+03]),\n",
       "                         'kernel': ('linear', 'rbf', 'poly', 'sigmoid')},\n",
       "             scoring='accuracy')"
      ]
     },
     "execution_count": 76,
     "metadata": {},
     "output_type": "execute_result"
    }
   ],
   "source": [
    "svm_cv = GridSearchCV(svm, parameters, cv=10, scoring= \"accuracy\", n_jobs=-1)\n",
    "svm_cv.fit(X_train,y_train)"
   ]
  },
  {
   "cell_type": "code",
   "execution_count": 77,
   "id": "d0bf8e1a",
   "metadata": {
    "execution": {
     "iopub.execute_input": "2025-02-02T16:11:46.564964Z",
     "iopub.status.busy": "2025-02-02T16:11:46.564610Z",
     "iopub.status.idle": "2025-02-02T16:11:46.570877Z",
     "shell.execute_reply": "2025-02-02T16:11:46.569653Z"
    },
    "papermill": {
     "duration": 0.044939,
     "end_time": "2025-02-02T16:11:46.572834",
     "exception": false,
     "start_time": "2025-02-02T16:11:46.527895",
     "status": "completed"
    },
    "tags": []
   },
   "outputs": [
    {
     "name": "stdout",
     "output_type": "stream",
     "text": [
      "Best Parameter :  {'C': 1.0, 'gamma': 0.03162277660168379, 'kernel': 'sigmoid'}\n"
     ]
    }
   ],
   "source": [
    "print(\"Best Parameter : \", svm_cv.best_params_)"
   ]
  },
  {
   "cell_type": "code",
   "execution_count": 78,
   "id": "c1f85003",
   "metadata": {
    "execution": {
     "iopub.execute_input": "2025-02-02T16:11:46.650168Z",
     "iopub.status.busy": "2025-02-02T16:11:46.649798Z",
     "iopub.status.idle": "2025-02-02T16:11:46.655875Z",
     "shell.execute_reply": "2025-02-02T16:11:46.654411Z"
    },
    "papermill": {
     "duration": 0.046786,
     "end_time": "2025-02-02T16:11:46.657810",
     "exception": false,
     "start_time": "2025-02-02T16:11:46.611024",
     "status": "completed"
    },
    "tags": []
   },
   "outputs": [
    {
     "name": "stdout",
     "output_type": "stream",
     "text": [
      "accuracy : 0.8966666666666668\n"
     ]
    }
   ],
   "source": [
    "print(\"accuracy :\",svm_cv.best_score_)"
   ]
  },
  {
   "cell_type": "code",
   "execution_count": 79,
   "id": "8c3ed99f",
   "metadata": {
    "execution": {
     "iopub.execute_input": "2025-02-02T16:11:46.735241Z",
     "iopub.status.busy": "2025-02-02T16:11:46.734893Z",
     "iopub.status.idle": "2025-02-02T16:11:46.742028Z",
     "shell.execute_reply": "2025-02-02T16:11:46.740749Z"
    },
    "papermill": {
     "duration": 0.047689,
     "end_time": "2025-02-02T16:11:46.743850",
     "exception": false,
     "start_time": "2025-02-02T16:11:46.696161",
     "status": "completed"
    },
    "tags": []
   },
   "outputs": [
    {
     "name": "stdout",
     "output_type": "stream",
     "text": [
      "Test Accuracy : 0.8333\n"
     ]
    }
   ],
   "source": [
    "accuracy = svm_cv.score(X_test, y_test)\n",
    "print(f\"Test Accuracy : {accuracy:.4f}\")"
   ]
  },
  {
   "cell_type": "code",
   "execution_count": 80,
   "id": "06e62664",
   "metadata": {
    "execution": {
     "iopub.execute_input": "2025-02-02T16:11:46.819095Z",
     "iopub.status.busy": "2025-02-02T16:11:46.818748Z",
     "iopub.status.idle": "2025-02-02T16:11:47.019826Z",
     "shell.execute_reply": "2025-02-02T16:11:47.018408Z"
    },
    "papermill": {
     "duration": 0.241703,
     "end_time": "2025-02-02T16:11:47.021820",
     "exception": false,
     "start_time": "2025-02-02T16:11:46.780117",
     "status": "completed"
    },
    "tags": []
   },
   "outputs": [
    {
     "data": {
      "image/png": "[encoded data removed]",
      "text/plain": [
       "<Figure size 640x480 with 2 Axes>"
      ]
     },
     "metadata": {},
     "output_type": "display_data"
    }
   ],
   "source": [
    "y_pred=svm_cv.predict(X_test)\n",
    "plot_confusion_matrix(y_test,y_pred)"
   ]
  },
  {
   "cell_type": "markdown",
   "id": "8af185c8",
   "metadata": {
    "papermill": {
     "duration": 0.039478,
     "end_time": "2025-02-02T16:11:47.099802",
     "exception": false,
     "start_time": "2025-02-02T16:11:47.060324",
     "status": "completed"
    },
    "tags": []
   },
   "source": [
    "### Decision Tree Classifier"
   ]
  },
  {
   "cell_type": "code",
   "execution_count": 81,
   "id": "f8dd7052",
   "metadata": {
    "execution": {
     "iopub.execute_input": "2025-02-02T16:11:47.179196Z",
     "iopub.status.busy": "2025-02-02T16:11:47.178843Z",
     "iopub.status.idle": "2025-02-02T16:11:47.184339Z",
     "shell.execute_reply": "2025-02-02T16:11:47.183199Z"
    },
    "papermill": {
     "duration": 0.046915,
     "end_time": "2025-02-02T16:11:47.186149",
     "exception": false,
     "start_time": "2025-02-02T16:11:47.139234",
     "status": "completed"
    },
    "tags": []
   },
   "outputs": [],
   "source": [
    "parameters = {\n",
    "    'criterion':['gini', 'entropy'],\n",
    "    'splitter':['best','random'],\n",
    "    'max_depth':[2*n for n in range(1,10)],\n",
    "    'max_features':['auto', 'sqrt'],\n",
    "    'min_samples_leaf':[1,2,4],\n",
    "    'min_samples_split':[2,5,10]\n",
    "}\n",
    "\n",
    "tree = DecisionTreeClassifier()"
   ]
  },
  {
   "cell_type": "code",
   "execution_count": 82,
   "id": "29b9219f",
   "metadata": {
    "execution": {
     "iopub.execute_input": "2025-02-02T16:11:47.265998Z",
     "iopub.status.busy": "2025-02-02T16:11:47.265643Z",
     "iopub.status.idle": "2025-02-02T16:11:52.122810Z",
     "shell.execute_reply": "2025-02-02T16:11:52.121292Z"
    },
    "papermill": {
     "duration": 4.899183,
     "end_time": "2025-02-02T16:11:52.124687",
     "exception": false,
     "start_time": "2025-02-02T16:11:47.225504",
     "status": "completed"
    },
    "tags": []
   },
   "outputs": [
    {
     "name": "stderr",
     "output_type": "stream",
     "text": [
      "/usr/local/lib/python3.10/dist-packages/sklearn/tree/_classes.py:269: FutureWarning: `max_features='auto'` has been deprecated in 1.1 and will be removed in 1.3. To keep the past behaviour, explicitly set `max_features='sqrt'`.\n",
      "  warnings.warn(\n"
     ]
    },
    {
     "data": {
      "text/html": [
       "<style>#sk-container-id-2 {color: black;background-color: white;}#sk-container-id-2 pre{padding: 0;}#sk-container-id-2 div.sk-toggleable {background-color: white;}#sk-container-id-2 label.sk-toggleable__label {cursor: pointer;display: block;width: 100%;margin-bottom: 0;padding: 0.3em;box-sizing: border-box;text-align: center;}#sk-container-id-2 label.sk-toggleable__label-arrow:before {content: \"▸\";float: left;margin-right: 0.25em;color: #696969;}#sk-container-id-2 label.sk-toggleable__label-arrow:hover:before {color: black;}#sk-container-id-2 div.sk-estimator:hover label.sk-toggleable__label-arrow:before {color: black;}#sk-container-id-2 div.sk-toggleable__content {max-height: 0;max-width: 0;overflow: hidden;text-align: left;background-color: #f0f8ff;}#sk-container-id-2 div.sk-toggleable__content pre {margin: 0.2em;color: black;border-radius: 0.25em;background-color: #f0f8ff;}#sk-container-id-2 input.sk-toggleable__control:checked~div.sk-toggleable__content {max-height: 200px;max-width: 100%;overflow: auto;}#sk-container-id-2 input.sk-toggleable__control:checked~label.sk-toggleable__label-arrow:before {content: \"▾\";}#sk-container-id-2 div.sk-estimator input.sk-toggleable__control:checked~label.sk-toggleable__label {background-color: #d4ebff;}#sk-container-id-2 div.sk-label input.sk-toggleable__control:checked~label.sk-toggleable__label {background-color: #d4ebff;}#sk-container-id-2 input.sk-hidden--visually {border: 0;clip: rect(1px 1px 1px 1px);clip: rect(1px, 1px, 1px, 1px);height: 1px;margin: -1px;overflow: hidden;padding: 0;position: absolute;width: 1px;}#sk-container-id-2 div.sk-estimator {font-family: monospace;background-color: #f0f8ff;border: 1px dotted black;border-radius: 0.25em;box-sizing: border-box;margin-bottom: 0.5em;}#sk-container-id-2 div.sk-estimator:hover {background-color: #d4ebff;}#sk-container-id-2 div.sk-parallel-item::after {content: \"\";width: 100%;border-bottom: 1px solid gray;flex-grow: 1;}#sk-container-id-2 div.sk-label:hover label.sk-toggleable__label {background-color: #d4ebff;}#sk-container-id-2 div.sk-serial::before {content: \"\";position: absolute;border-left: 1px solid gray;box-sizing: border-box;top: 0;bottom: 0;left: 50%;z-index: 0;}#sk-container-id-2 div.sk-serial {display: flex;flex-direction: column;align-items: center;background-color: white;padding-right: 0.2em;padding-left: 0.2em;position: relative;}#sk-container-id-2 div.sk-item {position: relative;z-index: 1;}#sk-container-id-2 div.sk-parallel {display: flex;align-items: stretch;justify-content: center;background-color: white;position: relative;}#sk-container-id-2 div.sk-item::before, #sk-container-id-2 div.sk-parallel-item::before {content: \"\";position: absolute;border-left: 1px solid gray;box-sizing: border-box;top: 0;bottom: 0;left: 50%;z-index: -1;}#sk-container-id-2 div.sk-parallel-item {display: flex;flex-direction: column;z-index: 1;position: relative;background-color: white;}#sk-container-id-2 div.sk-parallel-item:first-child::after {align-self: flex-end;width: 50%;}#sk-container-id-2 div.sk-parallel-item:last-child::after {align-self: flex-start;width: 50%;}#sk-container-id-2 div.sk-parallel-item:only-child::after {width: 0;}#sk-container-id-2 div.sk-dashed-wrapped {border: 1px dashed gray;margin: 0 0.4em 0.5em 0.4em;box-sizing: border-box;padding-bottom: 0.4em;background-color: white;}#sk-container-id-2 div.sk-label label {font-family: monospace;font-weight: bold;display: inline-block;line-height: 1.2em;}#sk-container-id-2 div.sk-label-container {text-align: center;}#sk-container-id-2 div.sk-container {/* jupyter's `normalize.less` sets `[hidden] { display: none; }` but bootstrap.min.css set `[hidden] { display: none !important; }` so we also need the `!important` here to be able to override the default hidden behavior on the sphinx rendered scikit-learn.org. See: https://github.com/scikit-learn/scikit-learn/issues/21755 */display: inline-block !important;position: relative;}#sk-container-id-2 div.sk-text-repr-fallback {display: none;}</style><div id=\"sk-container-id-2\" class=\"sk-top-container\"><div class=\"sk-text-repr-fallback\"><pre>GridSearchCV(cv=10, estimator=DecisionTreeClassifier(), n_jobs=-1,\n",
       "             param_grid={&#x27;criterion&#x27;: [&#x27;gini&#x27;, &#x27;entropy&#x27;],\n",
       "                         &#x27;max_depth&#x27;: [2, 4, 6, 8, 10, 12, 14, 16, 18],\n",
       "                         &#x27;max_features&#x27;: [&#x27;auto&#x27;, &#x27;sqrt&#x27;],\n",
       "                         &#x27;min_samples_leaf&#x27;: [1, 2, 4],\n",
       "                         &#x27;min_samples_split&#x27;: [2, 5, 10],\n",
       "                         &#x27;splitter&#x27;: [&#x27;best&#x27;, &#x27;random&#x27;]},\n",
       "             scoring=&#x27;accuracy&#x27;)</pre><b>In a Jupyter environment, please rerun this cell to show the HTML representation or trust the notebook. <br />On GitHub, the HTML representation is unable to render, please try loading this page with nbviewer.org.</b></div><div class=\"sk-container\" hidden><div class=\"sk-item sk-dashed-wrapped\"><div class=\"sk-label-container\"><div class=\"sk-label sk-toggleable\"><input class=\"sk-toggleable__control sk-hidden--visually\" id=\"sk-estimator-id-4\" type=\"checkbox\" ><label for=\"sk-estimator-id-4\" class=\"sk-toggleable__label sk-toggleable__label-arrow\">GridSearchCV</label><div class=\"sk-toggleable__content\"><pre>GridSearchCV(cv=10, estimator=DecisionTreeClassifier(), n_jobs=-1,\n",
       "             param_grid={&#x27;criterion&#x27;: [&#x27;gini&#x27;, &#x27;entropy&#x27;],\n",
       "                         &#x27;max_depth&#x27;: [2, 4, 6, 8, 10, 12, 14, 16, 18],\n",
       "                         &#x27;max_features&#x27;: [&#x27;auto&#x27;, &#x27;sqrt&#x27;],\n",
       "                         &#x27;min_samples_leaf&#x27;: [1, 2, 4],\n",
       "                         &#x27;min_samples_split&#x27;: [2, 5, 10],\n",
       "                         &#x27;splitter&#x27;: [&#x27;best&#x27;, &#x27;random&#x27;]},\n",
       "             scoring=&#x27;accuracy&#x27;)</pre></div></div></div><div class=\"sk-parallel\"><div class=\"sk-parallel-item\"><div class=\"sk-item\"><div class=\"sk-label-container\"><div class=\"sk-label sk-toggleable\"><input class=\"sk-toggleable__control sk-hidden--visually\" id=\"sk-estimator-id-5\" type=\"checkbox\" ><label for=\"sk-estimator-id-5\" class=\"sk-toggleable__label sk-toggleable__label-arrow\">estimator: DecisionTreeClassifier</label><div class=\"sk-toggleable__content\"><pre>DecisionTreeClassifier()</pre></div></div></div><div class=\"sk-serial\"><div class=\"sk-item\"><div class=\"sk-estimator sk-toggleable\"><input class=\"sk-toggleable__control sk-hidden--visually\" id=\"sk-estimator-id-6\" type=\"checkbox\" ><label for=\"sk-estimator-id-6\" class=\"sk-toggleable__label sk-toggleable__label-arrow\">DecisionTreeClassifier</label><div class=\"sk-toggleable__content\"><pre>DecisionTreeClassifier()</pre></div></div></div></div></div></div></div></div></div></div>"
      ],
      "text/plain": [
       "GridSearchCV(cv=10, estimator=DecisionTreeClassifier(), n_jobs=-1,\n",
       "             param_grid={'criterion': ['gini', 'entropy'],\n",
       "                         'max_depth': [2, 4, 6, 8, 10, 12, 14, 16, 18],\n",
       "                         'max_features': ['auto', 'sqrt'],\n",
       "                         'min_samples_leaf': [1, 2, 4],\n",
       "                         'min_samples_split': [2, 5, 10],\n",
       "                         'splitter': ['best', 'random']},\n",
       "             scoring='accuracy')"
      ]
     },
     "execution_count": 82,
     "metadata": {},
     "output_type": "execute_result"
    }
   ],
   "source": [
    "decision_cv = GridSearchCV(tree, parameters, cv=10, scoring=\"accuracy\", n_jobs=-1)\n",
    "decision_cv.fit(X_train, y_train)"
   ]
  },
  {
   "cell_type": "code",
   "execution_count": 83,
   "id": "0904f91e",
   "metadata": {
    "execution": {
     "iopub.execute_input": "2025-02-02T16:11:52.220904Z",
     "iopub.status.busy": "2025-02-02T16:11:52.220514Z",
     "iopub.status.idle": "2025-02-02T16:11:52.227639Z",
     "shell.execute_reply": "2025-02-02T16:11:52.226250Z"
    },
    "papermill": {
     "duration": 0.064286,
     "end_time": "2025-02-02T16:11:52.229149",
     "exception": false,
     "start_time": "2025-02-02T16:11:52.164863",
     "status": "completed"
    },
    "tags": []
   },
   "outputs": [
    {
     "name": "stdout",
     "output_type": "stream",
     "text": [
      "Best Parameter :  {'criterion': 'entropy', 'max_depth': 12, 'max_features': 'auto', 'min_samples_leaf': 2, 'min_samples_split': 10, 'splitter': 'best'}\n"
     ]
    }
   ],
   "source": [
    "print(\"Best Parameter : \", decision_cv.best_params_)"
   ]
  },
  {
   "cell_type": "code",
   "execution_count": 84,
   "id": "7b3056ff",
   "metadata": {
    "execution": {
     "iopub.execute_input": "2025-02-02T16:11:52.304822Z",
     "iopub.status.busy": "2025-02-02T16:11:52.304395Z",
     "iopub.status.idle": "2025-02-02T16:11:52.310238Z",
     "shell.execute_reply": "2025-02-02T16:11:52.308445Z"
    },
    "papermill": {
     "duration": 0.046689,
     "end_time": "2025-02-02T16:11:52.312882",
     "exception": false,
     "start_time": "2025-02-02T16:11:52.266193",
     "status": "completed"
    },
    "tags": []
   },
   "outputs": [
    {
     "name": "stdout",
     "output_type": "stream",
     "text": [
      "Best Accuracy :  0.95\n"
     ]
    }
   ],
   "source": [
    "print(\"Best Accuracy : \", decision_cv.best_score_)"
   ]
  },
  {
   "cell_type": "code",
   "execution_count": 85,
   "id": "192c1662",
   "metadata": {
    "execution": {
     "iopub.execute_input": "2025-02-02T16:11:52.419814Z",
     "iopub.status.busy": "2025-02-02T16:11:52.419385Z",
     "iopub.status.idle": "2025-02-02T16:11:52.428254Z",
     "shell.execute_reply": "2025-02-02T16:11:52.426396Z"
    },
    "papermill": {
     "duration": 0.064307,
     "end_time": "2025-02-02T16:11:52.430578",
     "exception": false,
     "start_time": "2025-02-02T16:11:52.366271",
     "status": "completed"
    },
    "tags": []
   },
   "outputs": [
    {
     "name": "stdout",
     "output_type": "stream",
     "text": [
      "Test Accuracy : 0.7778\n"
     ]
    }
   ],
   "source": [
    "accuracy = decision_cv.score(X_test, y_test)\n",
    "print(f\"Test Accuracy : {accuracy:.4f}\")"
   ]
  },
  {
   "cell_type": "code",
   "execution_count": 86,
   "id": "50193931",
   "metadata": {
    "execution": {
     "iopub.execute_input": "2025-02-02T16:11:52.544916Z",
     "iopub.status.busy": "2025-02-02T16:11:52.544474Z",
     "iopub.status.idle": "2025-02-02T16:11:52.794369Z",
     "shell.execute_reply": "2025-02-02T16:11:52.793115Z"
    },
    "papermill": {
     "duration": 0.308847,
     "end_time": "2025-02-02T16:11:52.796577",
     "exception": false,
     "start_time": "2025-02-02T16:11:52.487730",
     "status": "completed"
    },
    "tags": []
   },
   "outputs": [
    {
     "data": {
      "image/png": "[encoded data removed]",
      "text/plain": [
       "<Figure size 640x480 with 2 Axes>"
      ]
     },
     "metadata": {},
     "output_type": "display_data"
    }
   ],
   "source": [
    "y_pred = decision_cv.predict(X_test)\n",
    "plot_confusion_matrix(y_test,y_pred)"
   ]
  },
  {
   "cell_type": "markdown",
   "id": "3864aa3e",
   "metadata": {
    "papermill": {
     "duration": 0.042313,
     "end_time": "2025-02-02T16:11:52.879462",
     "exception": false,
     "start_time": "2025-02-02T16:11:52.837149",
     "status": "completed"
    },
    "tags": []
   },
   "source": [
    "### KNN Classifier"
   ]
  },
  {
   "cell_type": "code",
   "execution_count": 87,
   "id": "c641793d",
   "metadata": {
    "execution": {
     "iopub.execute_input": "2025-02-02T16:11:52.971530Z",
     "iopub.status.busy": "2025-02-02T16:11:52.971073Z",
     "iopub.status.idle": "2025-02-02T16:11:52.976929Z",
     "shell.execute_reply": "2025-02-02T16:11:52.975551Z"
    },
    "papermill": {
     "duration": 0.051667,
     "end_time": "2025-02-02T16:11:52.978854",
     "exception": false,
     "start_time": "2025-02-02T16:11:52.927187",
     "status": "completed"
    },
    "tags": []
   },
   "outputs": [],
   "source": [
    "parameters = {\n",
    "    'n_neighbors':[1,2,3,4,5,6,7,8,9,10],\n",
    "    'algorithm':['auto','ball_tree','kd_tree','brute'],\n",
    "    'p':[1,2]\n",
    "}\n",
    "\n",
    "KNN = KNeighborsClassifier()"
   ]
  },
  {
   "cell_type": "code",
   "execution_count": 88,
   "id": "283df17c",
   "metadata": {
    "execution": {
     "iopub.execute_input": "2025-02-02T16:11:53.059656Z",
     "iopub.status.busy": "2025-02-02T16:11:53.059189Z",
     "iopub.status.idle": "2025-02-02T16:11:54.124357Z",
     "shell.execute_reply": "2025-02-02T16:11:54.123003Z"
    },
    "papermill": {
     "duration": 1.108763,
     "end_time": "2025-02-02T16:11:54.126376",
     "exception": false,
     "start_time": "2025-02-02T16:11:53.017613",
     "status": "completed"
    },
    "tags": []
   },
   "outputs": [
    {
     "data": {
      "text/html": [
       "<style>#sk-container-id-3 {color: black;background-color: white;}#sk-container-id-3 pre{padding: 0;}#sk-container-id-3 div.sk-toggleable {background-color: white;}#sk-container-id-3 label.sk-toggleable__label {cursor: pointer;display: block;width: 100%;margin-bottom: 0;padding: 0.3em;box-sizing: border-box;text-align: center;}#sk-container-id-3 label.sk-toggleable__label-arrow:before {content: \"▸\";float: left;margin-right: 0.25em;color: #696969;}#sk-container-id-3 label.sk-toggleable__label-arrow:hover:before {color: black;}#sk-container-id-3 div.sk-estimator:hover label.sk-toggleable__label-arrow:before {color: black;}#sk-container-id-3 div.sk-toggleable__content {max-height: 0;max-width: 0;overflow: hidden;text-align: left;background-color: #f0f8ff;}#sk-container-id-3 div.sk-toggleable__content pre {margin: 0.2em;color: black;border-radius: 0.25em;background-color: #f0f8ff;}#sk-container-id-3 input.sk-toggleable__control:checked~div.sk-toggleable__content {max-height: 200px;max-width: 100%;overflow: auto;}#sk-container-id-3 input.sk-toggleable__control:checked~label.sk-toggleable__label-arrow:before {content: \"▾\";}#sk-container-id-3 div.sk-estimator input.sk-toggleable__control:checked~label.sk-toggleable__label {background-color: #d4ebff;}#sk-container-id-3 div.sk-label input.sk-toggleable__control:checked~label.sk-toggleable__label {background-color: #d4ebff;}#sk-container-id-3 input.sk-hidden--visually {border: 0;clip: rect(1px 1px 1px 1px);clip: rect(1px, 1px, 1px, 1px);height: 1px;margin: -1px;overflow: hidden;padding: 0;position: absolute;width: 1px;}#sk-container-id-3 div.sk-estimator {font-family: monospace;background-color: #f0f8ff;border: 1px dotted black;border-radius: 0.25em;box-sizing: border-box;margin-bottom: 0.5em;}#sk-container-id-3 div.sk-estimator:hover {background-color: #d4ebff;}#sk-container-id-3 div.sk-parallel-item::after {content: \"\";width: 100%;border-bottom: 1px solid gray;flex-grow: 1;}#sk-container-id-3 div.sk-label:hover label.sk-toggleable__label {background-color: #d4ebff;}#sk-container-id-3 div.sk-serial::before {content: \"\";position: absolute;border-left: 1px solid gray;box-sizing: border-box;top: 0;bottom: 0;left: 50%;z-index: 0;}#sk-container-id-3 div.sk-serial {display: flex;flex-direction: column;align-items: center;background-color: white;padding-right: 0.2em;padding-left: 0.2em;position: relative;}#sk-container-id-3 div.sk-item {position: relative;z-index: 1;}#sk-container-id-3 div.sk-parallel {display: flex;align-items: stretch;justify-content: center;background-color: white;position: relative;}#sk-container-id-3 div.sk-item::before, #sk-container-id-3 div.sk-parallel-item::before {content: \"\";position: absolute;border-left: 1px solid gray;box-sizing: border-box;top: 0;bottom: 0;left: 50%;z-index: -1;}#sk-container-id-3 div.sk-parallel-item {display: flex;flex-direction: column;z-index: 1;position: relative;background-color: white;}#sk-container-id-3 div.sk-parallel-item:first-child::after {align-self: flex-end;width: 50%;}#sk-container-id-3 div.sk-parallel-item:last-child::after {align-self: flex-start;width: 50%;}#sk-container-id-3 div.sk-parallel-item:only-child::after {width: 0;}#sk-container-id-3 div.sk-dashed-wrapped {border: 1px dashed gray;margin: 0 0.4em 0.5em 0.4em;box-sizing: border-box;padding-bottom: 0.4em;background-color: white;}#sk-container-id-3 div.sk-label label {font-family: monospace;font-weight: bold;display: inline-block;line-height: 1.2em;}#sk-container-id-3 div.sk-label-container {text-align: center;}#sk-container-id-3 div.sk-container {/* jupyter's `normalize.less` sets `[hidden] { display: none; }` but bootstrap.min.css set `[hidden] { display: none !important; }` so we also need the `!important` here to be able to override the default hidden behavior on the sphinx rendered scikit-learn.org. See: https://github.com/scikit-learn/scikit-learn/issues/21755 */display: inline-block !important;position: relative;}#sk-container-id-3 div.sk-text-repr-fallback {display: none;}</style><div id=\"sk-container-id-3\" class=\"sk-top-container\"><div class=\"sk-text-repr-fallback\"><pre>GridSearchCV(cv=10, estimator=KNeighborsClassifier(), n_jobs=-1,\n",
       "             param_grid={&#x27;algorithm&#x27;: [&#x27;auto&#x27;, &#x27;ball_tree&#x27;, &#x27;kd_tree&#x27;, &#x27;brute&#x27;],\n",
       "                         &#x27;n_neighbors&#x27;: [1, 2, 3, 4, 5, 6, 7, 8, 9, 10],\n",
       "                         &#x27;p&#x27;: [1, 2]},\n",
       "             scoring=&#x27;accuracy&#x27;)</pre><b>In a Jupyter environment, please rerun this cell to show the HTML representation or trust the notebook. <br />On GitHub, the HTML representation is unable to render, please try loading this page with nbviewer.org.</b></div><div class=\"sk-container\" hidden><div class=\"sk-item sk-dashed-wrapped\"><div class=\"sk-label-container\"><div class=\"sk-label sk-toggleable\"><input class=\"sk-toggleable__control sk-hidden--visually\" id=\"sk-estimator-id-7\" type=\"checkbox\" ><label for=\"sk-estimator-id-7\" class=\"sk-toggleable__label sk-toggleable__label-arrow\">GridSearchCV</label><div class=\"sk-toggleable__content\"><pre>GridSearchCV(cv=10, estimator=KNeighborsClassifier(), n_jobs=-1,\n",
       "             param_grid={&#x27;algorithm&#x27;: [&#x27;auto&#x27;, &#x27;ball_tree&#x27;, &#x27;kd_tree&#x27;, &#x27;brute&#x27;],\n",
       "                         &#x27;n_neighbors&#x27;: [1, 2, 3, 4, 5, 6, 7, 8, 9, 10],\n",
       "                         &#x27;p&#x27;: [1, 2]},\n",
       "             scoring=&#x27;accuracy&#x27;)</pre></div></div></div><div class=\"sk-parallel\"><div class=\"sk-parallel-item\"><div class=\"sk-item\"><div class=\"sk-label-container\"><div class=\"sk-label sk-toggleable\"><input class=\"sk-toggleable__control sk-hidden--visually\" id=\"sk-estimator-id-8\" type=\"checkbox\" ><label for=\"sk-estimator-id-8\" class=\"sk-toggleable__label sk-toggleable__label-arrow\">estimator: KNeighborsClassifier</label><div class=\"sk-toggleable__content\"><pre>KNeighborsClassifier()</pre></div></div></div><div class=\"sk-serial\"><div class=\"sk-item\"><div class=\"sk-estimator sk-toggleable\"><input class=\"sk-toggleable__control sk-hidden--visually\" id=\"sk-estimator-id-9\" type=\"checkbox\" ><label for=\"sk-estimator-id-9\" class=\"sk-toggleable__label sk-toggleable__label-arrow\">KNeighborsClassifier</label><div class=\"sk-toggleable__content\"><pre>KNeighborsClassifier()</pre></div></div></div></div></div></div></div></div></div></div>"
      ],
      "text/plain": [
       "GridSearchCV(cv=10, estimator=KNeighborsClassifier(), n_jobs=-1,\n",
       "             param_grid={'algorithm': ['auto', 'ball_tree', 'kd_tree', 'brute'],\n",
       "                         'n_neighbors': [1, 2, 3, 4, 5, 6, 7, 8, 9, 10],\n",
       "                         'p': [1, 2]},\n",
       "             scoring='accuracy')"
      ]
     },
     "execution_count": 88,
     "metadata": {},
     "output_type": "execute_result"
    }
   ],
   "source": [
    "knn_cv = GridSearchCV(KNN, parameters, cv=10, scoring=\"accuracy\",n_jobs=-1)\n",
    "knn_cv.fit(X_train, y_train)"
   ]
  },
  {
   "cell_type": "code",
   "execution_count": 89,
   "id": "78194a84",
   "metadata": {
    "execution": {
     "iopub.execute_input": "2025-02-02T16:11:54.212252Z",
     "iopub.status.busy": "2025-02-02T16:11:54.211888Z",
     "iopub.status.idle": "2025-02-02T16:11:54.218289Z",
     "shell.execute_reply": "2025-02-02T16:11:54.216533Z"
    },
    "papermill": {
     "duration": 0.051239,
     "end_time": "2025-02-02T16:11:54.220943",
     "exception": false,
     "start_time": "2025-02-02T16:11:54.169704",
     "status": "completed"
    },
    "tags": []
   },
   "outputs": [
    {
     "name": "stdout",
     "output_type": "stream",
     "text": [
      "tuned hpyerparameters :(best parameters)  {'algorithm': 'auto', 'n_neighbors': 2, 'p': 1}\n",
      "accuracy : 0.8633333333333335\n"
     ]
    }
   ],
   "source": [
    "print(\"tuned hpyerparameters :(best parameters) \",knn_cv.best_params_)\n",
    "print(\"accuracy :\",knn_cv.best_score_)"
   ]
  },
  {
   "cell_type": "code",
   "execution_count": 90,
   "id": "1c268364",
   "metadata": {
    "execution": {
     "iopub.execute_input": "2025-02-02T16:11:54.305066Z",
     "iopub.status.busy": "2025-02-02T16:11:54.304684Z",
     "iopub.status.idle": "2025-02-02T16:11:54.391655Z",
     "shell.execute_reply": "2025-02-02T16:11:54.390489Z"
    },
    "papermill": {
     "duration": 0.134955,
     "end_time": "2025-02-02T16:11:54.396919",
     "exception": false,
     "start_time": "2025-02-02T16:11:54.261964",
     "status": "completed"
    },
    "tags": []
   },
   "outputs": [
    {
     "name": "stdout",
     "output_type": "stream",
     "text": [
      "Test Accuracy : 0.7222\n"
     ]
    }
   ],
   "source": [
    "accuracy = knn_cv.score(X_test, y_test)\n",
    "print(f\"Test Accuracy : {accuracy:.4f}\")"
   ]
  },
  {
   "cell_type": "code",
   "execution_count": 91,
   "id": "330acdf2",
   "metadata": {
    "execution": {
     "iopub.execute_input": "2025-02-02T16:11:54.505263Z",
     "iopub.status.busy": "2025-02-02T16:11:54.504897Z",
     "iopub.status.idle": "2025-02-02T16:11:54.735879Z",
     "shell.execute_reply": "2025-02-02T16:11:54.734456Z"
    },
    "papermill": {
     "duration": 0.271778,
     "end_time": "2025-02-02T16:11:54.738020",
     "exception": false,
     "start_time": "2025-02-02T16:11:54.466242",
     "status": "completed"
    },
    "tags": []
   },
   "outputs": [
    {
     "data": {
      "image/png": "[encoded data removed]",
      "text/plain": [
       "<Figure size 640x480 with 2 Axes>"
      ]
     },
     "metadata": {},
     "output_type": "display_data"
    }
   ],
   "source": [
    "y_pred = knn_cv.predict(X_test)\n",
    "plot_confusion_matrix(y_test,y_pred)"
   ]
  },
  {
   "cell_type": "markdown",
   "id": "ca7e9b94",
   "metadata": {
    "papermill": {
     "duration": 0.039938,
     "end_time": "2025-02-02T16:11:54.817867",
     "exception": false,
     "start_time": "2025-02-02T16:11:54.777929",
     "status": "completed"
    },
    "tags": []
   },
   "source": [
    "### Random Forest Classifier"
   ]
  },
  {
   "cell_type": "code",
   "execution_count": 92,
   "id": "de650603",
   "metadata": {
    "execution": {
     "iopub.execute_input": "2025-02-02T16:11:54.897560Z",
     "iopub.status.busy": "2025-02-02T16:11:54.897090Z",
     "iopub.status.idle": "2025-02-02T16:11:55.046065Z",
     "shell.execute_reply": "2025-02-02T16:11:55.044770Z"
    },
    "papermill": {
     "duration": 0.190928,
     "end_time": "2025-02-02T16:11:55.048241",
     "exception": false,
     "start_time": "2025-02-02T16:11:54.857313",
     "status": "completed"
    },
    "tags": []
   },
   "outputs": [],
   "source": [
    "from sklearn.ensemble import RandomForestClassifier\n",
    "\n",
    "parameters = {\n",
    "    'n_estimators': [50, 100, 200],\n",
    "    'max_depth': [None, 10, 20],\n",
    "    'min_samples_split': [2, 5, 19]  # Fixed parameter name\n",
    "}\n",
    "\n",
    "rf = RandomForestClassifier(random_state=42)\n"
   ]
  },
  {
   "cell_type": "code",
   "execution_count": 93,
   "id": "f92d22b7",
   "metadata": {
    "execution": {
     "iopub.execute_input": "2025-02-02T16:11:55.127582Z",
     "iopub.status.busy": "2025-02-02T16:11:55.127100Z",
     "iopub.status.idle": "2025-02-02T16:12:17.149094Z",
     "shell.execute_reply": "2025-02-02T16:12:17.147651Z"
    },
    "papermill": {
     "duration": 22.06444,
     "end_time": "2025-02-02T16:12:17.151353",
     "exception": false,
     "start_time": "2025-02-02T16:11:55.086913",
     "status": "completed"
    },
    "tags": []
   },
   "outputs": [
    {
     "data": {
      "text/html": [
       "<style>#sk-container-id-4 {color: black;background-color: white;}#sk-container-id-4 pre{padding: 0;}#sk-container-id-4 div.sk-toggleable {background-color: white;}#sk-container-id-4 label.sk-toggleable__label {cursor: pointer;display: block;width: 100%;margin-bottom: 0;padding: 0.3em;box-sizing: border-box;text-align: center;}#sk-container-id-4 label.sk-toggleable__label-arrow:before {content: \"▸\";float: left;margin-right: 0.25em;color: #696969;}#sk-container-id-4 label.sk-toggleable__label-arrow:hover:before {color: black;}#sk-container-id-4 div.sk-estimator:hover label.sk-toggleable__label-arrow:before {color: black;}#sk-container-id-4 div.sk-toggleable__content {max-height: 0;max-width: 0;overflow: hidden;text-align: left;background-color: #f0f8ff;}#sk-container-id-4 div.sk-toggleable__content pre {margin: 0.2em;color: black;border-radius: 0.25em;background-color: #f0f8ff;}#sk-container-id-4 input.sk-toggleable__control:checked~div.sk-toggleable__content {max-height: 200px;max-width: 100%;overflow: auto;}#sk-container-id-4 input.sk-toggleable__control:checked~label.sk-toggleable__label-arrow:before {content: \"▾\";}#sk-container-id-4 div.sk-estimator input.sk-toggleable__control:checked~label.sk-toggleable__label {background-color: #d4ebff;}#sk-container-id-4 div.sk-label input.sk-toggleable__control:checked~label.sk-toggleable__label {background-color: #d4ebff;}#sk-container-id-4 input.sk-hidden--visually {border: 0;clip: rect(1px 1px 1px 1px);clip: rect(1px, 1px, 1px, 1px);height: 1px;margin: -1px;overflow: hidden;padding: 0;position: absolute;width: 1px;}#sk-container-id-4 div.sk-estimator {font-family: monospace;background-color: #f0f8ff;border: 1px dotted black;border-radius: 0.25em;box-sizing: border-box;margin-bottom: 0.5em;}#sk-container-id-4 div.sk-estimator:hover {background-color: #d4ebff;}#sk-container-id-4 div.sk-parallel-item::after {content: \"\";width: 100%;border-bottom: 1px solid gray;flex-grow: 1;}#sk-container-id-4 div.sk-label:hover label.sk-toggleable__label {background-color: #d4ebff;}#sk-container-id-4 div.sk-serial::before {content: \"\";position: absolute;border-left: 1px solid gray;box-sizing: border-box;top: 0;bottom: 0;left: 50%;z-index: 0;}#sk-container-id-4 div.sk-serial {display: flex;flex-direction: column;align-items: center;background-color: white;padding-right: 0.2em;padding-left: 0.2em;position: relative;}#sk-container-id-4 div.sk-item {position: relative;z-index: 1;}#sk-container-id-4 div.sk-parallel {display: flex;align-items: stretch;justify-content: center;background-color: white;position: relative;}#sk-container-id-4 div.sk-item::before, #sk-container-id-4 div.sk-parallel-item::before {content: \"\";position: absolute;border-left: 1px solid gray;box-sizing: border-box;top: 0;bottom: 0;left: 50%;z-index: -1;}#sk-container-id-4 div.sk-parallel-item {display: flex;flex-direction: column;z-index: 1;position: relative;background-color: white;}#sk-container-id-4 div.sk-parallel-item:first-child::after {align-self: flex-end;width: 50%;}#sk-container-id-4 div.sk-parallel-item:last-child::after {align-self: flex-start;width: 50%;}#sk-container-id-4 div.sk-parallel-item:only-child::after {width: 0;}#sk-container-id-4 div.sk-dashed-wrapped {border: 1px dashed gray;margin: 0 0.4em 0.5em 0.4em;box-sizing: border-box;padding-bottom: 0.4em;background-color: white;}#sk-container-id-4 div.sk-label label {font-family: monospace;font-weight: bold;display: inline-block;line-height: 1.2em;}#sk-container-id-4 div.sk-label-container {text-align: center;}#sk-container-id-4 div.sk-container {/* jupyter's `normalize.less` sets `[hidden] { display: none; }` but bootstrap.min.css set `[hidden] { display: none !important; }` so we also need the `!important` here to be able to override the default hidden behavior on the sphinx rendered scikit-learn.org. See: https://github.com/scikit-learn/scikit-learn/issues/21755 */display: inline-block !important;position: relative;}#sk-container-id-4 div.sk-text-repr-fallback {display: none;}</style><div id=\"sk-container-id-4\" class=\"sk-top-container\"><div class=\"sk-text-repr-fallback\"><pre>GridSearchCV(cv=10, estimator=RandomForestClassifier(random_state=42),\n",
       "             n_jobs=-1,\n",
       "             param_grid={&#x27;max_depth&#x27;: [None, 10, 20],\n",
       "                         &#x27;min_samples_split&#x27;: [2, 5, 19],\n",
       "                         &#x27;n_estimators&#x27;: [50, 100, 200]},\n",
       "             scoring=&#x27;accuracy&#x27;)</pre><b>In a Jupyter environment, please rerun this cell to show the HTML representation or trust the notebook. <br />On GitHub, the HTML representation is unable to render, please try loading this page with nbviewer.org.</b></div><div class=\"sk-container\" hidden><div class=\"sk-item sk-dashed-wrapped\"><div class=\"sk-label-container\"><div class=\"sk-label sk-toggleable\"><input class=\"sk-toggleable__control sk-hidden--visually\" id=\"sk-estimator-id-10\" type=\"checkbox\" ><label for=\"sk-estimator-id-10\" class=\"sk-toggleable__label sk-toggleable__label-arrow\">GridSearchCV</label><div class=\"sk-toggleable__content\"><pre>GridSearchCV(cv=10, estimator=RandomForestClassifier(random_state=42),\n",
       "             n_jobs=-1,\n",
       "             param_grid={&#x27;max_depth&#x27;: [None, 10, 20],\n",
       "                         &#x27;min_samples_split&#x27;: [2, 5, 19],\n",
       "                         &#x27;n_estimators&#x27;: [50, 100, 200]},\n",
       "             scoring=&#x27;accuracy&#x27;)</pre></div></div></div><div class=\"sk-parallel\"><div class=\"sk-parallel-item\"><div class=\"sk-item\"><div class=\"sk-label-container\"><div class=\"sk-label sk-toggleable\"><input class=\"sk-toggleable__control sk-hidden--visually\" id=\"sk-estimator-id-11\" type=\"checkbox\" ><label for=\"sk-estimator-id-11\" class=\"sk-toggleable__label sk-toggleable__label-arrow\">estimator: RandomForestClassifier</label><div class=\"sk-toggleable__content\"><pre>RandomForestClassifier(random_state=42)</pre></div></div></div><div class=\"sk-serial\"><div class=\"sk-item\"><div class=\"sk-estimator sk-toggleable\"><input class=\"sk-toggleable__control sk-hidden--visually\" id=\"sk-estimator-id-12\" type=\"checkbox\" ><label for=\"sk-estimator-id-12\" class=\"sk-toggleable__label sk-toggleable__label-arrow\">RandomForestClassifier</label><div class=\"sk-toggleable__content\"><pre>RandomForestClassifier(random_state=42)</pre></div></div></div></div></div></div></div></div></div></div>"
      ],
      "text/plain": [
       "GridSearchCV(cv=10, estimator=RandomForestClassifier(random_state=42),\n",
       "             n_jobs=-1,\n",
       "             param_grid={'max_depth': [None, 10, 20],\n",
       "                         'min_samples_split': [2, 5, 19],\n",
       "                         'n_estimators': [50, 100, 200]},\n",
       "             scoring='accuracy')"
      ]
     },
     "execution_count": 93,
     "metadata": {},
     "output_type": "execute_result"
    }
   ],
   "source": [
    "rf_cv = GridSearchCV(rf, parameters, cv=10, scoring='accuracy', n_jobs=-1)\n",
    "\n",
    "# Fit the model\n",
    "rf_cv.fit(X_train, y_train)\n"
   ]
  },
  {
   "cell_type": "code",
   "execution_count": 94,
   "id": "1e032058",
   "metadata": {
    "execution": {
     "iopub.execute_input": "2025-02-02T16:12:17.235343Z",
     "iopub.status.busy": "2025-02-02T16:12:17.234884Z",
     "iopub.status.idle": "2025-02-02T16:12:17.241453Z",
     "shell.execute_reply": "2025-02-02T16:12:17.239658Z"
    },
    "papermill": {
     "duration": 0.051456,
     "end_time": "2025-02-02T16:12:17.243734",
     "exception": false,
     "start_time": "2025-02-02T16:12:17.192278",
     "status": "completed"
    },
    "tags": []
   },
   "outputs": [
    {
     "name": "stdout",
     "output_type": "stream",
     "text": [
      "Best parameters: {'max_depth': None, 'min_samples_split': 2, 'n_estimators': 50}\n",
      "Best accuracy score: 0.8800\n"
     ]
    }
   ],
   "source": [
    "print(f\"Best parameters: {rf_cv.best_params_}\")\n",
    "print(f\"Best accuracy score: {rf_cv.best_score_:.4f}\")\n"
   ]
  },
  {
   "cell_type": "code",
   "execution_count": 95,
   "id": "3c391a01",
   "metadata": {
    "execution": {
     "iopub.execute_input": "2025-02-02T16:12:17.325528Z",
     "iopub.status.busy": "2025-02-02T16:12:17.325049Z",
     "iopub.status.idle": "2025-02-02T16:12:17.337643Z",
     "shell.execute_reply": "2025-02-02T16:12:17.336169Z"
    },
    "papermill": {
     "duration": 0.05473,
     "end_time": "2025-02-02T16:12:17.339605",
     "exception": false,
     "start_time": "2025-02-02T16:12:17.284875",
     "status": "completed"
    },
    "tags": []
   },
   "outputs": [
    {
     "name": "stdout",
     "output_type": "stream",
     "text": [
      "Test Accuracy : 0.8889\n"
     ]
    }
   ],
   "source": [
    "accuracy = rf_cv.score(X_test, y_test)\n",
    "print(f\"Test Accuracy : {accuracy:.4f}\")"
   ]
  },
  {
   "cell_type": "code",
   "execution_count": 96,
   "id": "97ea2bc4",
   "metadata": {
    "execution": {
     "iopub.execute_input": "2025-02-02T16:12:17.422473Z",
     "iopub.status.busy": "2025-02-02T16:12:17.422014Z",
     "iopub.status.idle": "2025-02-02T16:12:17.636233Z",
     "shell.execute_reply": "2025-02-02T16:12:17.634734Z"
    },
    "papermill": {
     "duration": 0.258033,
     "end_time": "2025-02-02T16:12:17.638341",
     "exception": false,
     "start_time": "2025-02-02T16:12:17.380308",
     "status": "completed"
    },
    "tags": []
   },
   "outputs": [
    {
     "data": {
      "image/png": "[encoded data removed]",
      "text/plain": [
       "<Figure size 640x480 with 2 Axes>"
      ]
     },
     "metadata": {},
     "output_type": "display_data"
    }
   ],
   "source": [
    "y_pred = rf_cv.predict(X_test)\n",
    "plot_confusion_matrix(y_test,y_pred)"
   ]
  },
  {
   "cell_type": "markdown",
   "id": "2efad399",
   "metadata": {
    "papermill": {
     "duration": 0.040433,
     "end_time": "2025-02-02T16:12:17.719554",
     "exception": false,
     "start_time": "2025-02-02T16:12:17.679121",
     "status": "completed"
    },
    "tags": []
   },
   "source": [
    "### Finding the Best Model"
   ]
  },
  {
   "cell_type": "code",
   "execution_count": 97,
   "id": "402701eb",
   "metadata": {
    "execution": {
     "iopub.execute_input": "2025-02-02T16:12:17.805757Z",
     "iopub.status.busy": "2025-02-02T16:12:17.805285Z",
     "iopub.status.idle": "2025-02-02T16:12:17.814337Z",
     "shell.execute_reply": "2025-02-02T16:12:17.812662Z"
    },
    "papermill": {
     "duration": 0.054303,
     "end_time": "2025-02-02T16:12:17.816426",
     "exception": false,
     "start_time": "2025-02-02T16:12:17.762123",
     "status": "completed"
    },
    "tags": []
   },
   "outputs": [
    {
     "name": "stdout",
     "output_type": "stream",
     "text": [
      "Logistic Regression Best Score: 0.8467\n",
      "SVM Best Score: 0.8967\n",
      "KNN Best Score: 0.8633\n",
      "Random Forest Best Score: 0.8800\n",
      "\n",
      "Best Model Overall:\n",
      "Best Model: SVC(gamma=0.03162277660168379, kernel='sigmoid')\n",
      "Best Score : 0.8967\n",
      "Best Parameters : {'C': 1.0, 'gamma': 0.03162277660168379, 'kernel': 'sigmoid'}\n"
     ]
    }
   ],
   "source": [
    "models = {\n",
    "    \"Logistic Regression\" : logrog_cv,\n",
    "    \"SVM\" : svm_cv,\n",
    "    \"KNN\" : knn_cv,\n",
    "    \"Random Forest\" : rf_cv\n",
    "}\n",
    "\n",
    "best_model = None\n",
    "best_score = 0\n",
    "best_params = {}\n",
    "\n",
    "for model_name, model_cv in models.items():\n",
    "    print(f\"{model_name} Best Score: {model_cv.best_score_:.4f}\")\n",
    "    if model_cv.best_score_ > best_score:\n",
    "        best_score = model_cv.best_score_\n",
    "        best_model = model_cv.best_estimator_\n",
    "        best_params = model_cv.best_params_\n",
    "\n",
    "print(\"\\nBest Model Overall:\")\n",
    "print(f\"Best Model: {best_model}\")\n",
    "print(f\"Best Score : {best_score:.4f}\")\n",
    "print(f\"Best Parameters : {best_params}\")"
   ]
  },
  {
   "cell_type": "code",
   "execution_count": null,
   "id": "5e14c41f",
   "metadata": {
    "papermill": {
     "duration": 0.042901,
     "end_time": "2025-02-02T16:12:17.901238",
     "exception": false,
     "start_time": "2025-02-02T16:12:17.858337",
     "status": "completed"
    },
    "tags": []
   },
   "outputs": [],
   "source": []
  },
  {
   "cell_type": "code",
   "execution_count": null,
   "id": "d1e9cc89",
   "metadata": {
    "papermill": {
     "duration": 0.040742,
     "end_time": "2025-02-02T16:12:17.984454",
     "exception": false,
     "start_time": "2025-02-02T16:12:17.943712",
     "status": "completed"
    },
    "tags": []
   },
   "outputs": [],
   "source": []
  }
 ],
 "metadata": {
  "kaggle": {
   "accelerator": "none",
   "dataSources": [],
   "dockerImageVersionId": 30839,
   "isGpuEnabled": false,
   "isInternetEnabled": true,
   "language": "python",
   "sourceType": "notebook"
  },
  "kernelspec": {
   "display_name": "Python 3",
   "language": "python",
   "name": "python3"
  },
  "language_info": {
   "codemirror_mode": {
    "name": "ipython",
    "version": 3
   },
   "file_extension": ".py",
   "mimetype": "text/x-python",
   "name": "python",
   "nbconvert_exporter": "python",
   "pygments_lexer": "ipython3",
   "version": "3.10.12"
  },
  "papermill": {
   "default_parameters": {},
   "duration": 104.549613,
   "end_time": "2025-02-02T16:12:19.053651",
   "environment_variables": {},
   "exception": null,
   "input_path": "__notebook__.ipynb",
   "output_path": "__notebook__.ipynb",
   "parameters": {},
   "start_time": "2025-02-02T16:10:34.504038",
   "version": "2.6.0"
  }
 },
 "nbformat": 4,
 "nbformat_minor": 5
}
